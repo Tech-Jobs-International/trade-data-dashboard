{
 "cells": [
  {
   "cell_type": "markdown",
   "metadata": {
    "id": "Wv7bcsGVzYrj"
   },
   "source": [
    "Labor force effect on import production\n",
    "====================================================================================="
   ]
  },
  {
   "cell_type": "markdown",
   "metadata": {
    "id": "WH8rZuM0vzqx"
   },
   "source": [
    "## Introduction\n",
    "This notebook aims to provide insight on the practically of the United State of America (USA) being able to produce it's imports products and services internal thereby improving the gross domestic product (GDP) of the USA\n",
    "\n",
    "\n"
   ]
  },
  {
   "cell_type": "markdown",
   "metadata": {
    "id": "cikMWSeUOHSz"
   },
   "source": [
    "##  Objectives\n",
    "\n",
    "\n",
    "1.   How many productive hours will it take the USA to produce its imports internally.\n",
    "2.   What is the percentage increase in the hours worked if the imports are produced internally.\n",
    "3.   What is the implication of this on the labour force in the USA"
   ]
  },
  {
   "cell_type": "markdown",
   "metadata": {
    "id": "Ru6zXRBpONqC"
   },
   "source": [
    "## Prerequisites\n",
    "To follow along, you should have a basic understanding of Python, data analysis libraries like Pandas, numpy etc and knowledge of Scikit learn for Marching Learning.\n"
   ]
  },
  {
   "cell_type": "markdown",
   "metadata": {
    "id": "oz2yGlbe5www"
   },
   "source": [
    "# Data\n",
    "Here is a list of data used to achieve the objective of this study\n",
    "\n",
    "1.   Trade Data - Both goods and services - https://comtradeplus.un.org/\n",
    "2.   GDP at constant 2015 - https://databank.worldbank.org/source/world-development-indicators#\n",
    "3.   GDP per Capita - https://databank.worldbank.org/source/world-development-indicators#\n",
    "4.   Population - https://rshiny.ilo.org/dataexplorer22/?lang=en&id=HOW_UEMP_SEX_NB_A\n",
    "5.   Labor Force Data - https://rshiny.ilo.org/dataexplorer22/?lang=en&id=HOW_UEMP_SEX_NB_A\n",
    "6.   Export value index (2015 = 100) - https://data.worldbank.org/indicator/TX.VAL.MRCH.XD.WD\n",
    "\n"
   ]
  },
  {
   "cell_type": "markdown",
   "metadata": {
    "id": "HWADVl5uz5ip"
   },
   "source": [
    "## Data Description\n",
    "\n",
    "## GDP data\n",
    "This data records the montary and market value of all finished good and services produce within a country at a perticular point in time.\n",
    "\n",
    "### GDP per capita Data\n",
    "This data is determine by the amount generate per household within an ecomomy. This is gotten by dividing the GDP by the toal population within an economy. It will be used to train the dataset to determine or predict the GDP per hour for countries the GDPper hour can not be determined for.\n",
    "\n",
    "### Trade Data\n",
    "This notebook leverages the United Nations Comtrade Database and OECD database to explore import data for the United States.\n",
    "\n",
    "### Products data\n",
    "The United Nations Comtrade Database is one of the world’s largest and most comprehensive sources of international trade data, maintained by the United Nations Statistics Division (UNSD). It provides detailed information on trade flows between countries, covering thousands of products and services traded worldwide. - https://comtradeplus.un.org/\n",
    "\n",
    "### Services data\n",
    "Trade in services records the value of services exchanged between residents and non-residents of an economy, including services provided through foreign affiliates established abroad. - https://www.oecd.org/en/data/indicators/trade-in-services.\n",
    "\n",
    "## Export value index (2015 = 100)\n",
    "https://databank.worldbank.org/source/world-development-indicators\n",
    "\n",
    "The Export Value Index (EVI) is an economic indicator that measures changes in the value of a country’s exports over time, with 2015 set as the base year (index = 100). EVI captures both price changes (e.g., inflation or price changes of commodities) and changes in the volume of exported goods, providing a broad measure of export trends.\n"
   ]
  },
  {
   "cell_type": "code",
   "execution_count": 3,
   "metadata": {
    "executionInfo": {
     "elapsed": 13387,
     "status": "ok",
     "timestamp": 1731060433634,
     "user": {
      "displayName": "Oluwatobiloba Odeyemi",
      "userId": "00587895885485655319"
     },
     "user_tz": -60
    },
    "id": "52_hzezjuVwm"
   },
   "outputs": [],
   "source": [
    "# Import pacakged\n",
    "import requests\n",
    "import pandas as pd\n",
    "import numpy as np\n",
    "import json\n",
    "from io import StringIO\n",
    "import plotly.express as px\n",
    "import statsmodels.api as sm\n",
    "import comtradeapicall\n",
    "\n",
    "#model trainning packages\n",
    "from sklearn.linear_model import Ridge\n",
    "from sklearn.ensemble import RandomForestRegressor\n",
    "from sklearn.model_selection import train_test_split, GridSearchCV\n",
    "from sklearn.metrics import mean_absolute_error,r2_score,mean_squared_error\n",
    "\n"
   ]
  },
  {
   "cell_type": "markdown",
   "metadata": {
    "id": "MGTC-JXpO4j_"
   },
   "source": [
    "# Data extraction\n",
    "we are going to load the following datasets ....."
   ]
  },
  {
   "cell_type": "code",
   "execution_count": 4,
   "metadata": {
    "executionInfo": {
     "elapsed": 4356,
     "status": "ok",
     "timestamp": 1731060475452,
     "user": {
      "displayName": "Oluwatobiloba Odeyemi",
      "userId": "00587895885485655319"
     },
     "user_tz": -60
    },
    "id": "3HP1eQaTuVwr"
   },
   "outputs": [],
   "source": [
    " #API Calls and Data Calls\n",
    "working_age_population_url = 'https://rplumber.ilo.org/data/indicator/?id=POP_XWAP_SEX_AGE_NB_A&type=label&format=.csv'\n",
    "avg_weekly_hours_url = 'https://rplumber.ilo.org/data/indicator/?id=HOW_XEES_SEX_NB_A&type=label&format=.csv'\n",
    "country_code_db = pd.read_csv(\"Data/country_code_db.csv\")\n",
    "GDP = pd.read_csv(\"Data/GDP at 2015 constant price 2022.csv\")\n",
    "GDP_per_capita = pd.read_excel('Data/GDP per capita constant 2015.xlsx', sheet_name='Data')\n",
    "\n",
    "#Comtrade Data call\n",
    "f = open('Data/HS (1).json',encoding='utf-8')\n",
    "path2 = 'Data/country_codes_V202401b (2).csv'\n",
    "\n",
    "# export index\n",
    "index_df = pd.read_csv('Data/d7f111f0-1329-4004-a6dc-a355f2385ec2_Data.csv')\n",
    "\n",
    "# service Data\n",
    "services_df = pd.read_csv('Data/Commercial Services 7.31.2024.csv')\n",
    "\n"
   ]
  },
  {
   "cell_type": "markdown",
   "metadata": {
    "id": "OLhLEjFRuHSD"
   },
   "source": [
    "## Confirm that data extraction for working population and average weekly hours are successfully extracted"
   ]
  },
  {
   "cell_type": "code",
   "execution_count": 5,
   "metadata": {
    "colab": {
     "base_uri": "https://localhost:8080/"
    },
    "executionInfo": {
     "elapsed": 6812,
     "status": "ok",
     "timestamp": 1731060487284,
     "user": {
      "displayName": "Oluwatobiloba Odeyemi",
      "userId": "00587895885485655319"
     },
     "user_tz": -60
    },
    "id": "s6g_ArNruVws",
    "outputId": "89dba7b0-06ed-460d-b8e9-a4b5bf00d633"
   },
   "outputs": [
    {
     "name": "stdout",
     "output_type": "stream",
     "text": [
      "Data fetched successfully!\n",
      "Data fetched successfully!\n"
     ]
    }
   ],
   "source": [
    "\n",
    "# Fetching the data from the ILO API\n",
    "working_population_response = requests.get(working_age_population_url)\n",
    "avg_weekly_hours_response   = requests.get(avg_weekly_hours_url)\n",
    "\n",
    "# Check for successful working_population_response\n",
    "if working_population_response.status_code == 200:\n",
    "    try:\n",
    "        wp_text= working_population_response.text\n",
    "        data = StringIO(wp_text)\n",
    "        # Convert dataset to DataFrame\n",
    "        print(\"Data fetched successfully!\")\n",
    "        wp_df = pd.read_csv(data)\n",
    "    except json.JSONDecodeError as e:\n",
    "        print(f\"Error parsing JSON: {e}\")\n",
    "        print(working_population_response.text)  # Debug by printing raw response\n",
    "else:\n",
    "     print(f\"Failed to fetch data: {working_population_response.status_code}\")\n",
    "\n",
    "\n",
    "# Check for successful averager_work_hours_response\n",
    "if avg_weekly_hours_response.status_code == 200:\n",
    "    try:\n",
    "        wh_text= avg_weekly_hours_response.text\n",
    "        data = StringIO(wh_text)\n",
    "        # Convert dataset to DataFrame\n",
    "        print(\"Data fetched successfully!\")\n",
    "        wh_df = pd.read_csv(data)\n",
    "    except json.JSONDecodeError as e:\n",
    "        print(f\"Error parsing JSON: {e}\")\n",
    "        print(avg_weekly_hours_response.text)  # Debug by printing raw response\n",
    "else:\n",
    "    print(f\"Failed to fetch data: {avg_weekly_hours_response.status_code}\")\n"
   ]
  },
  {
   "cell_type": "markdown",
   "metadata": {
    "id": "-W7Virf_ulzk"
   },
   "source": [
    "## Helper function to clearn extracted data for working population, avg weekly working hours and GDP"
   ]
  },
  {
   "cell_type": "code",
   "execution_count": 6,
   "metadata": {
    "executionInfo": {
     "elapsed": 7,
     "status": "ok",
     "timestamp": 1731060487285,
     "user": {
      "displayName": "Oluwatobiloba Odeyemi",
      "userId": "00587895885485655319"
     },
     "user_tz": -60
    },
    "id": "beaSBi3muVwt"
   },
   "outputs": [],
   "source": [
    "# gdp_per_hour calculation\n",
    "class GDPPerHour:\n",
    "    \"\"\"\n",
    "    This class gdp-per_hour is the algorithm for cleaning, calculating and trainning gdp per hour.\n",
    "    It will take each data sources. These sources are\n",
    "    1. International Labour Organisation (ILO) data for working age population\n",
    "    2. ILO data for average weekly hours worked\n",
    "    3. CSV download of GDP from the Worldbank\n",
    "    \"\"\"\n",
    "    def __init__(self,wp_data = 'None', wh_data = 'None', GDP = 'None'):\n",
    "        self.wp_data = wp_data\n",
    "        self.wh_data = wh_data\n",
    "        self.GDP = GDP\n",
    "\n",
    "\n",
    "    \"\"\"\n",
    "    Function for Data cleaning and exploration for working population\n",
    "    \"\"\"\n",
    "\n",
    "    #Function to clean data for working population\n",
    "    def Clean_wp_data(self):\n",
    "\n",
    "        # Copy the data to avoid changing the original DataFrame outside the function scope\n",
    "        wp_data = self.wp_data.copy()\n",
    "\n",
    "        # change columns name\n",
    "        wp_data.rename(columns={\n",
    "                        'ref_area.label': 'country',\n",
    "                        'source.label': 'source',\n",
    "                        'obs_value' : 'no_working_population',\n",
    "                        'indicator.label' : 'description',\n",
    "                        'sex.label' : 'gender',\n",
    "                        'time':'year',\n",
    "                        'note_source.label': 'note_to_description',\n",
    "                        'classif1.label':'category'\n",
    "                    },inplace=True)\n",
    "\n",
    "        #drop unused columns\n",
    "        columns_to_drop = ['obs_status.label', 'note_classif.label','note_indicator.label']\n",
    "        wp_data.drop(columns=columns_to_drop, inplace=True)\n",
    "\n",
    "        #Multiply the no_working_population by a thousand\n",
    "        wp_data['no_working_population'] = wp_data['no_working_population'].apply(lambda x: x*1000)\n",
    "\n",
    "        # Remove the first 5 characters from the 'code' column\n",
    "        wp_data['gender'] = wp_data['gender'].str[5:]\n",
    "\n",
    "        # #filter the gender to only select totals and category data to only select Age (Youth, adults): 15+\n",
    "        filtered_data = wp_data[\n",
    "            (wp_data['gender'] == 'Total') &\n",
    "            (wp_data['category'] == 'Age (Youth, adults): 15+') &\n",
    "            (wp_data['year'] <= 2022)\n",
    "        ]\n",
    "        # Sort the filter_data by country and year\n",
    "        filtered_data.sort_values(by=['country', 'year'], inplace=True)\n",
    "\n",
    "        # Create 'RowNumber' within each 'Category' partition\n",
    "        filtered_data['RowNumber'] = filtered_data.groupby('country').cumcount() + 1\n",
    "\n",
    "        # Find the maximum RowNumber for each Country\n",
    "        max_rownumber = filtered_data.groupby('country')['RowNumber'].max().reset_index()\n",
    "\n",
    "        # Merge to get rows with the max RowNumber per country\n",
    "        filtered_data = pd.merge(filtered_data, max_rownumber, on=['country', 'RowNumber'], how='inner')\n",
    "\n",
    "        return filtered_data\n",
    "\n",
    "    \"\"\"\n",
    "    Function for Data cleaning and exploration for avaragle weekly hours converted to yearly weekly hours\n",
    "    \"\"\"\n",
    "    #Function to clean data for average weekly hours and convert it to average annual hours\n",
    "    def Clean_wh_data(self):\n",
    "\n",
    "        # Copy the data to avoid changing the original DataFrame outside the function scope\n",
    "        wh_data = self.wh_data.copy()\n",
    "        # change columns name\n",
    "        wh_data.rename(columns={\n",
    "                        'ref_area.label': 'country',\n",
    "                        'source.label': 'source',\n",
    "                        'obs_value' : 'average_weekly_hours',\n",
    "                        'indicator.label' : 'description',\n",
    "                        'sex.label' : 'gender',\n",
    "                        'time':'year',\n",
    "                        'note_source.label': 'note_to_description',\n",
    "                    },inplace=True)\n",
    "\n",
    "        #drop unused columns\n",
    "        columns_to_drop = ['obs_status.label','note_indicator.label']\n",
    "        wh_data.drop(columns=columns_to_drop, inplace=True)\n",
    "\n",
    "        #Create a new column and multiply the no_working_population by a thousand\n",
    "        wh_data['average_yearly_hours'] = wh_data['average_weekly_hours'].apply(lambda x: x*52)\n",
    "\n",
    "        # Remove the first 5 characters from the 'code' column\n",
    "        wh_data['gender'] = wh_data['gender'].str[5:]\n",
    "\n",
    "        # #filter the gender to only select totals and category data to only select Age (Youth, adults): 15+\n",
    "        filtered_data = wh_data[\n",
    "        (wh_data['gender'] == 'Total') &\n",
    "        (wh_data['year'] <= 2022)\n",
    "        ]\n",
    "        # Sort the filter_data by country and year\n",
    "        filtered_data.sort_values(by=['country', 'year'], inplace=True)\n",
    "\n",
    "        # Create 'RowNumber' within each 'Category' partition\n",
    "        filtered_data['RowNumber'] = filtered_data.groupby('country').cumcount() + 1\n",
    "\n",
    "        # Find the maximum RowNumber for each Country\n",
    "        max_rownumber = filtered_data.groupby('country')['RowNumber'].max().reset_index()\n",
    "\n",
    "        # Merge to get rows with the max RowNumber per country\n",
    "        filtered_data = pd.merge(filtered_data, max_rownumber, on=['country', 'RowNumber'], how='inner')\n",
    "\n",
    "        return filtered_data\n",
    "\n",
    "    def GDP_clean(self):\n",
    "        # Copy the data to avoid changing the original DataFrame outside the function scope\n",
    "        new_GDP = self.GDP.copy()\n",
    "\n",
    "        #rename columns from the new_GDP dataset\n",
    "        new_GDP.rename(columns={\n",
    "                        'Country/Area': 'country',\n",
    "                        'Imports of goods and services': 'total_imports',\n",
    "                        'Gross Domestic Product (GDP)' : 'GDP_USD',\n",
    "                        'Year':'year_gdp'\n",
    "                    },inplace=True)\n",
    "        return new_GDP\n"
   ]
  },
  {
   "cell_type": "markdown",
   "metadata": {
    "id": "IN7WouiCu2qP"
   },
   "source": [
    "## Merge extracted data for working population, avg weekly working hours and GDP"
   ]
  },
  {
   "cell_type": "code",
   "execution_count": 7,
   "metadata": {
    "colab": {
     "base_uri": "https://localhost:8080/",
     "height": 843
    },
    "executionInfo": {
     "elapsed": 814,
     "status": "ok",
     "timestamp": 1731060497524,
     "user": {
      "displayName": "Oluwatobiloba Odeyemi",
      "userId": "00587895885485655319"
     },
     "user_tz": -60
    },
    "id": "SK6uEievuVwu",
    "outputId": "56062c8f-dbf5-4473-dbb1-bfbbca073b28"
   },
   "outputs": [
    {
     "name": "stderr",
     "output_type": "stream",
     "text": [
      "C:\\Users\\PC\\AppData\\Local\\Temp\\ipykernel_12956\\4015528534.py:103: SettingWithCopyWarning: \n",
      "A value is trying to be set on a copy of a slice from a DataFrame\n",
      "\n",
      "See the caveats in the documentation: https://pandas.pydata.org/pandas-docs/stable/user_guide/indexing.html#returning-a-view-versus-a-copy\n",
      "  filtered_data.sort_values(by=['country', 'year'], inplace=True)\n",
      "C:\\Users\\PC\\AppData\\Local\\Temp\\ipykernel_12956\\4015528534.py:106: SettingWithCopyWarning: \n",
      "A value is trying to be set on a copy of a slice from a DataFrame.\n",
      "Try using .loc[row_indexer,col_indexer] = value instead\n",
      "\n",
      "See the caveats in the documentation: https://pandas.pydata.org/pandas-docs/stable/user_guide/indexing.html#returning-a-view-versus-a-copy\n",
      "  filtered_data['RowNumber'] = filtered_data.groupby('country').cumcount() + 1\n",
      "C:\\Users\\PC\\AppData\\Local\\Temp\\ipykernel_12956\\4015528534.py:55: SettingWithCopyWarning: \n",
      "A value is trying to be set on a copy of a slice from a DataFrame\n",
      "\n",
      "See the caveats in the documentation: https://pandas.pydata.org/pandas-docs/stable/user_guide/indexing.html#returning-a-view-versus-a-copy\n",
      "  filtered_data.sort_values(by=['country', 'year'], inplace=True)\n",
      "C:\\Users\\PC\\AppData\\Local\\Temp\\ipykernel_12956\\4015528534.py:58: SettingWithCopyWarning: \n",
      "A value is trying to be set on a copy of a slice from a DataFrame.\n",
      "Try using .loc[row_indexer,col_indexer] = value instead\n",
      "\n",
      "See the caveats in the documentation: https://pandas.pydata.org/pandas-docs/stable/user_guide/indexing.html#returning-a-view-versus-a-copy\n",
      "  filtered_data['RowNumber'] = filtered_data.groupby('country').cumcount() + 1\n"
     ]
    },
    {
     "data": {
      "text/html": [
       "<div>\n",
       "<style scoped>\n",
       "    .dataframe tbody tr th:only-of-type {\n",
       "        vertical-align: middle;\n",
       "    }\n",
       "\n",
       "    .dataframe tbody tr th {\n",
       "        vertical-align: top;\n",
       "    }\n",
       "\n",
       "    .dataframe thead th {\n",
       "        text-align: right;\n",
       "    }\n",
       "</style>\n",
       "<table border=\"1\" class=\"dataframe\">\n",
       "  <thead>\n",
       "    <tr style=\"text-align: right;\">\n",
       "      <th></th>\n",
       "      <th>country</th>\n",
       "      <th>year_total_working_hours</th>\n",
       "      <th>total_yearly_hours</th>\n",
       "      <th>year_gdp</th>\n",
       "      <th>GDP_USD</th>\n",
       "      <th>GDP_per_hour</th>\n",
       "      <th>country_iso3</th>\n",
       "    </tr>\n",
       "  </thead>\n",
       "  <tbody>\n",
       "    <tr>\n",
       "      <th>0</th>\n",
       "      <td>Afghanistan</td>\n",
       "      <td>2021</td>\n",
       "      <td>3.563754e+10</td>\n",
       "      <td>2022.0</td>\n",
       "      <td>1.604898e+10</td>\n",
       "      <td>0.450339</td>\n",
       "      <td>AFG</td>\n",
       "    </tr>\n",
       "    <tr>\n",
       "      <th>1</th>\n",
       "      <td>Albania</td>\n",
       "      <td>2020</td>\n",
       "      <td>5.337159e+09</td>\n",
       "      <td>2022.0</td>\n",
       "      <td>1.431983e+10</td>\n",
       "      <td>2.683043</td>\n",
       "      <td>ALB</td>\n",
       "    </tr>\n",
       "    <tr>\n",
       "      <th>2</th>\n",
       "      <td>Angola</td>\n",
       "      <td>2021</td>\n",
       "      <td>4.204829e+10</td>\n",
       "      <td>2022.0</td>\n",
       "      <td>1.089901e+11</td>\n",
       "      <td>2.592022</td>\n",
       "      <td>AGO</td>\n",
       "    </tr>\n",
       "    <tr>\n",
       "      <th>3</th>\n",
       "      <td>Argentina</td>\n",
       "      <td>2022</td>\n",
       "      <td>4.312327e+10</td>\n",
       "      <td>2022.0</td>\n",
       "      <td>6.487673e+11</td>\n",
       "      <td>15.044482</td>\n",
       "      <td>ARG</td>\n",
       "    </tr>\n",
       "    <tr>\n",
       "      <th>4</th>\n",
       "      <td>Armenia</td>\n",
       "      <td>2021</td>\n",
       "      <td>4.559262e+09</td>\n",
       "      <td>2022.0</td>\n",
       "      <td>1.423863e+10</td>\n",
       "      <td>3.123011</td>\n",
       "      <td>ARM</td>\n",
       "    </tr>\n",
       "    <tr>\n",
       "      <th>...</th>\n",
       "      <td>...</td>\n",
       "      <td>...</td>\n",
       "      <td>...</td>\n",
       "      <td>...</td>\n",
       "      <td>...</td>\n",
       "      <td>...</td>\n",
       "      <td>...</td>\n",
       "    </tr>\n",
       "    <tr>\n",
       "      <th>149</th>\n",
       "      <td>Viet Nam</td>\n",
       "      <td>2022</td>\n",
       "      <td>1.799748e+11</td>\n",
       "      <td>2022.0</td>\n",
       "      <td>3.589184e+11</td>\n",
       "      <td>1.994271</td>\n",
       "      <td>VNM</td>\n",
       "    </tr>\n",
       "    <tr>\n",
       "      <th>150</th>\n",
       "      <td>Wallis and Futuna</td>\n",
       "      <td>2019</td>\n",
       "      <td>1.626898e+07</td>\n",
       "      <td>NaN</td>\n",
       "      <td>0.000000e+00</td>\n",
       "      <td>0.000000</td>\n",
       "      <td>WLF</td>\n",
       "    </tr>\n",
       "    <tr>\n",
       "      <th>151</th>\n",
       "      <td>Yemen</td>\n",
       "      <td>2014</td>\n",
       "      <td>2.877944e+10</td>\n",
       "      <td>2022.0</td>\n",
       "      <td>1.929419e+10</td>\n",
       "      <td>0.670416</td>\n",
       "      <td>YEM</td>\n",
       "    </tr>\n",
       "    <tr>\n",
       "      <th>152</th>\n",
       "      <td>Zambia</td>\n",
       "      <td>2022</td>\n",
       "      <td>2.584259e+10</td>\n",
       "      <td>2022.0</td>\n",
       "      <td>2.572686e+10</td>\n",
       "      <td>0.995522</td>\n",
       "      <td>ZMB</td>\n",
       "    </tr>\n",
       "    <tr>\n",
       "      <th>153</th>\n",
       "      <td>Zimbabwe</td>\n",
       "      <td>2022</td>\n",
       "      <td>2.301315e+10</td>\n",
       "      <td>2022.0</td>\n",
       "      <td>2.157238e+10</td>\n",
       "      <td>0.937394</td>\n",
       "      <td>ZWE</td>\n",
       "    </tr>\n",
       "  </tbody>\n",
       "</table>\n",
       "<p>154 rows × 7 columns</p>\n",
       "</div>"
      ],
      "text/plain": [
       "               country  year_total_working_hours  total_yearly_hours  \\\n",
       "0          Afghanistan                      2021        3.563754e+10   \n",
       "1              Albania                      2020        5.337159e+09   \n",
       "2               Angola                      2021        4.204829e+10   \n",
       "3            Argentina                      2022        4.312327e+10   \n",
       "4              Armenia                      2021        4.559262e+09   \n",
       "..                 ...                       ...                 ...   \n",
       "149           Viet Nam                      2022        1.799748e+11   \n",
       "150  Wallis and Futuna                      2019        1.626898e+07   \n",
       "151              Yemen                      2014        2.877944e+10   \n",
       "152             Zambia                      2022        2.584259e+10   \n",
       "153           Zimbabwe                      2022        2.301315e+10   \n",
       "\n",
       "     year_gdp       GDP_USD  GDP_per_hour country_iso3  \n",
       "0      2022.0  1.604898e+10      0.450339          AFG  \n",
       "1      2022.0  1.431983e+10      2.683043          ALB  \n",
       "2      2022.0  1.089901e+11      2.592022          AGO  \n",
       "3      2022.0  6.487673e+11     15.044482          ARG  \n",
       "4      2022.0  1.423863e+10      3.123011          ARM  \n",
       "..        ...           ...           ...          ...  \n",
       "149    2022.0  3.589184e+11      1.994271          VNM  \n",
       "150       NaN  0.000000e+00      0.000000          WLF  \n",
       "151    2022.0  1.929419e+10      0.670416          YEM  \n",
       "152    2022.0  2.572686e+10      0.995522          ZMB  \n",
       "153    2022.0  2.157238e+10      0.937394          ZWE  \n",
       "\n",
       "[154 rows x 7 columns]"
      ]
     },
     "execution_count": 7,
     "metadata": {},
     "output_type": "execute_result"
    }
   ],
   "source": [
    "\"\"\"\n",
    "This section is to merge both the working population  and average weekly hour dataframe\n",
    "Calculate the average yearly hour by multiplying the weekly hours by 52\n",
    "and also calculating the GDP per hour\n",
    "\"\"\"\n",
    "\n",
    "# Get Dataframe from GDPPerHour class object\n",
    "gdp_per_hour_class = GDPPerHour(wp_df,wh_df,GDP)\n",
    "cleaned_wh = gdp_per_hour_class.Clean_wh_data()\n",
    "cleaned_wp = gdp_per_hour_class.Clean_wp_data()\n",
    "new_GDP = gdp_per_hour_class.GDP_clean()\n",
    "\n",
    "#Merge the working population data with the hours worked data\n",
    "filtered_cleaned_wp = cleaned_wp.loc[:,['country','year','no_working_population']]\n",
    "filtered_cleaned_wh = cleaned_wh.loc[:,['country','year','average_yearly_hours','average_weekly_hours']]\n",
    "merged_data=pd.merge(filtered_cleaned_wp,filtered_cleaned_wh, on='country',how='left')\n",
    "merged_data.sort_values(by='country')\n",
    "\n",
    "#Calculate the total annual labour hours and total weekly labour hours\n",
    "merged_data['total_yearly_hours'] = merged_data['no_working_population'] * merged_data['average_yearly_hours']\n",
    "merged_data['total_weekly_hours'] = merged_data['no_working_population'] * merged_data['average_weekly_hours']\n",
    "\n",
    "#Replace country names to match worldbank country name in the 'country' column\n",
    "marged_data_replacements = {\n",
    "               'United States of America': 'United States',\n",
    "                'Eswatini': 'Kingdom of Eswatini',\n",
    "                'Iran (Islamic Republic of)': 'Iran, Islamic Republic of',\n",
    "                'North Macedonia': 'Republic of North Macedonia',\n",
    "               'Occupied Palestinian Territory': 'Palestine',\n",
    "                'United States Virgin Islands':'Br. Virgin Isds',\n",
    "    }\n",
    "merged_data['country'] = merged_data['country'].replace(marged_data_replacements, regex=True)\n",
    "\n",
    "\n",
    "new_GDP_replacements = {\n",
    "               'State of Palestine': 'Palestine',\n",
    "               'United Republic of Tanzania: Mainland': 'Tanzania, United Republic of ',\n",
    "    }\n",
    "\n",
    "new_GDP['country'] = new_GDP['country'].replace(new_GDP_replacements,regex=True)\n",
    "\n",
    "\n",
    "#rename year column from the merged_data dataset\n",
    "merged_data.rename(columns={\n",
    "            'year_x': 'year_total_working_hours'\n",
    "                },inplace=True)\n",
    "\n",
    "#This is to merge the marged data with the GDP data to get the final_datasets which will be worked on to get the GDP/hours\n",
    "filtered_merged_date = merged_data.loc[:,['country','year_total_working_hours','total_yearly_hours']]\n",
    "filtered_new_GDP = new_GDP.loc[:,['country','year_gdp','GDP_USD']]\n",
    "final_merged_data=pd.merge(filtered_merged_date,filtered_new_GDP, on=['country'],how='left')\n",
    "\n",
    "#Filter out countries that do not have data for total hours worked\n",
    "final_merged_data = final_merged_data[final_merged_data['total_yearly_hours'].notna()]\n",
    "\n",
    "#set countries that do not have gdp to zero for now\n",
    "final_merged_data['GDP_USD'] = final_merged_data['GDP_USD'].fillna(0)\n",
    "\n",
    "#Calculate GDP per hour\n",
    "final_merged_data['GDP_per_hour'] = final_merged_data['GDP_USD'] / final_merged_data['total_yearly_hours']\n",
    "\n",
    "#Merge country database to get the contry_ISO3 code\n",
    "final_merged_data=pd.merge(final_merged_data,country_code_db, on=['country'],how='left')\n",
    "final_merged_data"
   ]
  },
  {
   "cell_type": "markdown",
   "metadata": {
    "id": "FZ6USPsW_U8M"
   },
   "source": [
    "# Products data\n",
    "The United Nations Comtrade Database is one of the world’s largest and most comprehensive sources of international trade data, maintained by the United Nations Statistics Division (UNSD). It provides detailed information on trade flows between countries, covering thousands of products and services traded worldwide. - https://comtradeplus.un.org/"
   ]
  },
  {
   "cell_type": "code",
   "execution_count": 8,
   "metadata": {
    "colab": {
     "base_uri": "https://localhost:8080/"
    },
    "executionInfo": {
     "elapsed": 1992,
     "status": "ok",
     "timestamp": 1731060506310,
     "user": {
      "displayName": "Oluwatobiloba Odeyemi",
      "userId": "00587895885485655319"
     },
     "user_tz": -60
    },
    "id": "b_bBmCe1uVwx",
    "outputId": "2d98facb-82a8-4537-ae25-6056fe7a2d4e"
   },
   "outputs": [
    {
     "name": "stdout",
     "output_type": "stream",
     "text": [
      "[4, 8, 12, 16, 20, 24, 28, 31, 32, 36, 40, 44, 48, 50, 51, 52, 56, 58, 60, 64, 68, 70, 72, 76, 84, 86, 90, 92, 96, 100, 104, 108, 112, 116, 120, 124, 132, 136, 140, 144, 148, 152, 156, 162, 166, 170, 174, 175, 178, 180, 184, 188, 191, 192, 196, 200, 203, 204, 208, 212, 214, 218, 222, 226, 231, 232, 233, 238, 242, 246, 251, 258, 260, 262, 266, 268, 270, 275, 276, 278, 280, 288, 292, 296, 300, 304, 308, 316, 320, 324, 328, 332, 340, 344, 348, 352, 360, 364, 368, 372, 376, 380, 384, 388, 392, 398, 400, 404, 408, 410, 414, 417, 418, 422, 426, 428, 430, 434, 440, 442, 446, 450, 454, 458, 462, 466, 470, 478, 480, 484, 490, 496, 498, 499, 500, 504, 508, 512, 516, 520, 524, 528, 530, 531, 533, 534, 535, 540, 548, 554, 558, 562, 566, 570, 574, 579, 580, 583, 584, 585, 586, 591, 598, 600, 604, 608, 612, 616, 620, 624, 626, 634, 642, 643, 646, 652, 654, 659, 660, 662, 666, 670, 674, 678, 682, 686, 688, 690, 694, 697, 699, 702, 703, 704, 705, 706, 710, 711, 716, 724, 728, 729, 736, 740, 748, 752, 757, 760, 762, 764, 768, 772, 776, 780, 784, 788, 792, 795, 796, 798, 800, 804, 807, 810, 818, 826, 834, 842, 849, 854, 858, 860, 862, 876, 882, 887, 891, 894]\n"
     ]
    }
   ],
   "source": [
    "subscription_key ='f6f38dac65574cab8a6b972e0c653a8a' # trial key, for bulk key, you will need to shop for premium\n",
    "pd.set_option('display.max_columns', None)\n",
    "hs_data = json.load(f)\n",
    "country_codes = pd.read_csv(path2)\n",
    "codes = country_codes['country_code'].to_list()\n",
    "print(codes)"
   ]
  },
  {
   "cell_type": "code",
   "execution_count": 9,
   "metadata": {
    "executionInfo": {
     "elapsed": 6,
     "status": "ok",
     "timestamp": 1731060506310,
     "user": {
      "displayName": "Oluwatobiloba Odeyemi",
      "userId": "00587895885485655319"
     },
     "user_tz": -60
    },
    "id": "rdtrfCItuVwz"
   },
   "outputs": [],
   "source": [
    "def split_numbers(input_string, chunk_size):\n",
    "    # Split the string by commas to get a list of numbers\n",
    "    numbers = input_string.split(',')\n",
    "\n",
    "    # Group the numbers into chunks of specified size\n",
    "    chunks = [numbers[i:i + chunk_size] for i in range(0, len(numbers), chunk_size)]\n",
    "\n",
    "    return chunks"
   ]
  },
  {
   "cell_type": "markdown",
   "metadata": {
    "id": "FHFIC6bH_l0C"
   },
   "source": [
    "This function extracts data from comtrade in a specified criteria. learn more from here: https://github.com/uncomtrade/comtradeapicall"
   ]
  },
  {
   "cell_type": "code",
   "execution_count": 10,
   "metadata": {
    "executionInfo": {
     "elapsed": 398,
     "status": "ok",
     "timestamp": 1731060509247,
     "user": {
      "displayName": "Oluwatobiloba Odeyemi",
      "userId": "00587895885485655319"
     },
     "user_tz": -60
    },
    "id": "7xYo0u7TuVwz"
   },
   "outputs": [],
   "source": [
    "def get_data_from_uncomtrade(reporter,partner,flowCode,frequency,data_date,hs_code,hs_2_digit=None,hs_4_digit=None,hs_6_digit=None,include_none=False):\n",
    "\n",
    "    \"\"\"\n",
    "    Fetch trade data from UN Comtrade based on specified criteria.\n",
    "\n",
    "    Parameters:\n",
    "    - reporter (str or list): Reporting country or countries.\n",
    "    - partner (str or list): Partner country or countries.\n",
    "    - frequency (str): Data frequency (e.g., 'annual', 'monthly').\n",
    "    - data_date (str): Data period(s) in a comma-separated string.\n",
    "    - hs_code (list or str): HS codes to retrieve data for, or \"00\" for all 2-digit codes.\n",
    "    - hs_2_digit, hs_4_digit, hs_6_digit (bool): Flags to include specific HS code levels.\n",
    "    - include_none (bool): If False, excludes rows with None values in the output.\n",
    "\n",
    "    Returns:\n",
    "    - final_dataframe (DataFrame): Raw trade data from the API.\n",
    "    - test_dataframe (DataFrame): Processed trade data with comparisons.\n",
    "    \"\"\"\n",
    "\n",
    "    if isinstance(data_date, str):\n",
    "        years_list = data_date.split(',')\n",
    "        # Check the length of the list and truncate if necessary\n",
    "        if len(years_list) > 12:\n",
    "            print(\"Maximum 12 date periods can be used in date string per call\")\n",
    "            return None,None\n",
    "\n",
    "    if isinstance(reporter, list):\n",
    "        string_list = [str(item) for item in reporter]\n",
    "        reporter = ','.join(map(str, reporter))\n",
    "    elif isinstance(reporter, str):\n",
    "        pass\n",
    "    else:\n",
    "        print(\"The reporter codes should be a list or comma seperated string.\")\n",
    "        return None\n",
    "\n",
    "    if isinstance(partner, list):\n",
    "        string_list = [str(item) for item in partner]\n",
    "        partner = ','.join(map(str, partner))\n",
    "    elif isinstance(partner, str):\n",
    "        pass\n",
    "    else:\n",
    "        print(\"The partner codes should be a list or comma seperated string.\")\n",
    "        return None\n",
    "\n",
    "    if isinstance(hs_code, list) or hs_code==\"00\":\n",
    "        pass\n",
    "    else:\n",
    "        print(f\"\"\"HS code must be passed as a list of strings or should be \"00\" \"\"\")\n",
    "        return None\n",
    "    if not hs_code:\n",
    "        result = True\n",
    "    else:\n",
    "        # Get the length of the first element\n",
    "        first_length = len(hs_code[0])\n",
    "\n",
    "        # Check if all elements have the same length\n",
    "        result = all(len(item) == first_length for item in hs_code)\n",
    "\n",
    "    if result==False:\n",
    "        print(\"The hs code string should include only 2,4 or 6 digitis as list do not send mixed digits hs code.\")\n",
    "        return None\n",
    "    ############################################################\n",
    "    if hs_code==\"00\":\n",
    "        hs_list_2_digit=[]\n",
    "        for item in hs_data[\"results\"]:\n",
    "            if item[\"aggrLevel\"]==2:\n",
    "                hs_list_2_digit.append(item['id'])\n",
    "        codes_string = ','.join(map(str, hs_list_2_digit))\n",
    "        final_dataframe = comtradeapicall.getFinalData(subscription_key, typeCode='C', freqCode=frequency, clCode='HS', period=data_date,\n",
    "                                        reporterCode=reporter, cmdCode=codes_string, flowCode=flowCode, partnerCode=partner,\n",
    "                                        partner2Code=None, customsCode=None, motCode=None, maxRecords=250000,\n",
    "                                        format_output='JSON', aggregateBy=None, breakdownMode='classic',\n",
    "                                        countOnly=None, includeDesc=True)\n",
    "    ############################################################\n",
    "    else:\n",
    "        string_list = [str(item) for item in hs_code]\n",
    "        if len(string_list[0])==2:\n",
    "\n",
    "            codes_string_2_digit = ','.join(map(str, hs_code))\n",
    "            hs_list_4_digit=[]\n",
    "            for item in hs_data[\"results\"]:\n",
    "                if item[\"aggrLevel\"]==4 and item[\"parent\"] in hs_code:\n",
    "                    hs_list_4_digit.append(item['id'])\n",
    "            codes_string_4_digit = ','.join(map(str, hs_list_4_digit))\n",
    "            hs_list_6_digit=[]\n",
    "            for item in hs_data[\"results\"]:\n",
    "                if item[\"aggrLevel\"]==6 and item[\"parent\"] in hs_list_4_digit:\n",
    "                    hs_list_6_digit.append(item['id'])\n",
    "            codes_string_6_digit = ','.join(map(str, hs_list_6_digit))\n",
    "\n",
    "\n",
    "        elif len(string_list[0])==4:\n",
    "            for item in hs_code:\n",
    "                unique_first_two_digits = set()\n",
    "                # Extract the first two digits\n",
    "                first_two_digits = item[:2]\n",
    "                # Add the first two digits to the set\n",
    "                unique_first_two_digits.add(first_two_digits)\n",
    "            # Convert the set to a list if needed\n",
    "            unique_first_two_digits_list = list(unique_first_two_digits)\n",
    "            codes_string_2_digit = ','.join(map(str, unique_first_two_digits_list))\n",
    "            codes_string_4_digit=','.join(map(str, hs_code))\n",
    "            hs_list_6_digit=[]\n",
    "            for item in hs_data[\"results\"]:\n",
    "                if item[\"aggrLevel\"]==6 and item[\"parent\"] in hs_code:\n",
    "                    hs_list_6_digit.append(item['id'])\n",
    "            codes_string_6_digit = ','.join(map(str, hs_list_6_digit))\n",
    "\n",
    "        elif len(string_list[0])==6:\n",
    "            for item in hs_code:\n",
    "                unique_first_four_digits = set()\n",
    "                # Extract the first two digits\n",
    "                first_four_digits = item[:4]\n",
    "                # Add the first two digits to the set\n",
    "                unique_first_four_digits.add(first_four_digits)\n",
    "            # Convert the set to a list if needed\n",
    "            unique_first_four_digits_list = list(unique_first_four_digits)\n",
    "            codes_string_4_digit = ','.join(map(str, unique_first_four_digits_list))\n",
    "            for item in unique_first_four_digits_list:\n",
    "                unique_first_two_digits = set()\n",
    "                # Extract the first two digits\n",
    "                first_two_digits = item[:2]\n",
    "                # Add the first two digits to the set\n",
    "                unique_first_two_digits.add(first_two_digits)\n",
    "            # Convert the set to a list if needed\n",
    "            unique_first_two_digits_list = list(unique_first_two_digits)\n",
    "            codes_string_2_digit = ','.join(map(str, unique_first_two_digits_list))\n",
    "            codes_string_6_digit=','.join(map(str, hs_code))\n",
    "\n",
    "        else:\n",
    "            print(\"The hs code string should include only 2,4 or 6 digitis as list do not send mixed digits hs code.\")\n",
    "            return None\n",
    "        if(hs_2_digit==False and hs_4_digit==False and hs_6_digit==False):\n",
    "            print(\"At least one of the digit selections must be True\")\n",
    "            return None\n",
    "        codes_string=\"\"\n",
    "        if(hs_2_digit==True):\n",
    "            codes_string+=codes_string_2_digit+\",\"\n",
    "        if(hs_4_digit==True):\n",
    "            codes_string+=codes_string_4_digit+\",\"\n",
    "        if(hs_6_digit==True):\n",
    "            codes_string+=codes_string_6_digit\n",
    "        codes_string = codes_string.rstrip(',')\n",
    "        print(f\"\"\"Final codes_string= {codes_string} \"\"\")\n",
    "        chunk_size = 100\n",
    "        chunks = split_numbers(codes_string, chunk_size)\n",
    "        final_dataframe=pd.DataFrame()\n",
    "        for chunk in range(0,len(chunks),1):\n",
    "            string_numbers = list(map(str, chunks[chunk]))\n",
    "            codes_string = ','.join(map(str, string_numbers))\n",
    "            mydf = comtradeapicall.getFinalData(subscription_key, typeCode='C', freqCode=frequency, clCode='HS', period=data_date,\n",
    "                                        reporterCode=reporter, cmdCode=codes_string, flowCode=flowCode, partnerCode=partner,\n",
    "                                        partner2Code=None, customsCode=None, motCode=None, maxRecords=250000,\n",
    "                                        format_output='JSON', aggregateBy=None, breakdownMode='classic',\n",
    "                                        countOnly=None, includeDesc=True)\n",
    "            final_dataframe=pd.concat([final_dataframe,mydf])\n",
    "        final_dataframe=final_dataframe.reset_index(drop=True)\n",
    "        return final_dataframe\n",
    "    ##################################################################### Added for non equal price  check\n",
    "    columns = ['cifvalue', 'fobvalue', 'primaryValue']\n",
    "    # Initialize the result to True\n",
    "\n",
    "    # Initialize an empty DataFrame to store rows with differences\n",
    "    rows_with_differences = []\n",
    "\n",
    "    # Loop through each row in the final_dataframe\n",
    "    for _, row in final_dataframe.iterrows():\n",
    "        # Extract the values for the specified columns\n",
    "        values = [row[col] for col in columns]\n",
    "\n",
    "        # Filter out NaN values and zeros\n",
    "        non_nan_values = [value for value in values if pd.notna(value) and value != 0.0]\n",
    "\n",
    "        # Check if all non-NaN values are the same\n",
    "        if len(set(non_nan_values)) > 1:\n",
    "            # If there are differences, add the row to the list\n",
    "            rows_with_differences.append(row)\n",
    "\n",
    "    # Concatenate all rows with differences into a DataFrame\n",
    "    failures_dataframe = pd.DataFrame(rows_with_differences)\n",
    "\n",
    "    # Check if any differences were found and output the result\n",
    "    if not failures_dataframe.empty:\n",
    "        print(\"There are differences in the price columns\")\n",
    "\n",
    "    ####################################################################\n",
    "    test_dataframe=pd.DataFrame()\n",
    "    periods_list = final_dataframe['period'].unique().tolist()\n",
    "    for periods in periods_list:\n",
    "        filtered_df=final_dataframe[final_dataframe[\"period\"]==periods]\n",
    "\n",
    "        reporter_numbers = filtered_df['reporterCode'].unique().tolist()\n",
    "        for reporter_loop in reporter_numbers:\n",
    "            unique_numbers = filtered_df[filtered_df[\"reporterCode\"]==reporter_loop]['cmdCode'].unique().tolist()\n",
    "            for hs_codes in unique_numbers:\n",
    "                mydf=filtered_df[(filtered_df[\"cmdCode\"]==hs_codes)&(filtered_df[\"reporterCode\"]==reporter_loop)]\n",
    "                unique_partners = mydf['partnerCode'].unique().tolist()\n",
    "                if len(unique_partners)>1:\n",
    "                    if unique_partners[0] == 0:\n",
    "                        unique_partners = unique_partners[1:]\n",
    "\n",
    "                for partners in unique_partners:\n",
    "                    mydf=filtered_df[(filtered_df[\"cmdCode\"]==hs_codes)&(filtered_df[\"reporterCode\"]==reporter_loop)&(filtered_df[\"partnerCode\"]==partners)]\n",
    "                    # Check if mydf is empty\n",
    "                    if mydf.empty:\n",
    "                        import_quantity = None\n",
    "                        export_quantity = None\n",
    "                        import_amount= None\n",
    "                        export_amount= None\n",
    "                        unit_type = None\n",
    "                        difference = None\n",
    "                        balance_status = None\n",
    "                        Hs_description=None\n",
    "                        country_tag=None\n",
    "                        reporter=None\n",
    "                        partner=None\n",
    "                        difference_amount = None\n",
    "                        balance_status_dollars = None\n",
    "                        total_parent=None\n",
    "                        period_data=None\n",
    "                    else:\n",
    "                        flow_list=mydf[\"flowCode\"].unique().tolist()\n",
    "                        if \"X\" not in flow_list or \"M\" not in flow_list:\n",
    "                            continue\n",
    "\n",
    "                        try:\n",
    "                            if mydf[mydf['flowCode'] == 'M']['qty'].values[0]!=0 and mydf[mydf['flowCode'] == 'X']['qty'].values[0]!=0 :\n",
    "                                import_quantity = mydf[mydf['flowCode'] == 'M']['qty'].values[0]\n",
    "                                export_quantity = mydf[mydf['flowCode'] == 'X']['qty'].values[0]\n",
    "                                unit_type = mydf[mydf['flowCode'] == 'X']['qtyUnitAbbr'].values[0] if not mydf[mydf['flowCode'] == 'X']['qtyUnitAbbr'].empty else None\n",
    "                            else:\n",
    "                                import_quantity = mydf[mydf['flowCode'] == 'M']['altQty'].values[0] if not mydf[mydf['flowCode'] == 'M']['altQty'].empty else None\n",
    "                                export_quantity = mydf[mydf['flowCode'] == 'X']['altQty'].values[0] if not mydf[mydf['flowCode'] == 'X']['altQty'].empty else None\n",
    "                                unit_type = mydf[mydf['flowCode'] == 'X']['altQtyUnitAbbr'].values[0] if not mydf[mydf['flowCode'] == 'X']['altQtyUnitAbbr'].empty else None\n",
    "                            ################################################ Under this part new value selector selects any not NaN\n",
    "                            columns = ['cifvalue', 'fobvalue', 'primaryValue']\n",
    "                            # Initialize variables\n",
    "                            import_amount = None\n",
    "                            export_amount = None\n",
    "                            # Check for the first non-NaN, non-0.0 value for 'M'\n",
    "                            for col in columns:\n",
    "                                values = mydf[mydf['flowCode'] == 'M'][col].values\n",
    "                                if len(values) > 0 and pd.notna(values[0]) and values[0] != 0.0:\n",
    "                                    import_amount = values[0]\n",
    "                                    break\n",
    "                            # Check for the first non-NaN, non-0.0 value for 'X'\n",
    "                            for col in columns:\n",
    "                                values = mydf[mydf['flowCode'] == 'X'][col].values\n",
    "                                if len(values) > 0 and pd.notna(values[0]) and values[0] != 0.0:\n",
    "                                    export_amount = values[0]\n",
    "                                    break\n",
    "                            # If either import_amount or export_amount is None, set both to None\n",
    "                            if import_amount is None or export_amount is None:\n",
    "                                import_amount = None\n",
    "                                export_amount = None\n",
    "\n",
    "                        except IndexError as e:\n",
    "                            print(\"IndexError occurred:\", e)\n",
    "                            print(\"DataFrame mydf:\")\n",
    "                            return final_dataframe,mydf\n",
    "\n",
    "\n",
    "                        Hs_description=mydf[mydf['flowCode'] == 'X']['cmdDesc'].values[0] if not mydf[mydf['flowCode'] == 'X']['cmdDesc'].empty else None\n",
    "                        country_tag = mydf[mydf['flowCode'] == 'X']['reporterISO'].values[0]\n",
    "                        reporter = mydf[mydf['flowCode'] == 'X']['reporterCode'].values[0]\n",
    "                        partner_tag= mydf[mydf['flowCode'] == 'X']['partnerDesc'].values[0]\n",
    "                        partner=mydf[mydf['flowCode'] == 'X']['partnerCode'].values[0]\n",
    "                        # Calculate the differences and balance status\n",
    "                        if export_quantity is not None and import_quantity is not None:\n",
    "                            difference = export_quantity - import_quantity\n",
    "                            balance_status = \"Positive\" if difference > 0 else \"Negative\"\n",
    "                        else:\n",
    "                            difference = None\n",
    "                            balance_status = None\n",
    "\n",
    "                        if export_amount is not None and import_amount is not None:\n",
    "                            difference_amount = export_amount - import_amount\n",
    "                            balance_status_dollars = \"Positive\" if difference_amount > 0 else \"Negative\"\n",
    "                        else:\n",
    "                            difference_amount = None\n",
    "                            balance_status_dollars = None\n",
    "\n",
    "\n",
    "                    if include_none==False:\n",
    "                        if difference==None and difference_amount==None:\n",
    "                            continue\n",
    "\n",
    "                    total_parent=None\n",
    "                    if len(hs_codes)>2:\n",
    "                        total_parent=hs_codes[:2]\n",
    "                    data = pd.DataFrame([{\n",
    "                    \"Period\": periods,\n",
    "                    \"HS Code\": hs_codes,\n",
    "                    \"Parent\": total_parent,\n",
    "                    \"Reporter Code\": reporter,\n",
    "                    \"Reporter\": country_tag,\n",
    "                    \"Partner Code\": partner,\n",
    "                    \"Partner\": partner_tag,\n",
    "                    \"HS_Description\": Hs_description,\n",
    "                    \"Unit Type\": unit_type,\n",
    "                    \"Import Quantitiy\": import_quantity,\n",
    "                    \"Export Quantitiy\": export_quantity,\n",
    "                    \"Import/Export Diff Quantity\": difference,\n",
    "                    \"Import/Export Balance Quantity\": balance_status,\n",
    "                    \"Import Amount Dollars\": import_amount,\n",
    "                    \"Export Amount Dollars\": export_amount,\n",
    "                    \"Import/Export Diff Dollars\": difference_amount,\n",
    "                    \"Import/Export Balance Dollars\": balance_status_dollars\n",
    "                }])\n",
    "                    test_dataframe = pd.concat([test_dataframe, data], ignore_index=True)\n",
    "    if len(failures_dataframe)>0:\n",
    "        return final_dataframe,test_dataframe\n",
    "    else:\n",
    "        return final_dataframe,test_dataframe"
   ]
  },
  {
   "cell_type": "markdown",
   "metadata": {
    "id": "PA_S0rvQuVw1"
   },
   "source": [
    "Get all the HS codes data reportered"
   ]
  },
  {
   "cell_type": "code",
   "execution_count": 11,
   "metadata": {
    "executionInfo": {
     "elapsed": 12847,
     "status": "ok",
     "timestamp": 1731060532727,
     "user": {
      "displayName": "Oluwatobiloba Odeyemi",
      "userId": "00587895885485655319"
     },
     "user_tz": -60
    },
    "id": "RgOZl88guVw3"
   },
   "outputs": [],
   "source": [
    "uncomtrade_data_hs_2,balanced_dataframe_hs_2=get_data_from_uncomtrade(reporter=\"484\",partner=codes, flowCode =\"X\",frequency=\"A\",data_date=\"2022\",hs_code=\"00\",hs_2_digit=True,hs_4_digit=False,hs_6_digit=False)"
   ]
  },
  {
   "cell_type": "code",
   "execution_count": 12,
   "metadata": {
    "executionInfo": {
     "elapsed": 935,
     "status": "ok",
     "timestamp": 1731060535862,
     "user": {
      "displayName": "Oluwatobiloba Odeyemi",
      "userId": "00587895885485655319"
     },
     "user_tz": -60
    },
    "id": "4LMqGI7OuVw3"
   },
   "outputs": [],
   "source": [
    "positive_top_5_items=uncomtrade_data_hs_2[\"cmdCode\"].unique().tolist()"
   ]
  },
  {
   "cell_type": "markdown",
   "metadata": {
    "id": "IKuXPYK2uVw4"
   },
   "source": [
    "> This function retrieves all export or import data for a specified country. The primary arguments to specify include the reporter code, partner code, year, and flow code (indicating export or import).\n",
    "\n",
    "> To select the level of product detail, set the relevant argument for the HS code level:\n",
    "\n",
    "> [2-Digit HS Codes: Set hs_2_digit=True\n",
    "4-Digit HS Codes: Set hs_4_digit=True\n",
    "6-Digit HS Codes: Set hs_6_digit=True]\n",
    "\n",
    "> Now, let’s retrieve data on U.S. imports for the year 2022.\n"
   ]
  },
  {
   "cell_type": "code",
   "execution_count": 13,
   "metadata": {
    "colab": {
     "base_uri": "https://localhost:8080/"
    },
    "executionInfo": {
     "elapsed": 24105,
     "status": "ok",
     "timestamp": 1731060564045,
     "user": {
      "displayName": "Oluwatobiloba Odeyemi",
      "userId": "00587895885485655319"
     },
     "user_tz": -60
    },
    "id": "fj1gS7p6uVw4",
    "outputId": "23d41cee-85d1-4072-d140-730d59bad6dc"
   },
   "outputs": [
    {
     "name": "stdout",
     "output_type": "stream",
     "text": [
      "Final codes_string= 01,02,03,04,05,06,07,08,09,10,11,12,13,14,15,16,17,18,19,20,21,22,23,24,25,26,27,28,29,30,31,32,33,34,35,36,37,38,39,40,41,42,43,44,45,46,47,48,49,50,51,52,53,54,55,56,57,58,59,60,61,62,63,64,65,66,67,68,69,70,71,72,73,74,75,76,78,79,80,81,82,83,84,85,86,87,88,89,90,91,92,93,94,95,96,97,99 \n"
     ]
    }
   ],
   "source": [
    "usa_imports_2022=get_data_from_uncomtrade(reporter=\"842\",partner=codes,data_date=\"2022\",flowCode='M', frequency=\"A\", hs_code=positive_top_5_items,hs_2_digit=True,hs_4_digit=False,hs_6_digit=False)"
   ]
  },
  {
   "cell_type": "markdown",
   "metadata": {
    "id": "SZnVRyQFCtLZ"
   },
   "source": [
    "Exploring the trade data  by diplaying 5 random rows"
   ]
  },
  {
   "cell_type": "code",
   "execution_count": 14,
   "metadata": {
    "colab": {
     "base_uri": "https://localhost:8080/",
     "height": 254
    },
    "executionInfo": {
     "elapsed": 93,
     "status": "ok",
     "timestamp": 1731060564046,
     "user": {
      "displayName": "Oluwatobiloba Odeyemi",
      "userId": "00587895885485655319"
     },
     "user_tz": -60
    },
    "id": "plSPuAtOuVw4",
    "outputId": "1f397e8b-3e6b-45bf-c66c-80550e9e6315"
   },
   "outputs": [
    {
     "data": {
      "text/html": [
       "<div>\n",
       "<style scoped>\n",
       "    .dataframe tbody tr th:only-of-type {\n",
       "        vertical-align: middle;\n",
       "    }\n",
       "\n",
       "    .dataframe tbody tr th {\n",
       "        vertical-align: top;\n",
       "    }\n",
       "\n",
       "    .dataframe thead th {\n",
       "        text-align: right;\n",
       "    }\n",
       "</style>\n",
       "<table border=\"1\" class=\"dataframe\">\n",
       "  <thead>\n",
       "    <tr style=\"text-align: right;\">\n",
       "      <th></th>\n",
       "      <th>typeCode</th>\n",
       "      <th>freqCode</th>\n",
       "      <th>refPeriodId</th>\n",
       "      <th>refYear</th>\n",
       "      <th>refMonth</th>\n",
       "      <th>period</th>\n",
       "      <th>reporterCode</th>\n",
       "      <th>reporterISO</th>\n",
       "      <th>reporterDesc</th>\n",
       "      <th>flowCode</th>\n",
       "      <th>flowDesc</th>\n",
       "      <th>partnerCode</th>\n",
       "      <th>partnerISO</th>\n",
       "      <th>partnerDesc</th>\n",
       "      <th>partner2Code</th>\n",
       "      <th>partner2ISO</th>\n",
       "      <th>partner2Desc</th>\n",
       "      <th>classificationCode</th>\n",
       "      <th>classificationSearchCode</th>\n",
       "      <th>isOriginalClassification</th>\n",
       "      <th>cmdCode</th>\n",
       "      <th>cmdDesc</th>\n",
       "      <th>aggrLevel</th>\n",
       "      <th>isLeaf</th>\n",
       "      <th>customsCode</th>\n",
       "      <th>customsDesc</th>\n",
       "      <th>mosCode</th>\n",
       "      <th>motCode</th>\n",
       "      <th>motDesc</th>\n",
       "      <th>qtyUnitCode</th>\n",
       "      <th>qtyUnitAbbr</th>\n",
       "      <th>qty</th>\n",
       "      <th>isQtyEstimated</th>\n",
       "      <th>altQtyUnitCode</th>\n",
       "      <th>altQtyUnitAbbr</th>\n",
       "      <th>altQty</th>\n",
       "      <th>isAltQtyEstimated</th>\n",
       "      <th>netWgt</th>\n",
       "      <th>isNetWgtEstimated</th>\n",
       "      <th>grossWgt</th>\n",
       "      <th>isGrossWgtEstimated</th>\n",
       "      <th>cifvalue</th>\n",
       "      <th>fobvalue</th>\n",
       "      <th>primaryValue</th>\n",
       "      <th>legacyEstimationFlag</th>\n",
       "      <th>isReported</th>\n",
       "      <th>isAggregate</th>\n",
       "    </tr>\n",
       "  </thead>\n",
       "  <tbody>\n",
       "    <tr>\n",
       "      <th>6761</th>\n",
       "      <td>C</td>\n",
       "      <td>A</td>\n",
       "      <td>20220101</td>\n",
       "      <td>2022</td>\n",
       "      <td>52</td>\n",
       "      <td>2022</td>\n",
       "      <td>842</td>\n",
       "      <td>USA</td>\n",
       "      <td>USA</td>\n",
       "      <td>M</td>\n",
       "      <td>Import</td>\n",
       "      <td>716</td>\n",
       "      <td>ZWE</td>\n",
       "      <td>Zimbabwe</td>\n",
       "      <td>0</td>\n",
       "      <td>W00</td>\n",
       "      <td>World</td>\n",
       "      <td>H6</td>\n",
       "      <td>HS</td>\n",
       "      <td>True</td>\n",
       "      <td>64</td>\n",
       "      <td>Footwear; gaiters and the like; parts of such ...</td>\n",
       "      <td>2</td>\n",
       "      <td>False</td>\n",
       "      <td>C00</td>\n",
       "      <td>TOTAL CPC</td>\n",
       "      <td>0</td>\n",
       "      <td>0</td>\n",
       "      <td>TOTAL MOT</td>\n",
       "      <td>-1</td>\n",
       "      <td>N/A</td>\n",
       "      <td>0.0</td>\n",
       "      <td>False</td>\n",
       "      <td>-1</td>\n",
       "      <td>N/A</td>\n",
       "      <td>0.0</td>\n",
       "      <td>False</td>\n",
       "      <td>0.0</td>\n",
       "      <td>True</td>\n",
       "      <td>0.0</td>\n",
       "      <td>False</td>\n",
       "      <td>155359.0</td>\n",
       "      <td>143815.0</td>\n",
       "      <td>155359.0</td>\n",
       "      <td>4</td>\n",
       "      <td>False</td>\n",
       "      <td>True</td>\n",
       "    </tr>\n",
       "    <tr>\n",
       "      <th>9941</th>\n",
       "      <td>C</td>\n",
       "      <td>A</td>\n",
       "      <td>20220101</td>\n",
       "      <td>2022</td>\n",
       "      <td>52</td>\n",
       "      <td>2022</td>\n",
       "      <td>842</td>\n",
       "      <td>USA</td>\n",
       "      <td>USA</td>\n",
       "      <td>M</td>\n",
       "      <td>Import</td>\n",
       "      <td>144</td>\n",
       "      <td>LKA</td>\n",
       "      <td>Sri Lanka</td>\n",
       "      <td>0</td>\n",
       "      <td>W00</td>\n",
       "      <td>World</td>\n",
       "      <td>H6</td>\n",
       "      <td>HS</td>\n",
       "      <td>True</td>\n",
       "      <td>93</td>\n",
       "      <td>Arms and ammunition; parts and accessories the...</td>\n",
       "      <td>2</td>\n",
       "      <td>False</td>\n",
       "      <td>C00</td>\n",
       "      <td>TOTAL CPC</td>\n",
       "      <td>0</td>\n",
       "      <td>0</td>\n",
       "      <td>TOTAL MOT</td>\n",
       "      <td>-1</td>\n",
       "      <td>N/A</td>\n",
       "      <td>0.0</td>\n",
       "      <td>False</td>\n",
       "      <td>-1</td>\n",
       "      <td>N/A</td>\n",
       "      <td>0.0</td>\n",
       "      <td>False</td>\n",
       "      <td>0.0</td>\n",
       "      <td>False</td>\n",
       "      <td>0.0</td>\n",
       "      <td>False</td>\n",
       "      <td>77009.0</td>\n",
       "      <td>72857.0</td>\n",
       "      <td>77009.0</td>\n",
       "      <td>0</td>\n",
       "      <td>False</td>\n",
       "      <td>True</td>\n",
       "    </tr>\n",
       "  </tbody>\n",
       "</table>\n",
       "</div>"
      ],
      "text/plain": [
       "     typeCode freqCode  refPeriodId  refYear  refMonth period  reporterCode  \\\n",
       "6761        C        A     20220101     2022        52   2022           842   \n",
       "9941        C        A     20220101     2022        52   2022           842   \n",
       "\n",
       "     reporterISO reporterDesc flowCode flowDesc  partnerCode partnerISO  \\\n",
       "6761         USA          USA        M   Import          716        ZWE   \n",
       "9941         USA          USA        M   Import          144        LKA   \n",
       "\n",
       "     partnerDesc  partner2Code partner2ISO partner2Desc classificationCode  \\\n",
       "6761    Zimbabwe             0         W00        World                 H6   \n",
       "9941   Sri Lanka             0         W00        World                 H6   \n",
       "\n",
       "     classificationSearchCode  isOriginalClassification cmdCode  \\\n",
       "6761                       HS                      True      64   \n",
       "9941                       HS                      True      93   \n",
       "\n",
       "                                                cmdDesc  aggrLevel  isLeaf  \\\n",
       "6761  Footwear; gaiters and the like; parts of such ...          2   False   \n",
       "9941  Arms and ammunition; parts and accessories the...          2   False   \n",
       "\n",
       "     customsCode customsDesc mosCode  motCode    motDesc  qtyUnitCode  \\\n",
       "6761         C00   TOTAL CPC       0        0  TOTAL MOT           -1   \n",
       "9941         C00   TOTAL CPC       0        0  TOTAL MOT           -1   \n",
       "\n",
       "     qtyUnitAbbr  qty  isQtyEstimated  altQtyUnitCode altQtyUnitAbbr  altQty  \\\n",
       "6761         N/A  0.0           False              -1            N/A     0.0   \n",
       "9941         N/A  0.0           False              -1            N/A     0.0   \n",
       "\n",
       "      isAltQtyEstimated  netWgt  isNetWgtEstimated  grossWgt  \\\n",
       "6761              False     0.0               True       0.0   \n",
       "9941              False     0.0              False       0.0   \n",
       "\n",
       "      isGrossWgtEstimated  cifvalue  fobvalue  primaryValue  \\\n",
       "6761                False  155359.0  143815.0      155359.0   \n",
       "9941                False   77009.0   72857.0       77009.0   \n",
       "\n",
       "      legacyEstimationFlag  isReported  isAggregate  \n",
       "6761                     4       False         True  \n",
       "9941                     0       False         True  "
      ]
     },
     "execution_count": 14,
     "metadata": {},
     "output_type": "execute_result"
    }
   ],
   "source": [
    "usa_imports_2022.sample(n=2) # show 2 random rows"
   ]
  },
  {
   "cell_type": "code",
   "execution_count": 15,
   "metadata": {
    "executionInfo": {
     "elapsed": 90,
     "status": "ok",
     "timestamp": 1731060564046,
     "user": {
      "displayName": "Oluwatobiloba Odeyemi",
      "userId": "00587895885485655319"
     },
     "user_tz": -60
    },
    "id": "Ob9gJBTVDNUh"
   },
   "outputs": [],
   "source": [
    "# filter out the most important variables in the dataframe\n",
    "usa_imports_2022= usa_imports_2022[['refYear','reporterISO','reporterDesc','partnerDesc','partnerISO','cmdCode','cmdDesc', 'fobvalue']]"
   ]
  },
  {
   "cell_type": "code",
   "execution_count": 16,
   "metadata": {
    "colab": {
     "base_uri": "https://localhost:8080/",
     "height": 293
    },
    "executionInfo": {
     "elapsed": 90,
     "status": "ok",
     "timestamp": 1731060564047,
     "user": {
      "displayName": "Oluwatobiloba Odeyemi",
      "userId": "00587895885485655319"
     },
     "user_tz": -60
    },
    "id": "sbbYMZLxnxq0",
    "outputId": "1212b45a-90f1-4eba-cdbb-106687999628"
   },
   "outputs": [
    {
     "data": {
      "text/html": [
       "<div>\n",
       "<style scoped>\n",
       "    .dataframe tbody tr th:only-of-type {\n",
       "        vertical-align: middle;\n",
       "    }\n",
       "\n",
       "    .dataframe tbody tr th {\n",
       "        vertical-align: top;\n",
       "    }\n",
       "\n",
       "    .dataframe thead th {\n",
       "        text-align: right;\n",
       "    }\n",
       "</style>\n",
       "<table border=\"1\" class=\"dataframe\">\n",
       "  <thead>\n",
       "    <tr style=\"text-align: right;\">\n",
       "      <th></th>\n",
       "      <th>refYear</th>\n",
       "      <th>reporterISO</th>\n",
       "      <th>reporterDesc</th>\n",
       "      <th>partnerDesc</th>\n",
       "      <th>partnerISO</th>\n",
       "      <th>cmdCode</th>\n",
       "      <th>cmdDesc</th>\n",
       "      <th>fobvalue</th>\n",
       "    </tr>\n",
       "  </thead>\n",
       "  <tbody>\n",
       "    <tr>\n",
       "      <th>6803</th>\n",
       "      <td>2022</td>\n",
       "      <td>USA</td>\n",
       "      <td>USA</td>\n",
       "      <td>Sri Lanka</td>\n",
       "      <td>LKA</td>\n",
       "      <td>65</td>\n",
       "      <td>Headgear and parts thereof</td>\n",
       "      <td>11201340.0</td>\n",
       "    </tr>\n",
       "    <tr>\n",
       "      <th>9997</th>\n",
       "      <td>2022</td>\n",
       "      <td>USA</td>\n",
       "      <td>USA</td>\n",
       "      <td>Spain</td>\n",
       "      <td>ESP</td>\n",
       "      <td>93</td>\n",
       "      <td>Arms and ammunition; parts and accessories the...</td>\n",
       "      <td>118458441.0</td>\n",
       "    </tr>\n",
       "    <tr>\n",
       "      <th>9762</th>\n",
       "      <td>2022</td>\n",
       "      <td>USA</td>\n",
       "      <td>USA</td>\n",
       "      <td>Congo</td>\n",
       "      <td>COG</td>\n",
       "      <td>91</td>\n",
       "      <td>Clocks and watches and parts thereof</td>\n",
       "      <td>42215.0</td>\n",
       "    </tr>\n",
       "    <tr>\n",
       "      <th>5342</th>\n",
       "      <td>2022</td>\n",
       "      <td>USA</td>\n",
       "      <td>USA</td>\n",
       "      <td>Mozambique</td>\n",
       "      <td>MOZ</td>\n",
       "      <td>48</td>\n",
       "      <td>Paper and paperboard; articles of paper pulp, ...</td>\n",
       "      <td>2700.0</td>\n",
       "    </tr>\n",
       "    <tr>\n",
       "      <th>2272</th>\n",
       "      <td>2022</td>\n",
       "      <td>USA</td>\n",
       "      <td>USA</td>\n",
       "      <td>Gambia</td>\n",
       "      <td>GMB</td>\n",
       "      <td>19</td>\n",
       "      <td>Preparations of cereals, flour, starch or milk...</td>\n",
       "      <td>6663.0</td>\n",
       "    </tr>\n",
       "  </tbody>\n",
       "</table>\n",
       "</div>"
      ],
      "text/plain": [
       "      refYear reporterISO reporterDesc partnerDesc partnerISO cmdCode  \\\n",
       "6803     2022         USA          USA   Sri Lanka        LKA      65   \n",
       "9997     2022         USA          USA       Spain        ESP      93   \n",
       "9762     2022         USA          USA       Congo        COG      91   \n",
       "5342     2022         USA          USA  Mozambique        MOZ      48   \n",
       "2272     2022         USA          USA      Gambia        GMB      19   \n",
       "\n",
       "                                                cmdDesc     fobvalue  \n",
       "6803                         Headgear and parts thereof   11201340.0  \n",
       "9997  Arms and ammunition; parts and accessories the...  118458441.0  \n",
       "9762               Clocks and watches and parts thereof      42215.0  \n",
       "5342  Paper and paperboard; articles of paper pulp, ...       2700.0  \n",
       "2272  Preparations of cereals, flour, starch or milk...       6663.0  "
      ]
     },
     "execution_count": 16,
     "metadata": {},
     "output_type": "execute_result"
    }
   ],
   "source": [
    "usa_imports_2022.sample(n=5)"
   ]
  },
  {
   "cell_type": "markdown",
   "metadata": {
    "id": "GRlUDtTzFAFI"
   },
   "source": [
    "# what is the total import value of all goods imported to the USA?"
   ]
  },
  {
   "cell_type": "code",
   "execution_count": 17,
   "metadata": {
    "colab": {
     "base_uri": "https://localhost:8080/"
    },
    "executionInfo": {
     "elapsed": 87,
     "status": "ok",
     "timestamp": 1731060564047,
     "user": {
      "displayName": "Oluwatobiloba Odeyemi",
      "userId": "00587895885485655319"
     },
     "user_tz": -60
    },
    "id": "m07uoU9tuVw4",
    "outputId": "e46fe48f-cd2c-4b3d-d1c7-8ac09fc01e34"
   },
   "outputs": [
    {
     "name": "stdout",
     "output_type": "stream",
     "text": [
      "Total import value for the year 2022: 3243131340182.0\n"
     ]
    }
   ],
   "source": [
    "# calculate the total import value\n",
    "total_imports_2022 = usa_imports_2022['fobvalue'].sum()\n",
    "print(f\"Total import value for the year 2022: {total_imports_2022}\")"
   ]
  },
  {
   "cell_type": "markdown",
   "metadata": {
    "id": "dXYfPjHiE5H4"
   },
   "source": [
    "# What is the total export value of each country to the USA?"
   ]
  },
  {
   "cell_type": "code",
   "execution_count": 18,
   "metadata": {
    "colab": {
     "base_uri": "https://localhost:8080/",
     "height": 206
    },
    "executionInfo": {
     "elapsed": 82,
     "status": "ok",
     "timestamp": 1731060564048,
     "user": {
      "displayName": "Oluwatobiloba Odeyemi",
      "userId": "00587895885485655319"
     },
     "user_tz": -60
    },
    "id": "u70BjF5PuVw5",
    "outputId": "aedd0f61-d60b-4024-f027-8c0d010a7f62"
   },
   "outputs": [
    {
     "data": {
      "text/html": [
       "<div>\n",
       "<style scoped>\n",
       "    .dataframe tbody tr th:only-of-type {\n",
       "        vertical-align: middle;\n",
       "    }\n",
       "\n",
       "    .dataframe tbody tr th {\n",
       "        vertical-align: top;\n",
       "    }\n",
       "\n",
       "    .dataframe thead th {\n",
       "        text-align: right;\n",
       "    }\n",
       "</style>\n",
       "<table border=\"1\" class=\"dataframe\">\n",
       "  <thead>\n",
       "    <tr style=\"text-align: right;\">\n",
       "      <th></th>\n",
       "      <th>partnerDesc</th>\n",
       "      <th>partnerISO</th>\n",
       "      <th>fobvalue</th>\n",
       "    </tr>\n",
       "  </thead>\n",
       "  <tbody>\n",
       "    <tr>\n",
       "      <th>0</th>\n",
       "      <td>Afghanistan</td>\n",
       "      <td>AFG</td>\n",
       "      <td>2.254660e+07</td>\n",
       "    </tr>\n",
       "    <tr>\n",
       "      <th>1</th>\n",
       "      <td>Albania</td>\n",
       "      <td>ALB</td>\n",
       "      <td>1.449910e+08</td>\n",
       "    </tr>\n",
       "    <tr>\n",
       "      <th>2</th>\n",
       "      <td>Algeria</td>\n",
       "      <td>DZA</td>\n",
       "      <td>3.060778e+09</td>\n",
       "    </tr>\n",
       "    <tr>\n",
       "      <th>3</th>\n",
       "      <td>Andorra</td>\n",
       "      <td>AND</td>\n",
       "      <td>9.778800e+06</td>\n",
       "    </tr>\n",
       "    <tr>\n",
       "      <th>4</th>\n",
       "      <td>Angola</td>\n",
       "      <td>AGO</td>\n",
       "      <td>1.611020e+09</td>\n",
       "    </tr>\n",
       "  </tbody>\n",
       "</table>\n",
       "</div>"
      ],
      "text/plain": [
       "   partnerDesc partnerISO      fobvalue\n",
       "0  Afghanistan        AFG  2.254660e+07\n",
       "1      Albania        ALB  1.449910e+08\n",
       "2      Algeria        DZA  3.060778e+09\n",
       "3      Andorra        AND  9.778800e+06\n",
       "4       Angola        AGO  1.611020e+09"
      ]
     },
     "execution_count": 18,
     "metadata": {},
     "output_type": "execute_result"
    }
   ],
   "source": [
    "# Group by 'partnerDesc' and sum import values\n",
    "partner_export_2022 = usa_imports_2022.groupby(['partnerDesc','partnerISO'])['fobvalue'].sum().reset_index()\n",
    "partner_export_2022.head()"
   ]
  },
  {
   "cell_type": "markdown",
   "metadata": {
    "id": "_roxDVQhro15"
   },
   "source": [
    "## what products does USA import and from which country"
   ]
  },
  {
   "cell_type": "code",
   "execution_count": 19,
   "metadata": {
    "colab": {
     "base_uri": "https://localhost:8080/",
     "height": 424
    },
    "executionInfo": {
     "elapsed": 79,
     "status": "ok",
     "timestamp": 1731060564048,
     "user": {
      "displayName": "Oluwatobiloba Odeyemi",
      "userId": "00587895885485655319"
     },
     "user_tz": -60
    },
    "id": "wrnAincApck2",
    "outputId": "7db59cfe-14f4-42d6-dab9-0ae741ef8358"
   },
   "outputs": [
    {
     "data": {
      "text/html": [
       "<div>\n",
       "<style scoped>\n",
       "    .dataframe tbody tr th:only-of-type {\n",
       "        vertical-align: middle;\n",
       "    }\n",
       "\n",
       "    .dataframe tbody tr th {\n",
       "        vertical-align: top;\n",
       "    }\n",
       "\n",
       "    .dataframe thead th {\n",
       "        text-align: right;\n",
       "    }\n",
       "</style>\n",
       "<table border=\"1\" class=\"dataframe\">\n",
       "  <thead>\n",
       "    <tr style=\"text-align: right;\">\n",
       "      <th></th>\n",
       "      <th>partnerDesc</th>\n",
       "      <th>cmdCode</th>\n",
       "      <th>cmdDesc</th>\n",
       "      <th>partnerISO</th>\n",
       "      <th>fobvalue</th>\n",
       "    </tr>\n",
       "  </thead>\n",
       "  <tbody>\n",
       "    <tr>\n",
       "      <th>0</th>\n",
       "      <td>Afghanistan</td>\n",
       "      <td>04</td>\n",
       "      <td>Dairy produce; birds' eggs; natural honey; edi...</td>\n",
       "      <td>AFG</td>\n",
       "      <td>14916.0</td>\n",
       "    </tr>\n",
       "    <tr>\n",
       "      <th>1</th>\n",
       "      <td>Afghanistan</td>\n",
       "      <td>07</td>\n",
       "      <td>Vegetables and certain roots and tubers; edible</td>\n",
       "      <td>AFG</td>\n",
       "      <td>39966.0</td>\n",
       "    </tr>\n",
       "    <tr>\n",
       "      <th>2</th>\n",
       "      <td>Afghanistan</td>\n",
       "      <td>08</td>\n",
       "      <td>Fruit and nuts, edible; peel of citrus fruit o...</td>\n",
       "      <td>AFG</td>\n",
       "      <td>6111518.0</td>\n",
       "    </tr>\n",
       "    <tr>\n",
       "      <th>3</th>\n",
       "      <td>Afghanistan</td>\n",
       "      <td>09</td>\n",
       "      <td>Coffee, tea, mate and spices</td>\n",
       "      <td>AFG</td>\n",
       "      <td>1506451.0</td>\n",
       "    </tr>\n",
       "    <tr>\n",
       "      <th>4</th>\n",
       "      <td>Afghanistan</td>\n",
       "      <td>12</td>\n",
       "      <td>Oil seeds and oleaginous fruits; miscellaneous...</td>\n",
       "      <td>AFG</td>\n",
       "      <td>105071.0</td>\n",
       "    </tr>\n",
       "    <tr>\n",
       "      <th>...</th>\n",
       "      <td>...</td>\n",
       "      <td>...</td>\n",
       "      <td>...</td>\n",
       "      <td>...</td>\n",
       "      <td>...</td>\n",
       "    </tr>\n",
       "    <tr>\n",
       "      <th>10871</th>\n",
       "      <td>Zimbabwe</td>\n",
       "      <td>94</td>\n",
       "      <td>Furniture; bedding, mattresses, mattress suppo...</td>\n",
       "      <td>ZWE</td>\n",
       "      <td>2991.0</td>\n",
       "    </tr>\n",
       "    <tr>\n",
       "      <th>10872</th>\n",
       "      <td>Zimbabwe</td>\n",
       "      <td>95</td>\n",
       "      <td>Toys, games and sports requisites; parts and a...</td>\n",
       "      <td>ZWE</td>\n",
       "      <td>1240843.0</td>\n",
       "    </tr>\n",
       "    <tr>\n",
       "      <th>10873</th>\n",
       "      <td>Zimbabwe</td>\n",
       "      <td>96</td>\n",
       "      <td>Miscellaneous manufactured articles</td>\n",
       "      <td>ZWE</td>\n",
       "      <td>26570.0</td>\n",
       "    </tr>\n",
       "    <tr>\n",
       "      <th>10874</th>\n",
       "      <td>Zimbabwe</td>\n",
       "      <td>97</td>\n",
       "      <td>Works of art; collectors' pieces and antiques</td>\n",
       "      <td>ZWE</td>\n",
       "      <td>1109077.0</td>\n",
       "    </tr>\n",
       "    <tr>\n",
       "      <th>10875</th>\n",
       "      <td>Zimbabwe</td>\n",
       "      <td>99</td>\n",
       "      <td>Commodities not specified according to kind</td>\n",
       "      <td>ZWE</td>\n",
       "      <td>380527.0</td>\n",
       "    </tr>\n",
       "  </tbody>\n",
       "</table>\n",
       "<p>10876 rows × 5 columns</p>\n",
       "</div>"
      ],
      "text/plain": [
       "       partnerDesc cmdCode                                            cmdDesc  \\\n",
       "0      Afghanistan      04  Dairy produce; birds' eggs; natural honey; edi...   \n",
       "1      Afghanistan      07    Vegetables and certain roots and tubers; edible   \n",
       "2      Afghanistan      08  Fruit and nuts, edible; peel of citrus fruit o...   \n",
       "3      Afghanistan      09                       Coffee, tea, mate and spices   \n",
       "4      Afghanistan      12  Oil seeds and oleaginous fruits; miscellaneous...   \n",
       "...            ...     ...                                                ...   \n",
       "10871     Zimbabwe      94  Furniture; bedding, mattresses, mattress suppo...   \n",
       "10872     Zimbabwe      95  Toys, games and sports requisites; parts and a...   \n",
       "10873     Zimbabwe      96                Miscellaneous manufactured articles   \n",
       "10874     Zimbabwe      97      Works of art; collectors' pieces and antiques   \n",
       "10875     Zimbabwe      99        Commodities not specified according to kind   \n",
       "\n",
       "      partnerISO   fobvalue  \n",
       "0            AFG    14916.0  \n",
       "1            AFG    39966.0  \n",
       "2            AFG  6111518.0  \n",
       "3            AFG  1506451.0  \n",
       "4            AFG   105071.0  \n",
       "...          ...        ...  \n",
       "10871        ZWE     2991.0  \n",
       "10872        ZWE  1240843.0  \n",
       "10873        ZWE    26570.0  \n",
       "10874        ZWE  1109077.0  \n",
       "10875        ZWE   380527.0  \n",
       "\n",
       "[10876 rows x 5 columns]"
      ]
     },
     "execution_count": 19,
     "metadata": {},
     "output_type": "execute_result"
    }
   ],
   "source": [
    "partner_cmdcode_export = usa_imports_2022.groupby(['partnerDesc','cmdCode','cmdDesc','partnerISO'])['fobvalue'].sum().reset_index()\n",
    "partner_cmdcode_export"
   ]
  },
  {
   "cell_type": "markdown",
   "metadata": {
    "id": "PiiCef1ArOq4"
   },
   "source": [
    "### Lets see what products Japan exports to USA"
   ]
  },
  {
   "cell_type": "code",
   "execution_count": 20,
   "metadata": {
    "colab": {
     "base_uri": "https://localhost:8080/",
     "height": 206
    },
    "executionInfo": {
     "elapsed": 77,
     "status": "ok",
     "timestamp": 1731060564049,
     "user": {
      "displayName": "Oluwatobiloba Odeyemi",
      "userId": "00587895885485655319"
     },
     "user_tz": -60
    },
    "id": "Ful7GZNWnURv",
    "outputId": "e31e424e-c96a-4c45-b51f-a173e70944ab"
   },
   "outputs": [
    {
     "data": {
      "text/html": [
       "<div>\n",
       "<style scoped>\n",
       "    .dataframe tbody tr th:only-of-type {\n",
       "        vertical-align: middle;\n",
       "    }\n",
       "\n",
       "    .dataframe tbody tr th {\n",
       "        vertical-align: top;\n",
       "    }\n",
       "\n",
       "    .dataframe thead th {\n",
       "        text-align: right;\n",
       "    }\n",
       "</style>\n",
       "<table border=\"1\" class=\"dataframe\">\n",
       "  <thead>\n",
       "    <tr style=\"text-align: right;\">\n",
       "      <th></th>\n",
       "      <th>partnerDesc</th>\n",
       "      <th>cmdCode</th>\n",
       "      <th>cmdDesc</th>\n",
       "      <th>partnerISO</th>\n",
       "      <th>fobvalue</th>\n",
       "    </tr>\n",
       "  </thead>\n",
       "  <tbody>\n",
       "    <tr>\n",
       "      <th>5079</th>\n",
       "      <td>Japan</td>\n",
       "      <td>01</td>\n",
       "      <td>Animals; live</td>\n",
       "      <td>JPN</td>\n",
       "      <td>6609107.0</td>\n",
       "    </tr>\n",
       "    <tr>\n",
       "      <th>5080</th>\n",
       "      <td>Japan</td>\n",
       "      <td>02</td>\n",
       "      <td>Meat and edible meat offal</td>\n",
       "      <td>JPN</td>\n",
       "      <td>70903355.0</td>\n",
       "    </tr>\n",
       "    <tr>\n",
       "      <th>5081</th>\n",
       "      <td>Japan</td>\n",
       "      <td>03</td>\n",
       "      <td>Fish and crustaceans, molluscs and other aquat...</td>\n",
       "      <td>JPN</td>\n",
       "      <td>435645055.0</td>\n",
       "    </tr>\n",
       "    <tr>\n",
       "      <th>5082</th>\n",
       "      <td>Japan</td>\n",
       "      <td>04</td>\n",
       "      <td>Dairy produce; birds' eggs; natural honey; edi...</td>\n",
       "      <td>JPN</td>\n",
       "      <td>1429466.0</td>\n",
       "    </tr>\n",
       "    <tr>\n",
       "      <th>5083</th>\n",
       "      <td>Japan</td>\n",
       "      <td>05</td>\n",
       "      <td>Animal originated products; not elsewhere spec...</td>\n",
       "      <td>JPN</td>\n",
       "      <td>1747253.0</td>\n",
       "    </tr>\n",
       "  </tbody>\n",
       "</table>\n",
       "</div>"
      ],
      "text/plain": [
       "     partnerDesc cmdCode                                            cmdDesc  \\\n",
       "5079       Japan      01                                      Animals; live   \n",
       "5080       Japan      02                         Meat and edible meat offal   \n",
       "5081       Japan      03  Fish and crustaceans, molluscs and other aquat...   \n",
       "5082       Japan      04  Dairy produce; birds' eggs; natural honey; edi...   \n",
       "5083       Japan      05  Animal originated products; not elsewhere spec...   \n",
       "\n",
       "     partnerISO     fobvalue  \n",
       "5079        JPN    6609107.0  \n",
       "5080        JPN   70903355.0  \n",
       "5081        JPN  435645055.0  \n",
       "5082        JPN    1429466.0  \n",
       "5083        JPN    1747253.0  "
      ]
     },
     "execution_count": 20,
     "metadata": {},
     "output_type": "execute_result"
    }
   ],
   "source": [
    "japan_exports = partner_cmdcode_export[partner_cmdcode_export['partnerDesc'] == 'Japan']\n",
    "japan_exports.head()"
   ]
  },
  {
   "cell_type": "markdown",
   "metadata": {
    "id": "pFEzQb2OEuni"
   },
   "source": [
    "# How many countries export to the USA?"
   ]
  },
  {
   "cell_type": "code",
   "execution_count": 21,
   "metadata": {
    "colab": {
     "base_uri": "https://localhost:8080/"
    },
    "executionInfo": {
     "elapsed": 74,
     "status": "ok",
     "timestamp": 1731060564049,
     "user": {
      "displayName": "Oluwatobiloba Odeyemi",
      "userId": "00587895885485655319"
     },
     "user_tz": -60
    },
    "id": "JpMz_ErFuVw5",
    "outputId": "950c66d8-5bd7-48bd-8dfe-bb662d2e65d6"
   },
   "outputs": [
    {
     "data": {
      "text/plain": [
       "220"
      ]
     },
     "execution_count": 21,
     "metadata": {},
     "output_type": "execute_result"
    }
   ],
   "source": [
    "# prints the number of countries exporting to usa\n",
    "partner_export_2022.shape[0]"
   ]
  },
  {
   "cell_type": "code",
   "execution_count": 22,
   "metadata": {
    "executionInfo": {
     "elapsed": 66,
     "status": "ok",
     "timestamp": 1731060564050,
     "user": {
      "displayName": "Oluwatobiloba Odeyemi",
      "userId": "00587895885485655319"
     },
     "user_tz": -60
    },
    "id": "URFl6Mz3HrBq"
   },
   "outputs": [],
   "source": [
    "# Process the export index dataframe to match our comtrade dataframe\n",
    "index_df.rename(columns={'Country Name': 'partnerDesc', 'Country Code': 'partnerISO', '2022 [YR2022]': 'index'}, inplace=True)\n",
    "index_df= index_df[['partnerDesc', 'partnerISO', 'index']]"
   ]
  },
  {
   "cell_type": "code",
   "execution_count": 23,
   "metadata": {
    "executionInfo": {
     "elapsed": 65,
     "status": "ok",
     "timestamp": 1731060564050,
     "user": {
      "displayName": "Oluwatobiloba Odeyemi",
      "userId": "00587895885485655319"
     },
     "user_tz": -60
    },
    "id": "fIg82106IL7O"
   },
   "outputs": [],
   "source": [
    "#Marge Comtrade data with export index\n",
    "constant_df = pd.merge(partner_export_2022, index_df, on=['partnerISO'], how='left')"
   ]
  },
  {
   "cell_type": "code",
   "execution_count": 24,
   "metadata": {
    "executionInfo": {
     "elapsed": 64,
     "status": "ok",
     "timestamp": 1731060564050,
     "user": {
      "displayName": "Oluwatobiloba Odeyemi",
      "userId": "00587895885485655319"
     },
     "user_tz": -60
    },
    "id": "cxZo1Q94Ifv_"
   },
   "outputs": [],
   "source": [
    "# adjust and fill in the Null values\n",
    "constant_df['index'] = constant_df['index'].replace('..', '100')\n",
    "\n",
    "# fill null value with 100\n",
    "constant_df['index'] = constant_df['index'].fillna(100)"
   ]
  },
  {
   "cell_type": "markdown",
   "metadata": {
    "id": "7uzgUvgcImp8"
   },
   "source": [
    "Adjustment from Current(USD) to Constant(USD). Learn more here: https://datahelpdesk.worldbank.org/knowledgebase/articles/114942-what-is-the-difference-between-current-and-constan"
   ]
  },
  {
   "cell_type": "code",
   "execution_count": 25,
   "metadata": {
    "colab": {
     "base_uri": "https://localhost:8080/",
     "height": 424
    },
    "executionInfo": {
     "elapsed": 366,
     "status": "ok",
     "timestamp": 1731061820884,
     "user": {
      "displayName": "Oluwatobiloba Odeyemi",
      "userId": "00587895885485655319"
     },
     "user_tz": -60
    },
    "id": "PDiLDFZkuVw5",
    "outputId": "3df1c529-06f5-4265-eab3-dbcb5a9ebf00"
   },
   "outputs": [
    {
     "data": {
      "text/html": [
       "<div>\n",
       "<style scoped>\n",
       "    .dataframe tbody tr th:only-of-type {\n",
       "        vertical-align: middle;\n",
       "    }\n",
       "\n",
       "    .dataframe tbody tr th {\n",
       "        vertical-align: top;\n",
       "    }\n",
       "\n",
       "    .dataframe thead th {\n",
       "        text-align: right;\n",
       "    }\n",
       "</style>\n",
       "<table border=\"1\" class=\"dataframe\">\n",
       "  <thead>\n",
       "    <tr style=\"text-align: right;\">\n",
       "      <th></th>\n",
       "      <th>partnerDesc_x</th>\n",
       "      <th>country_iso3</th>\n",
       "      <th>fobvalue</th>\n",
       "      <th>partnerDesc_y</th>\n",
       "      <th>index</th>\n",
       "      <th>constant_usd</th>\n",
       "    </tr>\n",
       "  </thead>\n",
       "  <tbody>\n",
       "    <tr>\n",
       "      <th>0</th>\n",
       "      <td>Afghanistan</td>\n",
       "      <td>AFG</td>\n",
       "      <td>2.254660e+07</td>\n",
       "      <td>Afghanistan</td>\n",
       "      <td>143.2</td>\n",
       "      <td>1.574483e+07</td>\n",
       "    </tr>\n",
       "    <tr>\n",
       "      <th>1</th>\n",
       "      <td>Albania</td>\n",
       "      <td>ALB</td>\n",
       "      <td>1.449910e+08</td>\n",
       "      <td>Albania</td>\n",
       "      <td>131.2</td>\n",
       "      <td>1.105115e+08</td>\n",
       "    </tr>\n",
       "    <tr>\n",
       "      <th>2</th>\n",
       "      <td>Algeria</td>\n",
       "      <td>DZA</td>\n",
       "      <td>3.060778e+09</td>\n",
       "      <td>Algeria</td>\n",
       "      <td>203.1</td>\n",
       "      <td>1.507030e+09</td>\n",
       "    </tr>\n",
       "    <tr>\n",
       "      <th>3</th>\n",
       "      <td>Andorra</td>\n",
       "      <td>AND</td>\n",
       "      <td>9.778800e+06</td>\n",
       "      <td>Andorra</td>\n",
       "      <td>116.4</td>\n",
       "      <td>8.401031e+06</td>\n",
       "    </tr>\n",
       "    <tr>\n",
       "      <th>4</th>\n",
       "      <td>Angola</td>\n",
       "      <td>AGO</td>\n",
       "      <td>1.611020e+09</td>\n",
       "      <td>Angola</td>\n",
       "      <td>220.4</td>\n",
       "      <td>7.309527e+08</td>\n",
       "    </tr>\n",
       "    <tr>\n",
       "      <th>...</th>\n",
       "      <td>...</td>\n",
       "      <td>...</td>\n",
       "      <td>...</td>\n",
       "      <td>...</td>\n",
       "      <td>...</td>\n",
       "      <td>...</td>\n",
       "    </tr>\n",
       "    <tr>\n",
       "      <th>215</th>\n",
       "      <td>Viet Nam</td>\n",
       "      <td>VNM</td>\n",
       "      <td>1.275212e+11</td>\n",
       "      <td>Viet Nam</td>\n",
       "      <td>114.3</td>\n",
       "      <td>1.115671e+11</td>\n",
       "    </tr>\n",
       "    <tr>\n",
       "      <th>216</th>\n",
       "      <td>Wallis and Futuna Isds</td>\n",
       "      <td>WLF</td>\n",
       "      <td>1.079010e+05</td>\n",
       "      <td>NaN</td>\n",
       "      <td>100.0</td>\n",
       "      <td>1.079010e+05</td>\n",
       "    </tr>\n",
       "    <tr>\n",
       "      <th>217</th>\n",
       "      <td>Yemen</td>\n",
       "      <td>YEM</td>\n",
       "      <td>3.141011e+07</td>\n",
       "      <td>Yemen, Rep.</td>\n",
       "      <td>147.5</td>\n",
       "      <td>2.129499e+07</td>\n",
       "    </tr>\n",
       "    <tr>\n",
       "      <th>218</th>\n",
       "      <td>Zambia</td>\n",
       "      <td>ZMB</td>\n",
       "      <td>1.352544e+08</td>\n",
       "      <td>Zambia</td>\n",
       "      <td>163.1</td>\n",
       "      <td>8.292731e+07</td>\n",
       "    </tr>\n",
       "    <tr>\n",
       "      <th>219</th>\n",
       "      <td>Zimbabwe</td>\n",
       "      <td>ZWE</td>\n",
       "      <td>8.650949e+07</td>\n",
       "      <td>Zimbabwe</td>\n",
       "      <td>136.2</td>\n",
       "      <td>6.351651e+07</td>\n",
       "    </tr>\n",
       "  </tbody>\n",
       "</table>\n",
       "<p>220 rows × 6 columns</p>\n",
       "</div>"
      ],
      "text/plain": [
       "              partnerDesc_x country_iso3      fobvalue partnerDesc_y  index  \\\n",
       "0               Afghanistan          AFG  2.254660e+07   Afghanistan  143.2   \n",
       "1                   Albania          ALB  1.449910e+08       Albania  131.2   \n",
       "2                   Algeria          DZA  3.060778e+09       Algeria  203.1   \n",
       "3                   Andorra          AND  9.778800e+06       Andorra  116.4   \n",
       "4                    Angola          AGO  1.611020e+09        Angola  220.4   \n",
       "..                      ...          ...           ...           ...    ...   \n",
       "215                Viet Nam          VNM  1.275212e+11      Viet Nam  114.3   \n",
       "216  Wallis and Futuna Isds          WLF  1.079010e+05           NaN  100.0   \n",
       "217                   Yemen          YEM  3.141011e+07   Yemen, Rep.  147.5   \n",
       "218                  Zambia          ZMB  1.352544e+08        Zambia  163.1   \n",
       "219                Zimbabwe          ZWE  8.650949e+07      Zimbabwe  136.2   \n",
       "\n",
       "     constant_usd  \n",
       "0    1.574483e+07  \n",
       "1    1.105115e+08  \n",
       "2    1.507030e+09  \n",
       "3    8.401031e+06  \n",
       "4    7.309527e+08  \n",
       "..            ...  \n",
       "215  1.115671e+11  \n",
       "216  1.079010e+05  \n",
       "217  2.129499e+07  \n",
       "218  8.292731e+07  \n",
       "219  6.351651e+07  \n",
       "\n",
       "[220 rows x 6 columns]"
      ]
     },
     "execution_count": 25,
     "metadata": {},
     "output_type": "execute_result"
    }
   ],
   "source": [
    "# Calculate the constant USD value at 2015\n",
    "constant_df['index'] = pd.to_numeric(constant_df['index'], errors='coerce')\n",
    "constant_df['constant_usd'] = constant_df['fobvalue'] / (constant_df['index']) * 100\n",
    "constant_df.rename(columns={'partnerISO':'country_iso3'\n",
    "                },inplace=True)\n",
    "\n",
    "constant_df"
   ]
  },
  {
   "cell_type": "markdown",
   "metadata": {
    "id": "F45EF_bEJShD"
   },
   "source": [
    "# What is the Constant import value?"
   ]
  },
  {
   "cell_type": "code",
   "execution_count": 26,
   "metadata": {
    "colab": {
     "base_uri": "https://localhost:8080/"
    },
    "executionInfo": {
     "elapsed": 15,
     "status": "ok",
     "timestamp": 1731060565332,
     "user": {
      "displayName": "Oluwatobiloba Odeyemi",
      "userId": "00587895885485655319"
     },
     "user_tz": -60
    },
    "id": "0MFKE0yNuVw5",
    "outputId": "841bf8e2-4980-4824-ccd9-02f5486450a6"
   },
   "outputs": [
    {
     "name": "stdout",
     "output_type": "stream",
     "text": [
      "Total adjusted import value for the year 2022: 2613093856064.923\n"
     ]
    }
   ],
   "source": [
    "# calculate the total import value\n",
    "total_imports_2022 = constant_df['constant_usd'].sum()\n",
    "print(f\"Total adjusted import value for the year 2022: {total_imports_2022}\")"
   ]
  },
  {
   "cell_type": "markdown",
   "metadata": {
    "id": "lnLtZYSSuVw5"
   },
   "source": [
    "# Services data\n",
    "Trade in services records the value of services exchanged between residents and non-residents of an economy, including services provided through foreign affiliates established abroad. - https://www.oecd.org/en/data/indicators/trade-in-services.html"
   ]
  },
  {
   "cell_type": "code",
   "execution_count": 27,
   "metadata": {
    "colab": {
     "base_uri": "https://localhost:8080/",
     "height": 417
    },
    "executionInfo": {
     "elapsed": 404,
     "status": "ok",
     "timestamp": 1731060569702,
     "user": {
      "displayName": "Oluwatobiloba Odeyemi",
      "userId": "00587895885485655319"
     },
     "user_tz": -60
    },
    "id": "seM5iWCpuVw6",
    "outputId": "b777c7ed-dd8a-44a3-d4e5-680de7837131"
   },
   "outputs": [
    {
     "data": {
      "text/html": [
       "<div>\n",
       "<style scoped>\n",
       "    .dataframe tbody tr th:only-of-type {\n",
       "        vertical-align: middle;\n",
       "    }\n",
       "\n",
       "    .dataframe tbody tr th {\n",
       "        vertical-align: top;\n",
       "    }\n",
       "\n",
       "    .dataframe thead th {\n",
       "        text-align: right;\n",
       "    }\n",
       "</style>\n",
       "<table border=\"1\" class=\"dataframe\">\n",
       "  <thead>\n",
       "    <tr style=\"text-align: right;\">\n",
       "      <th></th>\n",
       "      <th>FLOW</th>\n",
       "      <th>INDICATOR_CODE</th>\n",
       "      <th>REPORTER CODE</th>\n",
       "      <th>PARTNER CODE</th>\n",
       "      <th>REPORTER_COUNTRY_CODE</th>\n",
       "      <th>PARTNER_COUNTRY_CODE</th>\n",
       "      <th>REPORTING ECONOMY</th>\n",
       "      <th>PARTNER ECONOMY</th>\n",
       "      <th>SECTOR</th>\n",
       "      <th>YEAR</th>\n",
       "      <th>VALUE</th>\n",
       "      <th>UNIT</th>\n",
       "    </tr>\n",
       "  </thead>\n",
       "  <tbody>\n",
       "    <tr>\n",
       "      <th>42219</th>\n",
       "      <td>Imports</td>\n",
       "      <td>SOX1</td>\n",
       "      <td>US</td>\n",
       "      <td>WL</td>\n",
       "      <td>RC840</td>\n",
       "      <td>SA000</td>\n",
       "      <td>United States of America</td>\n",
       "      <td>World</td>\n",
       "      <td>Other commercial services</td>\n",
       "      <td>2022</td>\n",
       "      <td>406552.0</td>\n",
       "      <td>Million US dollar</td>\n",
       "    </tr>\n",
       "    <tr>\n",
       "      <th>34676</th>\n",
       "      <td>Imports</td>\n",
       "      <td>S</td>\n",
       "      <td>US</td>\n",
       "      <td>WL</td>\n",
       "      <td>RC840</td>\n",
       "      <td>SA000</td>\n",
       "      <td>United States of America</td>\n",
       "      <td>World</td>\n",
       "      <td>Memo item: Total services</td>\n",
       "      <td>2022</td>\n",
       "      <td>713886.0</td>\n",
       "      <td>Million US dollar</td>\n",
       "    </tr>\n",
       "    <tr>\n",
       "      <th>49747</th>\n",
       "      <td>Imports</td>\n",
       "      <td>SC</td>\n",
       "      <td>US</td>\n",
       "      <td>WL</td>\n",
       "      <td>RC840</td>\n",
       "      <td>SA000</td>\n",
       "      <td>United States of America</td>\n",
       "      <td>World</td>\n",
       "      <td>Transport</td>\n",
       "      <td>2022</td>\n",
       "      <td>157711.0</td>\n",
       "      <td>Million US dollar</td>\n",
       "    </tr>\n",
       "    <tr>\n",
       "      <th>26964</th>\n",
       "      <td>Imports</td>\n",
       "      <td>SPX1</td>\n",
       "      <td>US</td>\n",
       "      <td>WL</td>\n",
       "      <td>RC840</td>\n",
       "      <td>SA000</td>\n",
       "      <td>United States of America</td>\n",
       "      <td>World</td>\n",
       "      <td>Memo item: Other services</td>\n",
       "      <td>2022</td>\n",
       "      <td>432099.0</td>\n",
       "      <td>Million US dollar</td>\n",
       "    </tr>\n",
       "    <tr>\n",
       "      <th>7287</th>\n",
       "      <td>Imports</td>\n",
       "      <td>SOX</td>\n",
       "      <td>US</td>\n",
       "      <td>WL</td>\n",
       "      <td>RC840</td>\n",
       "      <td>SA000</td>\n",
       "      <td>United States of America</td>\n",
       "      <td>World</td>\n",
       "      <td>Commercial services</td>\n",
       "      <td>2022</td>\n",
       "      <td>688339.0</td>\n",
       "      <td>Million US dollar</td>\n",
       "    </tr>\n",
       "  </tbody>\n",
       "</table>\n",
       "</div>"
      ],
      "text/plain": [
       "          FLOW INDICATOR_CODE REPORTER CODE PARTNER CODE  \\\n",
       "42219  Imports       SOX1                US           WL   \n",
       "34676  Imports       S                   US           WL   \n",
       "49747  Imports       SC                  US           WL   \n",
       "26964  Imports       SPX1                US           WL   \n",
       "7287   Imports       SOX                 US           WL   \n",
       "\n",
       "      REPORTER_COUNTRY_CODE PARTNER_COUNTRY_CODE         REPORTING ECONOMY  \\\n",
       "42219                 RC840                SA000  United States of America   \n",
       "34676                 RC840                SA000  United States of America   \n",
       "49747                 RC840                SA000  United States of America   \n",
       "26964                 RC840                SA000  United States of America   \n",
       "7287                  RC840                SA000  United States of America   \n",
       "\n",
       "      PARTNER ECONOMY                     SECTOR  YEAR     VALUE  \\\n",
       "42219           World  Other commercial services  2022  406552.0   \n",
       "34676           World  Memo item: Total services  2022  713886.0   \n",
       "49747           World                  Transport  2022  157711.0   \n",
       "26964           World  Memo item: Other services  2022  432099.0   \n",
       "7287            World        Commercial services  2022  688339.0   \n",
       "\n",
       "                    UNIT  \n",
       "42219  Million US dollar  \n",
       "34676  Million US dollar  \n",
       "49747  Million US dollar  \n",
       "26964  Million US dollar  \n",
       "7287   Million US dollar  "
      ]
     },
     "execution_count": 27,
     "metadata": {},
     "output_type": "execute_result"
    }
   ],
   "source": [
    "# slice dataframe\n",
    "usa_services = services_df[services_df['REPORTER CODE'] == 'US']\n",
    "sorted_usa_services = usa_services[usa_services['FLOW'] == 'Imports'].sort_values('FLOW')\n",
    "\n",
    "# sort by specif year\n",
    "services_df_2022 = sorted_usa_services[sorted_usa_services.YEAR == 2022]\n",
    "services_df_2022.head()"
   ]
  },
  {
   "cell_type": "markdown",
   "metadata": {
    "id": "aKsmiglNviiu"
   },
   "source": [
    "Merge the Comtrade data at constant 2015 to the GDP dataframe"
   ]
  },
  {
   "cell_type": "code",
   "execution_count": 28,
   "metadata": {
    "executionInfo": {
     "elapsed": 6,
     "status": "ok",
     "timestamp": 1731061826623,
     "user": {
      "displayName": "Oluwatobiloba Odeyemi",
      "userId": "00587895885485655319"
     },
     "user_tz": -60
    },
    "id": "rCHXVls3uVw6"
   },
   "outputs": [],
   "source": [
    "# specify final merged data columns to be merged\n",
    "new_final_merged_data = final_merged_data.loc[:,['country_iso3','GDP_per_hour']]\n",
    "# Merge Comtrade Data with the GDP per hour date\n",
    "marged_comtrade_gdp_per_hour = pd.merge(constant_df,new_final_merged_data, on='country_iso3', how='left')\n",
    "# marged_comtrade_gdp_per_hour"
   ]
  },
  {
   "cell_type": "markdown",
   "metadata": {
    "id": "kOTQpJDjv8EA"
   },
   "source": [
    "Include the gdp per capita to the dataframe in order to prepare the dataset for trainning. THis trainning it necessary in order to determin the GDP per hour for countries who's data are not readily available."
   ]
  },
  {
   "cell_type": "code",
   "execution_count": 29,
   "metadata": {
    "colab": {
     "base_uri": "https://localhost:8080/",
     "height": 461
    },
    "executionInfo": {
     "elapsed": 446,
     "status": "ok",
     "timestamp": 1731061829257,
     "user": {
      "displayName": "Oluwatobiloba Odeyemi",
      "userId": "00587895885485655319"
     },
     "user_tz": -60
    },
    "id": "1i2kgFuhuVw6",
    "outputId": "72386da3-fe5b-4029-a836-5f902126908d"
   },
   "outputs": [
    {
     "data": {
      "text/html": [
       "<div>\n",
       "<style scoped>\n",
       "    .dataframe tbody tr th:only-of-type {\n",
       "        vertical-align: middle;\n",
       "    }\n",
       "\n",
       "    .dataframe tbody tr th {\n",
       "        vertical-align: top;\n",
       "    }\n",
       "\n",
       "    .dataframe thead th {\n",
       "        text-align: right;\n",
       "    }\n",
       "</style>\n",
       "<table border=\"1\" class=\"dataframe\">\n",
       "  <thead>\n",
       "    <tr style=\"text-align: right;\">\n",
       "      <th></th>\n",
       "      <th>partnerDesc_x</th>\n",
       "      <th>country_iso3</th>\n",
       "      <th>fobvalue</th>\n",
       "      <th>partnerDesc_y</th>\n",
       "      <th>index</th>\n",
       "      <th>constant_usd</th>\n",
       "      <th>GDP_per_hour</th>\n",
       "      <th>GDP_per_capita_2022</th>\n",
       "    </tr>\n",
       "  </thead>\n",
       "  <tbody>\n",
       "    <tr>\n",
       "      <th>0</th>\n",
       "      <td>Afghanistan</td>\n",
       "      <td>AFG</td>\n",
       "      <td>2.254660e+07</td>\n",
       "      <td>Afghanistan</td>\n",
       "      <td>143.2</td>\n",
       "      <td>1.574483e+07</td>\n",
       "      <td>0.450339</td>\n",
       "      <td>372.615895</td>\n",
       "    </tr>\n",
       "    <tr>\n",
       "      <th>1</th>\n",
       "      <td>Albania</td>\n",
       "      <td>ALB</td>\n",
       "      <td>1.449910e+08</td>\n",
       "      <td>Albania</td>\n",
       "      <td>131.2</td>\n",
       "      <td>1.105115e+08</td>\n",
       "      <td>2.683043</td>\n",
       "      <td>5155.29086</td>\n",
       "    </tr>\n",
       "    <tr>\n",
       "      <th>2</th>\n",
       "      <td>Algeria</td>\n",
       "      <td>DZA</td>\n",
       "      <td>3.060778e+09</td>\n",
       "      <td>Algeria</td>\n",
       "      <td>203.1</td>\n",
       "      <td>1.507030e+09</td>\n",
       "      <td>NaN</td>\n",
       "      <td>4602.575608</td>\n",
       "    </tr>\n",
       "    <tr>\n",
       "      <th>3</th>\n",
       "      <td>Andorra</td>\n",
       "      <td>AND</td>\n",
       "      <td>9.778800e+06</td>\n",
       "      <td>Andorra</td>\n",
       "      <td>116.4</td>\n",
       "      <td>8.401031e+06</td>\n",
       "      <td>NaN</td>\n",
       "      <td>39720.951859</td>\n",
       "    </tr>\n",
       "    <tr>\n",
       "      <th>4</th>\n",
       "      <td>Angola</td>\n",
       "      <td>AGO</td>\n",
       "      <td>1.611020e+09</td>\n",
       "      <td>Angola</td>\n",
       "      <td>220.4</td>\n",
       "      <td>7.309527e+08</td>\n",
       "      <td>2.592022</td>\n",
       "      <td>2385.119956</td>\n",
       "    </tr>\n",
       "    <tr>\n",
       "      <th>...</th>\n",
       "      <td>...</td>\n",
       "      <td>...</td>\n",
       "      <td>...</td>\n",
       "      <td>...</td>\n",
       "      <td>...</td>\n",
       "      <td>...</td>\n",
       "      <td>...</td>\n",
       "      <td>...</td>\n",
       "    </tr>\n",
       "    <tr>\n",
       "      <th>215</th>\n",
       "      <td>Viet Nam</td>\n",
       "      <td>VNM</td>\n",
       "      <td>1.275212e+11</td>\n",
       "      <td>Viet Nam</td>\n",
       "      <td>114.3</td>\n",
       "      <td>1.115671e+11</td>\n",
       "      <td>1.994271</td>\n",
       "      <td>3658.693163</td>\n",
       "    </tr>\n",
       "    <tr>\n",
       "      <th>216</th>\n",
       "      <td>Wallis and Futuna Isds</td>\n",
       "      <td>WLF</td>\n",
       "      <td>1.079010e+05</td>\n",
       "      <td>NaN</td>\n",
       "      <td>100.0</td>\n",
       "      <td>1.079010e+05</td>\n",
       "      <td>0.000000</td>\n",
       "      <td>NaN</td>\n",
       "    </tr>\n",
       "    <tr>\n",
       "      <th>217</th>\n",
       "      <td>Yemen</td>\n",
       "      <td>YEM</td>\n",
       "      <td>3.141011e+07</td>\n",
       "      <td>Yemen, Rep.</td>\n",
       "      <td>147.5</td>\n",
       "      <td>2.129499e+07</td>\n",
       "      <td>0.670416</td>\n",
       "      <td>1017.873109</td>\n",
       "    </tr>\n",
       "    <tr>\n",
       "      <th>218</th>\n",
       "      <td>Zambia</td>\n",
       "      <td>ZMB</td>\n",
       "      <td>1.352544e+08</td>\n",
       "      <td>Zambia</td>\n",
       "      <td>163.1</td>\n",
       "      <td>8.292731e+07</td>\n",
       "      <td>0.995522</td>\n",
       "      <td>1308.101838</td>\n",
       "    </tr>\n",
       "    <tr>\n",
       "      <th>219</th>\n",
       "      <td>Zimbabwe</td>\n",
       "      <td>ZWE</td>\n",
       "      <td>8.650949e+07</td>\n",
       "      <td>Zimbabwe</td>\n",
       "      <td>136.2</td>\n",
       "      <td>6.351651e+07</td>\n",
       "      <td>0.937394</td>\n",
       "      <td>1345.769083</td>\n",
       "    </tr>\n",
       "  </tbody>\n",
       "</table>\n",
       "<p>220 rows × 8 columns</p>\n",
       "</div>"
      ],
      "text/plain": [
       "              partnerDesc_x country_iso3      fobvalue partnerDesc_y  index  \\\n",
       "0               Afghanistan          AFG  2.254660e+07   Afghanistan  143.2   \n",
       "1                   Albania          ALB  1.449910e+08       Albania  131.2   \n",
       "2                   Algeria          DZA  3.060778e+09       Algeria  203.1   \n",
       "3                   Andorra          AND  9.778800e+06       Andorra  116.4   \n",
       "4                    Angola          AGO  1.611020e+09        Angola  220.4   \n",
       "..                      ...          ...           ...           ...    ...   \n",
       "215                Viet Nam          VNM  1.275212e+11      Viet Nam  114.3   \n",
       "216  Wallis and Futuna Isds          WLF  1.079010e+05           NaN  100.0   \n",
       "217                   Yemen          YEM  3.141011e+07   Yemen, Rep.  147.5   \n",
       "218                  Zambia          ZMB  1.352544e+08        Zambia  163.1   \n",
       "219                Zimbabwe          ZWE  8.650949e+07      Zimbabwe  136.2   \n",
       "\n",
       "     constant_usd  GDP_per_hour GDP_per_capita_2022  \n",
       "0    1.574483e+07      0.450339          372.615895  \n",
       "1    1.105115e+08      2.683043          5155.29086  \n",
       "2    1.507030e+09           NaN         4602.575608  \n",
       "3    8.401031e+06           NaN        39720.951859  \n",
       "4    7.309527e+08      2.592022         2385.119956  \n",
       "..            ...           ...                 ...  \n",
       "215  1.115671e+11      1.994271         3658.693163  \n",
       "216  1.079010e+05      0.000000                 NaN  \n",
       "217  2.129499e+07      0.670416         1017.873109  \n",
       "218  8.292731e+07      0.995522         1308.101838  \n",
       "219  6.351651e+07      0.937394         1345.769083  \n",
       "\n",
       "[220 rows x 8 columns]"
      ]
     },
     "execution_count": 29,
     "metadata": {},
     "output_type": "execute_result"
    }
   ],
   "source": [
    "# Function to clean ther GDP_per_capita data frame\n",
    "def GDP_per_capita_clean(GDP_per_capita):\n",
    "        # Copy the data to avoid changing the original DataFrame outside the function scope\n",
    "        new_GDP_per_capita = GDP_per_capita.copy()\n",
    "\n",
    "        #rename columns from the new_GDP dataset\n",
    "        new_GDP_per_capita.rename(columns={\n",
    "                        'Country Code': 'country_iso3',\n",
    "                        '2022 [YR2022]': 'GDP_per_capita_2022'\n",
    "                    },inplace=True)\n",
    "        # specify final merged data columns to be merged\n",
    "        GDP_per_capita_ = new_GDP_per_capita.loc[:,['country_iso3','GDP_per_capita_2022']]\n",
    "\n",
    "        return GDP_per_capita_\n",
    "new_gpd_per_capita = GDP_per_capita_clean(GDP_per_capita)\n",
    "\n",
    "# Merge the GDP per capita with the marged_comtrade_gdp_per_hour data frame and get the data ready for trainning\n",
    "marged_comtrade_gdp_per_hour_per_gdpper_capita = pd.merge(marged_comtrade_gdp_per_hour,new_gpd_per_capita, on='country_iso3', how='left')\n",
    "marged_comtrade_gdp_per_hour_per_gdpper_capita"
   ]
  },
  {
   "cell_type": "markdown",
   "metadata": {
    "id": "lEQo0Oz-wXcL"
   },
   "source": [
    "Update countries gdp per capita that are not readily available"
   ]
  },
  {
   "cell_type": "code",
   "execution_count": 30,
   "metadata": {
    "colab": {
     "base_uri": "https://localhost:8080/",
     "height": 461
    },
    "executionInfo": {
     "elapsed": 378,
     "status": "ok",
     "timestamp": 1731061832669,
     "user": {
      "displayName": "Oluwatobiloba Odeyemi",
      "userId": "00587895885485655319"
     },
     "user_tz": -60
    },
    "id": "H4SyJac9uVw6",
    "outputId": "0c2d8a18-d213-4f39-b3c1-6a2a3e61c078"
   },
   "outputs": [
    {
     "data": {
      "text/html": [
       "<div>\n",
       "<style scoped>\n",
       "    .dataframe tbody tr th:only-of-type {\n",
       "        vertical-align: middle;\n",
       "    }\n",
       "\n",
       "    .dataframe tbody tr th {\n",
       "        vertical-align: top;\n",
       "    }\n",
       "\n",
       "    .dataframe thead th {\n",
       "        text-align: right;\n",
       "    }\n",
       "</style>\n",
       "<table border=\"1\" class=\"dataframe\">\n",
       "  <thead>\n",
       "    <tr style=\"text-align: right;\">\n",
       "      <th></th>\n",
       "      <th>partnerDesc_x</th>\n",
       "      <th>country_iso3</th>\n",
       "      <th>fobvalue</th>\n",
       "      <th>partnerDesc_y</th>\n",
       "      <th>index</th>\n",
       "      <th>constant_usd</th>\n",
       "      <th>GDP_per_hour</th>\n",
       "      <th>GDP_per_capita_2022</th>\n",
       "    </tr>\n",
       "  </thead>\n",
       "  <tbody>\n",
       "    <tr>\n",
       "      <th>0</th>\n",
       "      <td>Afghanistan</td>\n",
       "      <td>AFG</td>\n",
       "      <td>2.254660e+07</td>\n",
       "      <td>Afghanistan</td>\n",
       "      <td>143.2</td>\n",
       "      <td>1.574483e+07</td>\n",
       "      <td>0.450339</td>\n",
       "      <td>372.615895</td>\n",
       "    </tr>\n",
       "    <tr>\n",
       "      <th>1</th>\n",
       "      <td>Albania</td>\n",
       "      <td>ALB</td>\n",
       "      <td>1.449910e+08</td>\n",
       "      <td>Albania</td>\n",
       "      <td>131.2</td>\n",
       "      <td>1.105115e+08</td>\n",
       "      <td>2.683043</td>\n",
       "      <td>5155.29086</td>\n",
       "    </tr>\n",
       "    <tr>\n",
       "      <th>2</th>\n",
       "      <td>Algeria</td>\n",
       "      <td>DZA</td>\n",
       "      <td>3.060778e+09</td>\n",
       "      <td>Algeria</td>\n",
       "      <td>203.1</td>\n",
       "      <td>1.507030e+09</td>\n",
       "      <td>NaN</td>\n",
       "      <td>4602.575608</td>\n",
       "    </tr>\n",
       "    <tr>\n",
       "      <th>3</th>\n",
       "      <td>Andorra</td>\n",
       "      <td>AND</td>\n",
       "      <td>9.778800e+06</td>\n",
       "      <td>Andorra</td>\n",
       "      <td>116.4</td>\n",
       "      <td>8.401031e+06</td>\n",
       "      <td>NaN</td>\n",
       "      <td>39720.951859</td>\n",
       "    </tr>\n",
       "    <tr>\n",
       "      <th>4</th>\n",
       "      <td>Angola</td>\n",
       "      <td>AGO</td>\n",
       "      <td>1.611020e+09</td>\n",
       "      <td>Angola</td>\n",
       "      <td>220.4</td>\n",
       "      <td>7.309527e+08</td>\n",
       "      <td>2.592022</td>\n",
       "      <td>2385.119956</td>\n",
       "    </tr>\n",
       "    <tr>\n",
       "      <th>...</th>\n",
       "      <td>...</td>\n",
       "      <td>...</td>\n",
       "      <td>...</td>\n",
       "      <td>...</td>\n",
       "      <td>...</td>\n",
       "      <td>...</td>\n",
       "      <td>...</td>\n",
       "      <td>...</td>\n",
       "    </tr>\n",
       "    <tr>\n",
       "      <th>215</th>\n",
       "      <td>Viet Nam</td>\n",
       "      <td>VNM</td>\n",
       "      <td>1.275212e+11</td>\n",
       "      <td>Viet Nam</td>\n",
       "      <td>114.3</td>\n",
       "      <td>1.115671e+11</td>\n",
       "      <td>1.994271</td>\n",
       "      <td>3658.693163</td>\n",
       "    </tr>\n",
       "    <tr>\n",
       "      <th>216</th>\n",
       "      <td>Wallis and Futuna Isds</td>\n",
       "      <td>WLF</td>\n",
       "      <td>1.079010e+05</td>\n",
       "      <td>NaN</td>\n",
       "      <td>100.0</td>\n",
       "      <td>1.079010e+05</td>\n",
       "      <td>0.000000</td>\n",
       "      <td>12460</td>\n",
       "    </tr>\n",
       "    <tr>\n",
       "      <th>217</th>\n",
       "      <td>Yemen</td>\n",
       "      <td>YEM</td>\n",
       "      <td>3.141011e+07</td>\n",
       "      <td>Yemen, Rep.</td>\n",
       "      <td>147.5</td>\n",
       "      <td>2.129499e+07</td>\n",
       "      <td>0.670416</td>\n",
       "      <td>1017.873109</td>\n",
       "    </tr>\n",
       "    <tr>\n",
       "      <th>218</th>\n",
       "      <td>Zambia</td>\n",
       "      <td>ZMB</td>\n",
       "      <td>1.352544e+08</td>\n",
       "      <td>Zambia</td>\n",
       "      <td>163.1</td>\n",
       "      <td>8.292731e+07</td>\n",
       "      <td>0.995522</td>\n",
       "      <td>1308.101838</td>\n",
       "    </tr>\n",
       "    <tr>\n",
       "      <th>219</th>\n",
       "      <td>Zimbabwe</td>\n",
       "      <td>ZWE</td>\n",
       "      <td>8.650949e+07</td>\n",
       "      <td>Zimbabwe</td>\n",
       "      <td>136.2</td>\n",
       "      <td>6.351651e+07</td>\n",
       "      <td>0.937394</td>\n",
       "      <td>1345.769083</td>\n",
       "    </tr>\n",
       "  </tbody>\n",
       "</table>\n",
       "<p>220 rows × 8 columns</p>\n",
       "</div>"
      ],
      "text/plain": [
       "              partnerDesc_x country_iso3      fobvalue partnerDesc_y  index  \\\n",
       "0               Afghanistan          AFG  2.254660e+07   Afghanistan  143.2   \n",
       "1                   Albania          ALB  1.449910e+08       Albania  131.2   \n",
       "2                   Algeria          DZA  3.060778e+09       Algeria  203.1   \n",
       "3                   Andorra          AND  9.778800e+06       Andorra  116.4   \n",
       "4                    Angola          AGO  1.611020e+09        Angola  220.4   \n",
       "..                      ...          ...           ...           ...    ...   \n",
       "215                Viet Nam          VNM  1.275212e+11      Viet Nam  114.3   \n",
       "216  Wallis and Futuna Isds          WLF  1.079010e+05           NaN  100.0   \n",
       "217                   Yemen          YEM  3.141011e+07   Yemen, Rep.  147.5   \n",
       "218                  Zambia          ZMB  1.352544e+08        Zambia  163.1   \n",
       "219                Zimbabwe          ZWE  8.650949e+07      Zimbabwe  136.2   \n",
       "\n",
       "     constant_usd  GDP_per_hour GDP_per_capita_2022  \n",
       "0    1.574483e+07      0.450339          372.615895  \n",
       "1    1.105115e+08      2.683043          5155.29086  \n",
       "2    1.507030e+09           NaN         4602.575608  \n",
       "3    8.401031e+06           NaN        39720.951859  \n",
       "4    7.309527e+08      2.592022         2385.119956  \n",
       "..            ...           ...                 ...  \n",
       "215  1.115671e+11      1.994271         3658.693163  \n",
       "216  1.079010e+05      0.000000               12460  \n",
       "217  2.129499e+07      0.670416         1017.873109  \n",
       "218  8.292731e+07      0.995522         1308.101838  \n",
       "219  6.351651e+07      0.937394         1345.769083  \n",
       "\n",
       "[220 rows x 8 columns]"
      ]
     },
     "execution_count": 30,
     "metadata": {},
     "output_type": "execute_result"
    }
   ],
   "source": [
    "# update countries with GDP per capita 2022 as null\n",
    "updates = {\n",
    "    'AIA': 35374, 'IOT': 29150,\n",
    "    'CXR': 24000, 'CCK': 42365,\n",
    "    'COK': 17033, 'FLK': 69000,\n",
    "    'ATF': 31500, 'MSR': 16461,\n",
    "    'NIU': 19646, 'NFK': 24678,\n",
    "    'S19': 7500, 'PCN': 18800,\n",
    "    'SHN': 10693, 'SPM': 46200,\n",
    "    'TKL': 6275, 'WLF': 12460,\n",
    "    'VGB': 40561, 'PRK': 695.9,\n",
    "    'ERI': 739.7, 'GIB': 90000,\n",
    "    'GRL': 48514, 'NCL': 33190,\n",
    "    'SMR': 45269, 'SSD': 1025,\n",
    "    'SYR': 744.6, 'VEN': 4569\n",
    "}\n",
    "\n",
    "def update_gdp_per_capita(df, updates):\n",
    "    \"\"\"\n",
    "    Update the 'gdp_per_capita' for specified country codes in the DataFrame.\n",
    "\n",
    "    Parameters:\n",
    "    - df (pd.DataFrame): The DataFrame containing country data.\n",
    "    - updates (dict): A dictionary where keys are 'country_code' values and\n",
    "                      values are the new 'gdp_per_capita' to set.\n",
    "\n",
    "    Returns:\n",
    "    - pd.DataFrame: The DataFrame with updated 'gdp_per_capita' values.\n",
    "    \"\"\"\n",
    "    for country_code, new_gdp in updates.items():\n",
    "        df.loc[df['country_iso3'] == country_code, 'GDP_per_capita_2022'] = new_gdp\n",
    "    return df\n",
    "\n",
    "# Apply the updates\n",
    "marged_comtrade_gdp_per_hour_per_gdpper_capita = update_gdp_per_capita(marged_comtrade_gdp_per_hour_per_gdpper_capita, updates)\n",
    "marged_comtrade_gdp_per_hour_per_gdpper_capita\n"
   ]
  },
  {
   "cell_type": "markdown",
   "metadata": {
    "id": "jgrhJp4duVw6"
   },
   "source": [
    "# Train data set to fill up the GDP per hour"
   ]
  },
  {
   "cell_type": "code",
   "execution_count": 31,
   "metadata": {
    "colab": {
     "base_uri": "https://localhost:8080/",
     "height": 461
    },
    "executionInfo": {
     "elapsed": 365,
     "status": "ok",
     "timestamp": 1731061838260,
     "user": {
      "displayName": "Oluwatobiloba Odeyemi",
      "userId": "00587895885485655319"
     },
     "user_tz": -60
    },
    "id": "NB6qV4v9uVw6",
    "outputId": "17b8e7c9-d8ea-45c3-b5b6-80eecaa63e7e"
   },
   "outputs": [
    {
     "data": {
      "text/html": [
       "<div>\n",
       "<style scoped>\n",
       "    .dataframe tbody tr th:only-of-type {\n",
       "        vertical-align: middle;\n",
       "    }\n",
       "\n",
       "    .dataframe tbody tr th {\n",
       "        vertical-align: top;\n",
       "    }\n",
       "\n",
       "    .dataframe thead th {\n",
       "        text-align: right;\n",
       "    }\n",
       "</style>\n",
       "<table border=\"1\" class=\"dataframe\">\n",
       "  <thead>\n",
       "    <tr style=\"text-align: right;\">\n",
       "      <th></th>\n",
       "      <th>partnerDesc_x</th>\n",
       "      <th>country_iso3</th>\n",
       "      <th>fobvalue</th>\n",
       "      <th>partnerDesc_y</th>\n",
       "      <th>index</th>\n",
       "      <th>constant_usd</th>\n",
       "      <th>GDP_per_hour</th>\n",
       "      <th>GDP_per_capita_2022</th>\n",
       "    </tr>\n",
       "  </thead>\n",
       "  <tbody>\n",
       "    <tr>\n",
       "      <th>0</th>\n",
       "      <td>Afghanistan</td>\n",
       "      <td>AFG</td>\n",
       "      <td>2.254660e+07</td>\n",
       "      <td>Afghanistan</td>\n",
       "      <td>143.2</td>\n",
       "      <td>1.574483e+07</td>\n",
       "      <td>0.450339</td>\n",
       "      <td>372.615895</td>\n",
       "    </tr>\n",
       "    <tr>\n",
       "      <th>1</th>\n",
       "      <td>Albania</td>\n",
       "      <td>ALB</td>\n",
       "      <td>1.449910e+08</td>\n",
       "      <td>Albania</td>\n",
       "      <td>131.2</td>\n",
       "      <td>1.105115e+08</td>\n",
       "      <td>2.683043</td>\n",
       "      <td>5155.29086</td>\n",
       "    </tr>\n",
       "    <tr>\n",
       "      <th>2</th>\n",
       "      <td>Algeria</td>\n",
       "      <td>DZA</td>\n",
       "      <td>3.060778e+09</td>\n",
       "      <td>Algeria</td>\n",
       "      <td>203.1</td>\n",
       "      <td>1.507030e+09</td>\n",
       "      <td>NaN</td>\n",
       "      <td>4602.575608</td>\n",
       "    </tr>\n",
       "    <tr>\n",
       "      <th>3</th>\n",
       "      <td>Andorra</td>\n",
       "      <td>AND</td>\n",
       "      <td>9.778800e+06</td>\n",
       "      <td>Andorra</td>\n",
       "      <td>116.4</td>\n",
       "      <td>8.401031e+06</td>\n",
       "      <td>NaN</td>\n",
       "      <td>39720.951859</td>\n",
       "    </tr>\n",
       "    <tr>\n",
       "      <th>4</th>\n",
       "      <td>Angola</td>\n",
       "      <td>AGO</td>\n",
       "      <td>1.611020e+09</td>\n",
       "      <td>Angola</td>\n",
       "      <td>220.4</td>\n",
       "      <td>7.309527e+08</td>\n",
       "      <td>2.592022</td>\n",
       "      <td>2385.119956</td>\n",
       "    </tr>\n",
       "    <tr>\n",
       "      <th>...</th>\n",
       "      <td>...</td>\n",
       "      <td>...</td>\n",
       "      <td>...</td>\n",
       "      <td>...</td>\n",
       "      <td>...</td>\n",
       "      <td>...</td>\n",
       "      <td>...</td>\n",
       "      <td>...</td>\n",
       "    </tr>\n",
       "    <tr>\n",
       "      <th>215</th>\n",
       "      <td>Viet Nam</td>\n",
       "      <td>VNM</td>\n",
       "      <td>1.275212e+11</td>\n",
       "      <td>Viet Nam</td>\n",
       "      <td>114.3</td>\n",
       "      <td>1.115671e+11</td>\n",
       "      <td>1.994271</td>\n",
       "      <td>3658.693163</td>\n",
       "    </tr>\n",
       "    <tr>\n",
       "      <th>216</th>\n",
       "      <td>Wallis and Futuna Isds</td>\n",
       "      <td>WLF</td>\n",
       "      <td>1.079010e+05</td>\n",
       "      <td>NaN</td>\n",
       "      <td>100.0</td>\n",
       "      <td>1.079010e+05</td>\n",
       "      <td>NaN</td>\n",
       "      <td>12460</td>\n",
       "    </tr>\n",
       "    <tr>\n",
       "      <th>217</th>\n",
       "      <td>Yemen</td>\n",
       "      <td>YEM</td>\n",
       "      <td>3.141011e+07</td>\n",
       "      <td>Yemen, Rep.</td>\n",
       "      <td>147.5</td>\n",
       "      <td>2.129499e+07</td>\n",
       "      <td>0.670416</td>\n",
       "      <td>1017.873109</td>\n",
       "    </tr>\n",
       "    <tr>\n",
       "      <th>218</th>\n",
       "      <td>Zambia</td>\n",
       "      <td>ZMB</td>\n",
       "      <td>1.352544e+08</td>\n",
       "      <td>Zambia</td>\n",
       "      <td>163.1</td>\n",
       "      <td>8.292731e+07</td>\n",
       "      <td>0.995522</td>\n",
       "      <td>1308.101838</td>\n",
       "    </tr>\n",
       "    <tr>\n",
       "      <th>219</th>\n",
       "      <td>Zimbabwe</td>\n",
       "      <td>ZWE</td>\n",
       "      <td>8.650949e+07</td>\n",
       "      <td>Zimbabwe</td>\n",
       "      <td>136.2</td>\n",
       "      <td>6.351651e+07</td>\n",
       "      <td>0.937394</td>\n",
       "      <td>1345.769083</td>\n",
       "    </tr>\n",
       "  </tbody>\n",
       "</table>\n",
       "<p>220 rows × 8 columns</p>\n",
       "</div>"
      ],
      "text/plain": [
       "              partnerDesc_x country_iso3      fobvalue partnerDesc_y  index  \\\n",
       "0               Afghanistan          AFG  2.254660e+07   Afghanistan  143.2   \n",
       "1                   Albania          ALB  1.449910e+08       Albania  131.2   \n",
       "2                   Algeria          DZA  3.060778e+09       Algeria  203.1   \n",
       "3                   Andorra          AND  9.778800e+06       Andorra  116.4   \n",
       "4                    Angola          AGO  1.611020e+09        Angola  220.4   \n",
       "..                      ...          ...           ...           ...    ...   \n",
       "215                Viet Nam          VNM  1.275212e+11      Viet Nam  114.3   \n",
       "216  Wallis and Futuna Isds          WLF  1.079010e+05           NaN  100.0   \n",
       "217                   Yemen          YEM  3.141011e+07   Yemen, Rep.  147.5   \n",
       "218                  Zambia          ZMB  1.352544e+08        Zambia  163.1   \n",
       "219                Zimbabwe          ZWE  8.650949e+07      Zimbabwe  136.2   \n",
       "\n",
       "     constant_usd  GDP_per_hour GDP_per_capita_2022  \n",
       "0    1.574483e+07      0.450339          372.615895  \n",
       "1    1.105115e+08      2.683043          5155.29086  \n",
       "2    1.507030e+09           NaN         4602.575608  \n",
       "3    8.401031e+06           NaN        39720.951859  \n",
       "4    7.309527e+08      2.592022         2385.119956  \n",
       "..            ...           ...                 ...  \n",
       "215  1.115671e+11      1.994271         3658.693163  \n",
       "216  1.079010e+05           NaN               12460  \n",
       "217  2.129499e+07      0.670416         1017.873109  \n",
       "218  8.292731e+07      0.995522         1308.101838  \n",
       "219  6.351651e+07      0.937394         1345.769083  \n",
       "\n",
       "[220 rows x 8 columns]"
      ]
     },
     "execution_count": 31,
     "metadata": {},
     "output_type": "execute_result"
    }
   ],
   "source": [
    "#Set GDP PER Hour in s=zero to NA\n",
    "marged_comtrade_gdp_per_hour_per_gdpper_capita['GDP_per_hour'] = marged_comtrade_gdp_per_hour_per_gdpper_capita['GDP_per_hour'].replace(0,np.nan)\n",
    "#Sort GDP Per hour in\n",
    "marged_comtrade_gdp_per_hour_per_gdpper_capita"
   ]
  },
  {
   "cell_type": "markdown",
   "metadata": {
    "id": "5C7ztkb-woWa"
   },
   "source": [
    "split the marged_comtrade_gdp_per_hour_per_gdpper_capita variable dataframe to exclude countries whos GDP per hour is NaN"
   ]
  },
  {
   "cell_type": "code",
   "execution_count": 32,
   "metadata": {
    "colab": {
     "base_uri": "https://localhost:8080/",
     "height": 444
    },
    "executionInfo": {
     "elapsed": 350,
     "status": "ok",
     "timestamp": 1731063038163,
     "user": {
      "displayName": "Oluwatobiloba Odeyemi",
      "userId": "00587895885485655319"
     },
     "user_tz": -60
    },
    "id": "2r8BNhezuVw7",
    "outputId": "900a5d6c-4f86-4b8a-a301-ef8b77bc23e2"
   },
   "outputs": [
    {
     "data": {
      "text/html": [
       "<div>\n",
       "<style scoped>\n",
       "    .dataframe tbody tr th:only-of-type {\n",
       "        vertical-align: middle;\n",
       "    }\n",
       "\n",
       "    .dataframe tbody tr th {\n",
       "        vertical-align: top;\n",
       "    }\n",
       "\n",
       "    .dataframe thead th {\n",
       "        text-align: right;\n",
       "    }\n",
       "</style>\n",
       "<table border=\"1\" class=\"dataframe\">\n",
       "  <thead>\n",
       "    <tr style=\"text-align: right;\">\n",
       "      <th></th>\n",
       "      <th>partnerDesc_x</th>\n",
       "      <th>country_iso3</th>\n",
       "      <th>fobvalue</th>\n",
       "      <th>partnerDesc_y</th>\n",
       "      <th>index</th>\n",
       "      <th>constant_usd</th>\n",
       "      <th>GDP_per_hour</th>\n",
       "      <th>GDP_per_capita_2022</th>\n",
       "    </tr>\n",
       "  </thead>\n",
       "  <tbody>\n",
       "    <tr>\n",
       "      <th>0</th>\n",
       "      <td>Afghanistan</td>\n",
       "      <td>AFG</td>\n",
       "      <td>2.254660e+07</td>\n",
       "      <td>Afghanistan</td>\n",
       "      <td>143.2</td>\n",
       "      <td>1.574483e+07</td>\n",
       "      <td>0.450339</td>\n",
       "      <td>372.615895</td>\n",
       "    </tr>\n",
       "    <tr>\n",
       "      <th>1</th>\n",
       "      <td>Albania</td>\n",
       "      <td>ALB</td>\n",
       "      <td>1.449910e+08</td>\n",
       "      <td>Albania</td>\n",
       "      <td>131.2</td>\n",
       "      <td>1.105115e+08</td>\n",
       "      <td>2.683043</td>\n",
       "      <td>5155.29086</td>\n",
       "    </tr>\n",
       "    <tr>\n",
       "      <th>4</th>\n",
       "      <td>Angola</td>\n",
       "      <td>AGO</td>\n",
       "      <td>1.611020e+09</td>\n",
       "      <td>Angola</td>\n",
       "      <td>220.4</td>\n",
       "      <td>7.309527e+08</td>\n",
       "      <td>2.592022</td>\n",
       "      <td>2385.119956</td>\n",
       "    </tr>\n",
       "    <tr>\n",
       "      <th>7</th>\n",
       "      <td>Argentina</td>\n",
       "      <td>ARG</td>\n",
       "      <td>6.937554e+09</td>\n",
       "      <td>Argentina</td>\n",
       "      <td>135.7</td>\n",
       "      <td>5.112420e+09</td>\n",
       "      <td>15.044482</td>\n",
       "      <td>12940.738435</td>\n",
       "    </tr>\n",
       "    <tr>\n",
       "      <th>8</th>\n",
       "      <td>Armenia</td>\n",
       "      <td>ARM</td>\n",
       "      <td>8.066873e+07</td>\n",
       "      <td>Armenia</td>\n",
       "      <td>145.5</td>\n",
       "      <td>5.544243e+07</td>\n",
       "      <td>3.123011</td>\n",
       "      <td>5116.205756</td>\n",
       "    </tr>\n",
       "    <tr>\n",
       "      <th>...</th>\n",
       "      <td>...</td>\n",
       "      <td>...</td>\n",
       "      <td>...</td>\n",
       "      <td>...</td>\n",
       "      <td>...</td>\n",
       "      <td>...</td>\n",
       "      <td>...</td>\n",
       "      <td>...</td>\n",
       "    </tr>\n",
       "    <tr>\n",
       "      <th>214</th>\n",
       "      <td>Venezuela</td>\n",
       "      <td>VEN</td>\n",
       "      <td>4.130028e+08</td>\n",
       "      <td>Venezuela, RB</td>\n",
       "      <td>191.9</td>\n",
       "      <td>2.152177e+08</td>\n",
       "      <td>2.115282</td>\n",
       "      <td>4569</td>\n",
       "    </tr>\n",
       "    <tr>\n",
       "      <th>215</th>\n",
       "      <td>Viet Nam</td>\n",
       "      <td>VNM</td>\n",
       "      <td>1.275212e+11</td>\n",
       "      <td>Viet Nam</td>\n",
       "      <td>114.3</td>\n",
       "      <td>1.115671e+11</td>\n",
       "      <td>1.994271</td>\n",
       "      <td>3658.693163</td>\n",
       "    </tr>\n",
       "    <tr>\n",
       "      <th>217</th>\n",
       "      <td>Yemen</td>\n",
       "      <td>YEM</td>\n",
       "      <td>3.141011e+07</td>\n",
       "      <td>Yemen, Rep.</td>\n",
       "      <td>147.5</td>\n",
       "      <td>2.129499e+07</td>\n",
       "      <td>0.670416</td>\n",
       "      <td>1017.873109</td>\n",
       "    </tr>\n",
       "    <tr>\n",
       "      <th>218</th>\n",
       "      <td>Zambia</td>\n",
       "      <td>ZMB</td>\n",
       "      <td>1.352544e+08</td>\n",
       "      <td>Zambia</td>\n",
       "      <td>163.1</td>\n",
       "      <td>8.292731e+07</td>\n",
       "      <td>0.995522</td>\n",
       "      <td>1308.101838</td>\n",
       "    </tr>\n",
       "    <tr>\n",
       "      <th>219</th>\n",
       "      <td>Zimbabwe</td>\n",
       "      <td>ZWE</td>\n",
       "      <td>8.650949e+07</td>\n",
       "      <td>Zimbabwe</td>\n",
       "      <td>136.2</td>\n",
       "      <td>6.351651e+07</td>\n",
       "      <td>0.937394</td>\n",
       "      <td>1345.769083</td>\n",
       "    </tr>\n",
       "  </tbody>\n",
       "</table>\n",
       "<p>144 rows × 8 columns</p>\n",
       "</div>"
      ],
      "text/plain": [
       "    partnerDesc_x country_iso3      fobvalue  partnerDesc_y  index  \\\n",
       "0     Afghanistan          AFG  2.254660e+07    Afghanistan  143.2   \n",
       "1         Albania          ALB  1.449910e+08        Albania  131.2   \n",
       "4          Angola          AGO  1.611020e+09         Angola  220.4   \n",
       "7       Argentina          ARG  6.937554e+09      Argentina  135.7   \n",
       "8         Armenia          ARM  8.066873e+07        Armenia  145.5   \n",
       "..            ...          ...           ...            ...    ...   \n",
       "214     Venezuela          VEN  4.130028e+08  Venezuela, RB  191.9   \n",
       "215      Viet Nam          VNM  1.275212e+11       Viet Nam  114.3   \n",
       "217         Yemen          YEM  3.141011e+07    Yemen, Rep.  147.5   \n",
       "218        Zambia          ZMB  1.352544e+08         Zambia  163.1   \n",
       "219      Zimbabwe          ZWE  8.650949e+07       Zimbabwe  136.2   \n",
       "\n",
       "     constant_usd  GDP_per_hour GDP_per_capita_2022  \n",
       "0    1.574483e+07      0.450339          372.615895  \n",
       "1    1.105115e+08      2.683043          5155.29086  \n",
       "4    7.309527e+08      2.592022         2385.119956  \n",
       "7    5.112420e+09     15.044482        12940.738435  \n",
       "8    5.544243e+07      3.123011         5116.205756  \n",
       "..            ...           ...                 ...  \n",
       "214  2.152177e+08      2.115282                4569  \n",
       "215  1.115671e+11      1.994271         3658.693163  \n",
       "217  2.129499e+07      0.670416         1017.873109  \n",
       "218  8.292731e+07      0.995522         1308.101838  \n",
       "219  6.351651e+07      0.937394         1345.769083  \n",
       "\n",
       "[144 rows x 8 columns]"
      ]
     },
     "execution_count": 32,
     "metadata": {},
     "output_type": "execute_result"
    }
   ],
   "source": [
    "#split marged_comtrade_gdp_per_hour_per_gdpper_capita to test and prediction data\n",
    "test_data_gdp_per_hour = marged_comtrade_gdp_per_hour_per_gdpper_capita[marged_comtrade_gdp_per_hour_per_gdpper_capita['GDP_per_hour'].notna()]\n",
    "test_data_gdp_per_hour"
   ]
  },
  {
   "cell_type": "code",
   "execution_count": 33,
   "metadata": {
    "colab": {
     "base_uri": "https://localhost:8080/",
     "height": 496
    },
    "executionInfo": {
     "elapsed": 358,
     "status": "ok",
     "timestamp": 1731063003702,
     "user": {
      "displayName": "Oluwatobiloba Odeyemi",
      "userId": "00587895885485655319"
     },
     "user_tz": -60
    },
    "id": "6SSeW4-guVw7",
    "outputId": "67c5bdd5-b317-491b-8679-7ba4b989e3aa"
   },
   "outputs": [
    {
     "data": {
      "text/html": [
       "<div>\n",
       "<style scoped>\n",
       "    .dataframe tbody tr th:only-of-type {\n",
       "        vertical-align: middle;\n",
       "    }\n",
       "\n",
       "    .dataframe tbody tr th {\n",
       "        vertical-align: top;\n",
       "    }\n",
       "\n",
       "    .dataframe thead th {\n",
       "        text-align: right;\n",
       "    }\n",
       "</style>\n",
       "<table border=\"1\" class=\"dataframe\">\n",
       "  <thead>\n",
       "    <tr style=\"text-align: right;\">\n",
       "      <th></th>\n",
       "      <th>partnerDesc_x</th>\n",
       "      <th>country_iso3</th>\n",
       "      <th>fobvalue</th>\n",
       "      <th>partnerDesc_y</th>\n",
       "      <th>index</th>\n",
       "      <th>constant_usd</th>\n",
       "      <th>GDP_per_hour</th>\n",
       "      <th>GDP_per_capita_2022</th>\n",
       "    </tr>\n",
       "  </thead>\n",
       "  <tbody>\n",
       "    <tr>\n",
       "      <th>2</th>\n",
       "      <td>Algeria</td>\n",
       "      <td>DZA</td>\n",
       "      <td>3.060778e+09</td>\n",
       "      <td>Algeria</td>\n",
       "      <td>203.1</td>\n",
       "      <td>1.507030e+09</td>\n",
       "      <td>NaN</td>\n",
       "      <td>4602.575608</td>\n",
       "    </tr>\n",
       "    <tr>\n",
       "      <th>3</th>\n",
       "      <td>Andorra</td>\n",
       "      <td>AND</td>\n",
       "      <td>9.778800e+06</td>\n",
       "      <td>Andorra</td>\n",
       "      <td>116.4</td>\n",
       "      <td>8.401031e+06</td>\n",
       "      <td>NaN</td>\n",
       "      <td>39720.951859</td>\n",
       "    </tr>\n",
       "    <tr>\n",
       "      <th>5</th>\n",
       "      <td>Anguilla</td>\n",
       "      <td>AIA</td>\n",
       "      <td>5.712335e+06</td>\n",
       "      <td>NaN</td>\n",
       "      <td>100.0</td>\n",
       "      <td>5.712335e+06</td>\n",
       "      <td>NaN</td>\n",
       "      <td>35374</td>\n",
       "    </tr>\n",
       "    <tr>\n",
       "      <th>6</th>\n",
       "      <td>Antigua and Barbuda</td>\n",
       "      <td>ATG</td>\n",
       "      <td>8.824366e+06</td>\n",
       "      <td>Antigua and Barbuda</td>\n",
       "      <td>109.6</td>\n",
       "      <td>8.051429e+06</td>\n",
       "      <td>NaN</td>\n",
       "      <td>17335.04704</td>\n",
       "    </tr>\n",
       "    <tr>\n",
       "      <th>9</th>\n",
       "      <td>Aruba</td>\n",
       "      <td>ABW</td>\n",
       "      <td>1.455013e+07</td>\n",
       "      <td>Aruba</td>\n",
       "      <td>104.0</td>\n",
       "      <td>1.399051e+07</td>\n",
       "      <td>NaN</td>\n",
       "      <td>32492.178878</td>\n",
       "    </tr>\n",
       "    <tr>\n",
       "      <th>...</th>\n",
       "      <td>...</td>\n",
       "      <td>...</td>\n",
       "      <td>...</td>\n",
       "      <td>...</td>\n",
       "      <td>...</td>\n",
       "      <td>...</td>\n",
       "      <td>...</td>\n",
       "      <td>...</td>\n",
       "    </tr>\n",
       "    <tr>\n",
       "      <th>202</th>\n",
       "      <td>Turkmenistan</td>\n",
       "      <td>TKM</td>\n",
       "      <td>4.633372e+07</td>\n",
       "      <td>Turkmenistan</td>\n",
       "      <td>328.9</td>\n",
       "      <td>1.408748e+07</td>\n",
       "      <td>NaN</td>\n",
       "      <td>8489.722266</td>\n",
       "    </tr>\n",
       "    <tr>\n",
       "      <th>203</th>\n",
       "      <td>Turks and Caicos Isds</td>\n",
       "      <td>TCA</td>\n",
       "      <td>1.202878e+07</td>\n",
       "      <td>Turks and Caicos Islands</td>\n",
       "      <td>122.4</td>\n",
       "      <td>9.827437e+06</td>\n",
       "      <td>NaN</td>\n",
       "      <td>20323.148677</td>\n",
       "    </tr>\n",
       "    <tr>\n",
       "      <th>207</th>\n",
       "      <td>Ukraine</td>\n",
       "      <td>UKR</td>\n",
       "      <td>1.476971e+09</td>\n",
       "      <td>Ukraine</td>\n",
       "      <td>209.4</td>\n",
       "      <td>7.053349e+08</td>\n",
       "      <td>NaN</td>\n",
       "      <td>2042.639038</td>\n",
       "    </tr>\n",
       "    <tr>\n",
       "      <th>212</th>\n",
       "      <td>Uzbekistan</td>\n",
       "      <td>UZB</td>\n",
       "      <td>5.901554e+07</td>\n",
       "      <td>Uzbekistan</td>\n",
       "      <td>166.9</td>\n",
       "      <td>3.535982e+07</td>\n",
       "      <td>NaN</td>\n",
       "      <td>3473.361643</td>\n",
       "    </tr>\n",
       "    <tr>\n",
       "      <th>216</th>\n",
       "      <td>Wallis and Futuna Isds</td>\n",
       "      <td>WLF</td>\n",
       "      <td>1.079010e+05</td>\n",
       "      <td>NaN</td>\n",
       "      <td>100.0</td>\n",
       "      <td>1.079010e+05</td>\n",
       "      <td>NaN</td>\n",
       "      <td>12460</td>\n",
       "    </tr>\n",
       "  </tbody>\n",
       "</table>\n",
       "<p>76 rows × 8 columns</p>\n",
       "</div>"
      ],
      "text/plain": [
       "              partnerDesc_x country_iso3      fobvalue  \\\n",
       "2                   Algeria          DZA  3.060778e+09   \n",
       "3                   Andorra          AND  9.778800e+06   \n",
       "5                  Anguilla          AIA  5.712335e+06   \n",
       "6       Antigua and Barbuda          ATG  8.824366e+06   \n",
       "9                     Aruba          ABW  1.455013e+07   \n",
       "..                      ...          ...           ...   \n",
       "202            Turkmenistan          TKM  4.633372e+07   \n",
       "203   Turks and Caicos Isds          TCA  1.202878e+07   \n",
       "207                 Ukraine          UKR  1.476971e+09   \n",
       "212              Uzbekistan          UZB  5.901554e+07   \n",
       "216  Wallis and Futuna Isds          WLF  1.079010e+05   \n",
       "\n",
       "                partnerDesc_y  index  constant_usd  GDP_per_hour  \\\n",
       "2                     Algeria  203.1  1.507030e+09           NaN   \n",
       "3                     Andorra  116.4  8.401031e+06           NaN   \n",
       "5                         NaN  100.0  5.712335e+06           NaN   \n",
       "6         Antigua and Barbuda  109.6  8.051429e+06           NaN   \n",
       "9                       Aruba  104.0  1.399051e+07           NaN   \n",
       "..                        ...    ...           ...           ...   \n",
       "202              Turkmenistan  328.9  1.408748e+07           NaN   \n",
       "203  Turks and Caicos Islands  122.4  9.827437e+06           NaN   \n",
       "207                   Ukraine  209.4  7.053349e+08           NaN   \n",
       "212                Uzbekistan  166.9  3.535982e+07           NaN   \n",
       "216                       NaN  100.0  1.079010e+05           NaN   \n",
       "\n",
       "    GDP_per_capita_2022  \n",
       "2           4602.575608  \n",
       "3          39720.951859  \n",
       "5                 35374  \n",
       "6           17335.04704  \n",
       "9          32492.178878  \n",
       "..                  ...  \n",
       "202         8489.722266  \n",
       "203        20323.148677  \n",
       "207         2042.639038  \n",
       "212         3473.361643  \n",
       "216               12460  \n",
       "\n",
       "[76 rows x 8 columns]"
      ]
     },
     "execution_count": 33,
     "metadata": {},
     "output_type": "execute_result"
    }
   ],
   "source": [
    "# Split NaN dataframe\n",
    "marged_comtrade_gdp_per_hour_per_gdpper_capita_na = marged_comtrade_gdp_per_hour_per_gdpper_capita[marged_comtrade_gdp_per_hour_per_gdpper_capita['GDP_per_hour'].isna()]\n",
    "marged_comtrade_gdp_per_hour_per_gdpper_capita_na"
   ]
  },
  {
   "cell_type": "code",
   "execution_count": 34,
   "metadata": {
    "colab": {
     "base_uri": "https://localhost:8080/",
     "height": 424
    },
    "executionInfo": {
     "elapsed": 383,
     "status": "ok",
     "timestamp": 1731063058384,
     "user": {
      "displayName": "Oluwatobiloba Odeyemi",
      "userId": "00587895885485655319"
     },
     "user_tz": -60
    },
    "id": "lJ9bt-ySuVw7",
    "outputId": "67bd4968-5a05-4a96-878d-223e5f2063bb"
   },
   "outputs": [
    {
     "data": {
      "text/html": [
       "<div>\n",
       "<style scoped>\n",
       "    .dataframe tbody tr th:only-of-type {\n",
       "        vertical-align: middle;\n",
       "    }\n",
       "\n",
       "    .dataframe tbody tr th {\n",
       "        vertical-align: top;\n",
       "    }\n",
       "\n",
       "    .dataframe thead th {\n",
       "        text-align: right;\n",
       "    }\n",
       "</style>\n",
       "<table border=\"1\" class=\"dataframe\">\n",
       "  <thead>\n",
       "    <tr style=\"text-align: right;\">\n",
       "      <th></th>\n",
       "      <th>GDP_per_capita_2022</th>\n",
       "      <th>GDP_per_hour</th>\n",
       "    </tr>\n",
       "  </thead>\n",
       "  <tbody>\n",
       "    <tr>\n",
       "      <th>0</th>\n",
       "      <td>372.615895</td>\n",
       "      <td>0.450339</td>\n",
       "    </tr>\n",
       "    <tr>\n",
       "      <th>1</th>\n",
       "      <td>5155.29086</td>\n",
       "      <td>2.683043</td>\n",
       "    </tr>\n",
       "    <tr>\n",
       "      <th>4</th>\n",
       "      <td>2385.119956</td>\n",
       "      <td>2.592022</td>\n",
       "    </tr>\n",
       "    <tr>\n",
       "      <th>7</th>\n",
       "      <td>12940.738435</td>\n",
       "      <td>15.044482</td>\n",
       "    </tr>\n",
       "    <tr>\n",
       "      <th>8</th>\n",
       "      <td>5116.205756</td>\n",
       "      <td>3.123011</td>\n",
       "    </tr>\n",
       "    <tr>\n",
       "      <th>...</th>\n",
       "      <td>...</td>\n",
       "      <td>...</td>\n",
       "    </tr>\n",
       "    <tr>\n",
       "      <th>214</th>\n",
       "      <td>4569</td>\n",
       "      <td>2.115282</td>\n",
       "    </tr>\n",
       "    <tr>\n",
       "      <th>215</th>\n",
       "      <td>3658.693163</td>\n",
       "      <td>1.994271</td>\n",
       "    </tr>\n",
       "    <tr>\n",
       "      <th>217</th>\n",
       "      <td>1017.873109</td>\n",
       "      <td>0.670416</td>\n",
       "    </tr>\n",
       "    <tr>\n",
       "      <th>218</th>\n",
       "      <td>1308.101838</td>\n",
       "      <td>0.995522</td>\n",
       "    </tr>\n",
       "    <tr>\n",
       "      <th>219</th>\n",
       "      <td>1345.769083</td>\n",
       "      <td>0.937394</td>\n",
       "    </tr>\n",
       "  </tbody>\n",
       "</table>\n",
       "<p>144 rows × 2 columns</p>\n",
       "</div>"
      ],
      "text/plain": [
       "    GDP_per_capita_2022  GDP_per_hour\n",
       "0            372.615895      0.450339\n",
       "1            5155.29086      2.683043\n",
       "4           2385.119956      2.592022\n",
       "7          12940.738435     15.044482\n",
       "8           5116.205756      3.123011\n",
       "..                  ...           ...\n",
       "214                4569      2.115282\n",
       "215         3658.693163      1.994271\n",
       "217         1017.873109      0.670416\n",
       "218         1308.101838      0.995522\n",
       "219         1345.769083      0.937394\n",
       "\n",
       "[144 rows x 2 columns]"
      ]
     },
     "execution_count": 34,
     "metadata": {},
     "output_type": "execute_result"
    }
   ],
   "source": [
    "# Create new dataframe from test and na data\n",
    "\n",
    "#Test\n",
    "test_data = test_data_gdp_per_hour.loc[:,['GDP_per_capita_2022','GDP_per_hour']]\n",
    "test_data"
   ]
  },
  {
   "cell_type": "code",
   "execution_count": 35,
   "metadata": {
    "colab": {
     "base_uri": "https://localhost:8080/",
     "height": 424
    },
    "executionInfo": {
     "elapsed": 339,
     "status": "ok",
     "timestamp": 1731063061758,
     "user": {
      "displayName": "Oluwatobiloba Odeyemi",
      "userId": "00587895885485655319"
     },
     "user_tz": -60
    },
    "id": "f4oi3ElVuVw7",
    "outputId": "3a4d1cfd-dfcd-4593-dd72-18fabfea2265"
   },
   "outputs": [
    {
     "data": {
      "text/html": [
       "<div>\n",
       "<style scoped>\n",
       "    .dataframe tbody tr th:only-of-type {\n",
       "        vertical-align: middle;\n",
       "    }\n",
       "\n",
       "    .dataframe tbody tr th {\n",
       "        vertical-align: top;\n",
       "    }\n",
       "\n",
       "    .dataframe thead th {\n",
       "        text-align: right;\n",
       "    }\n",
       "</style>\n",
       "<table border=\"1\" class=\"dataframe\">\n",
       "  <thead>\n",
       "    <tr style=\"text-align: right;\">\n",
       "      <th></th>\n",
       "      <th>GDP_per_capita_2022</th>\n",
       "      <th>GDP_per_hour</th>\n",
       "    </tr>\n",
       "  </thead>\n",
       "  <tbody>\n",
       "    <tr>\n",
       "      <th>2</th>\n",
       "      <td>4602.575608</td>\n",
       "      <td>NaN</td>\n",
       "    </tr>\n",
       "    <tr>\n",
       "      <th>3</th>\n",
       "      <td>39720.951859</td>\n",
       "      <td>NaN</td>\n",
       "    </tr>\n",
       "    <tr>\n",
       "      <th>5</th>\n",
       "      <td>35374</td>\n",
       "      <td>NaN</td>\n",
       "    </tr>\n",
       "    <tr>\n",
       "      <th>6</th>\n",
       "      <td>17335.04704</td>\n",
       "      <td>NaN</td>\n",
       "    </tr>\n",
       "    <tr>\n",
       "      <th>9</th>\n",
       "      <td>32492.178878</td>\n",
       "      <td>NaN</td>\n",
       "    </tr>\n",
       "    <tr>\n",
       "      <th>...</th>\n",
       "      <td>...</td>\n",
       "      <td>...</td>\n",
       "    </tr>\n",
       "    <tr>\n",
       "      <th>202</th>\n",
       "      <td>8489.722266</td>\n",
       "      <td>NaN</td>\n",
       "    </tr>\n",
       "    <tr>\n",
       "      <th>203</th>\n",
       "      <td>20323.148677</td>\n",
       "      <td>NaN</td>\n",
       "    </tr>\n",
       "    <tr>\n",
       "      <th>207</th>\n",
       "      <td>2042.639038</td>\n",
       "      <td>NaN</td>\n",
       "    </tr>\n",
       "    <tr>\n",
       "      <th>212</th>\n",
       "      <td>3473.361643</td>\n",
       "      <td>NaN</td>\n",
       "    </tr>\n",
       "    <tr>\n",
       "      <th>216</th>\n",
       "      <td>12460</td>\n",
       "      <td>NaN</td>\n",
       "    </tr>\n",
       "  </tbody>\n",
       "</table>\n",
       "<p>76 rows × 2 columns</p>\n",
       "</div>"
      ],
      "text/plain": [
       "    GDP_per_capita_2022  GDP_per_hour\n",
       "2           4602.575608           NaN\n",
       "3          39720.951859           NaN\n",
       "5                 35374           NaN\n",
       "6           17335.04704           NaN\n",
       "9          32492.178878           NaN\n",
       "..                  ...           ...\n",
       "202         8489.722266           NaN\n",
       "203        20323.148677           NaN\n",
       "207         2042.639038           NaN\n",
       "212         3473.361643           NaN\n",
       "216               12460           NaN\n",
       "\n",
       "[76 rows x 2 columns]"
      ]
     },
     "execution_count": 35,
     "metadata": {},
     "output_type": "execute_result"
    }
   ],
   "source": [
    "#prediction dataframe\n",
    "predict_data = marged_comtrade_gdp_per_hour_per_gdpper_capita_na.loc[:,['GDP_per_capita_2022','GDP_per_hour']]\n",
    "predict_data"
   ]
  },
  {
   "cell_type": "markdown",
   "metadata": {
    "id": "r2zN9bJIxEMX"
   },
   "source": [
    "check for correlation between the GDP per hour and the GDP per capita"
   ]
  },
  {
   "cell_type": "code",
   "execution_count": 36,
   "metadata": {
    "colab": {
     "base_uri": "https://localhost:8080/",
     "height": 125
    },
    "executionInfo": {
     "elapsed": 339,
     "status": "ok",
     "timestamp": 1731063064973,
     "user": {
      "displayName": "Oluwatobiloba Odeyemi",
      "userId": "00587895885485655319"
     },
     "user_tz": -60
    },
    "id": "MEfLSMPKuVw7",
    "outputId": "369f285b-72d5-4bcd-fd29-90f4d400cf82"
   },
   "outputs": [
    {
     "data": {
      "text/html": [
       "<div>\n",
       "<style scoped>\n",
       "    .dataframe tbody tr th:only-of-type {\n",
       "        vertical-align: middle;\n",
       "    }\n",
       "\n",
       "    .dataframe tbody tr th {\n",
       "        vertical-align: top;\n",
       "    }\n",
       "\n",
       "    .dataframe thead th {\n",
       "        text-align: right;\n",
       "    }\n",
       "</style>\n",
       "<table border=\"1\" class=\"dataframe\">\n",
       "  <thead>\n",
       "    <tr style=\"text-align: right;\">\n",
       "      <th></th>\n",
       "      <th>GDP_per_capita_2022</th>\n",
       "      <th>GDP_per_hour</th>\n",
       "    </tr>\n",
       "  </thead>\n",
       "  <tbody>\n",
       "    <tr>\n",
       "      <th>GDP_per_capita_2022</th>\n",
       "      <td>1.000000</td>\n",
       "      <td>0.992003</td>\n",
       "    </tr>\n",
       "    <tr>\n",
       "      <th>GDP_per_hour</th>\n",
       "      <td>0.992003</td>\n",
       "      <td>1.000000</td>\n",
       "    </tr>\n",
       "  </tbody>\n",
       "</table>\n",
       "</div>"
      ],
      "text/plain": [
       "                     GDP_per_capita_2022  GDP_per_hour\n",
       "GDP_per_capita_2022             1.000000      0.992003\n",
       "GDP_per_hour                    0.992003      1.000000"
      ]
     },
     "execution_count": 36,
     "metadata": {},
     "output_type": "execute_result"
    }
   ],
   "source": [
    "# Determin Correlation\n",
    "correlation = test_data.corr()\n",
    "correlation"
   ]
  },
  {
   "cell_type": "markdown",
   "metadata": {
    "id": "Q6yHROfNxbsr"
   },
   "source": [
    "Train test dataframe using the Random forest learner regression model from Skitlean"
   ]
  },
  {
   "cell_type": "code",
   "execution_count": 37,
   "metadata": {
    "colab": {
     "base_uri": "https://localhost:8080/"
    },
    "executionInfo": {
     "elapsed": 727,
     "status": "ok",
     "timestamp": 1731063070882,
     "user": {
      "displayName": "Oluwatobiloba Odeyemi",
      "userId": "00587895885485655319"
     },
     "user_tz": -60
    },
    "id": "QOo7aOufuVw8",
    "outputId": "76c0b5fa-7813-44c7-a5de-623050404677"
   },
   "outputs": [
    {
     "data": {
      "text/plain": [
       "0.9825574013329578"
      ]
     },
     "execution_count": 37,
     "metadata": {},
     "output_type": "execute_result"
    }
   ],
   "source": [
    "# Setup random seed\n",
    "np.random.seed(42)\n",
    "\n",
    "# Make the data\n",
    "X = test_data.drop(\"GDP_per_hour\", axis=1)\n",
    "y = test_data[\"GDP_per_hour\"]\n",
    "\n",
    "# Split the data\n",
    "X_train, X_test, y_train, y_test = train_test_split(X, y, test_size=0.2)\n",
    "\n",
    "# Instantiate Random Forest Regressor\n",
    "rf = RandomForestRegressor()\n",
    "\n",
    "# Fit the model to the data (training the machine learning model)\n",
    "rf.fit(X_train, y_train)\n",
    "\n",
    "# Evaluate the Random Forest Regressor (use the patterns the model has learned)\n",
    "rf.score(X_test, y_test)"
   ]
  },
  {
   "cell_type": "markdown",
   "metadata": {
    "id": "eAWl8Khqx4Lg"
   },
   "source": [
    "Perform a cross-validation on the test dataset to find the most optimal estimator to improve the model"
   ]
  },
  {
   "cell_type": "code",
   "execution_count": 38,
   "metadata": {
    "colab": {
     "base_uri": "https://localhost:8080/",
     "height": 847
    },
    "executionInfo": {
     "elapsed": 35343,
     "status": "ok",
     "timestamp": 1731063110053,
     "user": {
      "displayName": "Oluwatobiloba Odeyemi",
      "userId": "00587895885485655319"
     },
     "user_tz": -60
    },
    "id": "H5K5yaVAuVw8",
    "outputId": "c6fb81b7-3398-44e6-f796-28a8f79834ec"
   },
   "outputs": [
    {
     "name": "stdout",
     "output_type": "stream",
     "text": [
      "Fitting 5 folds for each of 8 candidates, totalling 40 fits\n",
      "[CV] END max_depth=None, max_features=sqrt, min_samples_split=2, n_estimators=100; total time=   0.2s\n",
      "[CV] END max_depth=None, max_features=sqrt, min_samples_split=2, n_estimators=100; total time=   0.1s\n",
      "[CV] END max_depth=None, max_features=sqrt, min_samples_split=2, n_estimators=100; total time=   0.1s\n",
      "[CV] END max_depth=None, max_features=sqrt, min_samples_split=2, n_estimators=100; total time=   0.1s\n",
      "[CV] END max_depth=None, max_features=sqrt, min_samples_split=2, n_estimators=100; total time=   0.0s\n",
      "[CV] END max_depth=None, max_features=sqrt, min_samples_split=2, n_estimators=1000; total time=   2.0s\n",
      "[CV] END max_depth=None, max_features=sqrt, min_samples_split=2, n_estimators=1000; total time=   2.2s\n",
      "[CV] END max_depth=None, max_features=sqrt, min_samples_split=2, n_estimators=1000; total time=   2.0s\n",
      "[CV] END max_depth=None, max_features=sqrt, min_samples_split=2, n_estimators=1000; total time=   1.9s\n",
      "[CV] END max_depth=None, max_features=sqrt, min_samples_split=2, n_estimators=1000; total time=   1.3s\n",
      "[CV] END max_depth=None, max_features=sqrt, min_samples_split=4, n_estimators=100; total time=   0.1s\n",
      "[CV] END max_depth=None, max_features=sqrt, min_samples_split=4, n_estimators=100; total time=   0.1s\n",
      "[CV] END max_depth=None, max_features=sqrt, min_samples_split=4, n_estimators=100; total time=   0.0s\n",
      "[CV] END max_depth=None, max_features=sqrt, min_samples_split=4, n_estimators=100; total time=   0.0s\n",
      "[CV] END max_depth=None, max_features=sqrt, min_samples_split=4, n_estimators=100; total time=   0.1s\n",
      "[CV] END max_depth=None, max_features=sqrt, min_samples_split=4, n_estimators=1000; total time=   3.9s\n",
      "[CV] END max_depth=None, max_features=sqrt, min_samples_split=4, n_estimators=1000; total time=   2.0s\n",
      "[CV] END max_depth=None, max_features=sqrt, min_samples_split=4, n_estimators=1000; total time=   1.6s\n",
      "[CV] END max_depth=None, max_features=sqrt, min_samples_split=4, n_estimators=1000; total time=   2.3s\n",
      "[CV] END max_depth=None, max_features=sqrt, min_samples_split=4, n_estimators=1000; total time=   1.5s\n",
      "[CV] END max_depth=5, max_features=sqrt, min_samples_split=2, n_estimators=100; total time=   0.1s\n",
      "[CV] END max_depth=5, max_features=sqrt, min_samples_split=2, n_estimators=100; total time=   0.1s\n",
      "[CV] END max_depth=5, max_features=sqrt, min_samples_split=2, n_estimators=100; total time=   0.0s\n",
      "[CV] END max_depth=5, max_features=sqrt, min_samples_split=2, n_estimators=100; total time=   0.1s\n",
      "[CV] END max_depth=5, max_features=sqrt, min_samples_split=2, n_estimators=100; total time=   0.1s\n",
      "[CV] END max_depth=5, max_features=sqrt, min_samples_split=2, n_estimators=1000; total time=   1.7s\n",
      "[CV] END max_depth=5, max_features=sqrt, min_samples_split=2, n_estimators=1000; total time=   1.5s\n",
      "[CV] END max_depth=5, max_features=sqrt, min_samples_split=2, n_estimators=1000; total time=   1.3s\n",
      "[CV] END max_depth=5, max_features=sqrt, min_samples_split=2, n_estimators=1000; total time=   1.2s\n",
      "[CV] END max_depth=5, max_features=sqrt, min_samples_split=2, n_estimators=1000; total time=   1.5s\n",
      "[CV] END max_depth=5, max_features=sqrt, min_samples_split=4, n_estimators=100; total time=   0.1s\n",
      "[CV] END max_depth=5, max_features=sqrt, min_samples_split=4, n_estimators=100; total time=   0.0s\n",
      "[CV] END max_depth=5, max_features=sqrt, min_samples_split=4, n_estimators=100; total time=   0.1s\n",
      "[CV] END max_depth=5, max_features=sqrt, min_samples_split=4, n_estimators=100; total time=   0.0s\n",
      "[CV] END max_depth=5, max_features=sqrt, min_samples_split=4, n_estimators=100; total time=   0.0s\n",
      "[CV] END max_depth=5, max_features=sqrt, min_samples_split=4, n_estimators=1000; total time=   1.4s\n",
      "[CV] END max_depth=5, max_features=sqrt, min_samples_split=4, n_estimators=1000; total time=   2.8s\n",
      "[CV] END max_depth=5, max_features=sqrt, min_samples_split=4, n_estimators=1000; total time=   2.9s\n",
      "[CV] END max_depth=5, max_features=sqrt, min_samples_split=4, n_estimators=1000; total time=   3.9s\n",
      "[CV] END max_depth=5, max_features=sqrt, min_samples_split=4, n_estimators=1000; total time=   2.6s\n"
     ]
    },
    {
     "data": {
      "text/html": [
       "<style>#sk-container-id-1 {\n",
       "  /* Definition of color scheme common for light and dark mode */\n",
       "  --sklearn-color-text: black;\n",
       "  --sklearn-color-line: gray;\n",
       "  /* Definition of color scheme for unfitted estimators */\n",
       "  --sklearn-color-unfitted-level-0: #fff5e6;\n",
       "  --sklearn-color-unfitted-level-1: #f6e4d2;\n",
       "  --sklearn-color-unfitted-level-2: #ffe0b3;\n",
       "  --sklearn-color-unfitted-level-3: chocolate;\n",
       "  /* Definition of color scheme for fitted estimators */\n",
       "  --sklearn-color-fitted-level-0: #f0f8ff;\n",
       "  --sklearn-color-fitted-level-1: #d4ebff;\n",
       "  --sklearn-color-fitted-level-2: #b3dbfd;\n",
       "  --sklearn-color-fitted-level-3: cornflowerblue;\n",
       "\n",
       "  /* Specific color for light theme */\n",
       "  --sklearn-color-text-on-default-background: var(--sg-text-color, var(--theme-code-foreground, var(--jp-content-font-color1, black)));\n",
       "  --sklearn-color-background: var(--sg-background-color, var(--theme-background, var(--jp-layout-color0, white)));\n",
       "  --sklearn-color-border-box: var(--sg-text-color, var(--theme-code-foreground, var(--jp-content-font-color1, black)));\n",
       "  --sklearn-color-icon: #696969;\n",
       "\n",
       "  @media (prefers-color-scheme: dark) {\n",
       "    /* Redefinition of color scheme for dark theme */\n",
       "    --sklearn-color-text-on-default-background: var(--sg-text-color, var(--theme-code-foreground, var(--jp-content-font-color1, white)));\n",
       "    --sklearn-color-background: var(--sg-background-color, var(--theme-background, var(--jp-layout-color0, #111)));\n",
       "    --sklearn-color-border-box: var(--sg-text-color, var(--theme-code-foreground, var(--jp-content-font-color1, white)));\n",
       "    --sklearn-color-icon: #878787;\n",
       "  }\n",
       "}\n",
       "\n",
       "#sk-container-id-1 {\n",
       "  color: var(--sklearn-color-text);\n",
       "}\n",
       "\n",
       "#sk-container-id-1 pre {\n",
       "  padding: 0;\n",
       "}\n",
       "\n",
       "#sk-container-id-1 input.sk-hidden--visually {\n",
       "  border: 0;\n",
       "  clip: rect(1px 1px 1px 1px);\n",
       "  clip: rect(1px, 1px, 1px, 1px);\n",
       "  height: 1px;\n",
       "  margin: -1px;\n",
       "  overflow: hidden;\n",
       "  padding: 0;\n",
       "  position: absolute;\n",
       "  width: 1px;\n",
       "}\n",
       "\n",
       "#sk-container-id-1 div.sk-dashed-wrapped {\n",
       "  border: 1px dashed var(--sklearn-color-line);\n",
       "  margin: 0 0.4em 0.5em 0.4em;\n",
       "  box-sizing: border-box;\n",
       "  padding-bottom: 0.4em;\n",
       "  background-color: var(--sklearn-color-background);\n",
       "}\n",
       "\n",
       "#sk-container-id-1 div.sk-container {\n",
       "  /* jupyter's `normalize.less` sets `[hidden] { display: none; }`\n",
       "     but bootstrap.min.css set `[hidden] { display: none !important; }`\n",
       "     so we also need the `!important` here to be able to override the\n",
       "     default hidden behavior on the sphinx rendered scikit-learn.org.\n",
       "     See: https://github.com/scikit-learn/scikit-learn/issues/21755 */\n",
       "  display: inline-block !important;\n",
       "  position: relative;\n",
       "}\n",
       "\n",
       "#sk-container-id-1 div.sk-text-repr-fallback {\n",
       "  display: none;\n",
       "}\n",
       "\n",
       "div.sk-parallel-item,\n",
       "div.sk-serial,\n",
       "div.sk-item {\n",
       "  /* draw centered vertical line to link estimators */\n",
       "  background-image: linear-gradient(var(--sklearn-color-text-on-default-background), var(--sklearn-color-text-on-default-background));\n",
       "  background-size: 2px 100%;\n",
       "  background-repeat: no-repeat;\n",
       "  background-position: center center;\n",
       "}\n",
       "\n",
       "/* Parallel-specific style estimator block */\n",
       "\n",
       "#sk-container-id-1 div.sk-parallel-item::after {\n",
       "  content: \"\";\n",
       "  width: 100%;\n",
       "  border-bottom: 2px solid var(--sklearn-color-text-on-default-background);\n",
       "  flex-grow: 1;\n",
       "}\n",
       "\n",
       "#sk-container-id-1 div.sk-parallel {\n",
       "  display: flex;\n",
       "  align-items: stretch;\n",
       "  justify-content: center;\n",
       "  background-color: var(--sklearn-color-background);\n",
       "  position: relative;\n",
       "}\n",
       "\n",
       "#sk-container-id-1 div.sk-parallel-item {\n",
       "  display: flex;\n",
       "  flex-direction: column;\n",
       "}\n",
       "\n",
       "#sk-container-id-1 div.sk-parallel-item:first-child::after {\n",
       "  align-self: flex-end;\n",
       "  width: 50%;\n",
       "}\n",
       "\n",
       "#sk-container-id-1 div.sk-parallel-item:last-child::after {\n",
       "  align-self: flex-start;\n",
       "  width: 50%;\n",
       "}\n",
       "\n",
       "#sk-container-id-1 div.sk-parallel-item:only-child::after {\n",
       "  width: 0;\n",
       "}\n",
       "\n",
       "/* Serial-specific style estimator block */\n",
       "\n",
       "#sk-container-id-1 div.sk-serial {\n",
       "  display: flex;\n",
       "  flex-direction: column;\n",
       "  align-items: center;\n",
       "  background-color: var(--sklearn-color-background);\n",
       "  padding-right: 1em;\n",
       "  padding-left: 1em;\n",
       "}\n",
       "\n",
       "\n",
       "/* Toggleable style: style used for estimator/Pipeline/ColumnTransformer box that is\n",
       "clickable and can be expanded/collapsed.\n",
       "- Pipeline and ColumnTransformer use this feature and define the default style\n",
       "- Estimators will overwrite some part of the style using the `sk-estimator` class\n",
       "*/\n",
       "\n",
       "/* Pipeline and ColumnTransformer style (default) */\n",
       "\n",
       "#sk-container-id-1 div.sk-toggleable {\n",
       "  /* Default theme specific background. It is overwritten whether we have a\n",
       "  specific estimator or a Pipeline/ColumnTransformer */\n",
       "  background-color: var(--sklearn-color-background);\n",
       "}\n",
       "\n",
       "/* Toggleable label */\n",
       "#sk-container-id-1 label.sk-toggleable__label {\n",
       "  cursor: pointer;\n",
       "  display: block;\n",
       "  width: 100%;\n",
       "  margin-bottom: 0;\n",
       "  padding: 0.5em;\n",
       "  box-sizing: border-box;\n",
       "  text-align: center;\n",
       "}\n",
       "\n",
       "#sk-container-id-1 label.sk-toggleable__label-arrow:before {\n",
       "  /* Arrow on the left of the label */\n",
       "  content: \"▸\";\n",
       "  float: left;\n",
       "  margin-right: 0.25em;\n",
       "  color: var(--sklearn-color-icon);\n",
       "}\n",
       "\n",
       "#sk-container-id-1 label.sk-toggleable__label-arrow:hover:before {\n",
       "  color: var(--sklearn-color-text);\n",
       "}\n",
       "\n",
       "/* Toggleable content - dropdown */\n",
       "\n",
       "#sk-container-id-1 div.sk-toggleable__content {\n",
       "  max-height: 0;\n",
       "  max-width: 0;\n",
       "  overflow: hidden;\n",
       "  text-align: left;\n",
       "  /* unfitted */\n",
       "  background-color: var(--sklearn-color-unfitted-level-0);\n",
       "}\n",
       "\n",
       "#sk-container-id-1 div.sk-toggleable__content.fitted {\n",
       "  /* fitted */\n",
       "  background-color: var(--sklearn-color-fitted-level-0);\n",
       "}\n",
       "\n",
       "#sk-container-id-1 div.sk-toggleable__content pre {\n",
       "  margin: 0.2em;\n",
       "  border-radius: 0.25em;\n",
       "  color: var(--sklearn-color-text);\n",
       "  /* unfitted */\n",
       "  background-color: var(--sklearn-color-unfitted-level-0);\n",
       "}\n",
       "\n",
       "#sk-container-id-1 div.sk-toggleable__content.fitted pre {\n",
       "  /* unfitted */\n",
       "  background-color: var(--sklearn-color-fitted-level-0);\n",
       "}\n",
       "\n",
       "#sk-container-id-1 input.sk-toggleable__control:checked~div.sk-toggleable__content {\n",
       "  /* Expand drop-down */\n",
       "  max-height: 200px;\n",
       "  max-width: 100%;\n",
       "  overflow: auto;\n",
       "}\n",
       "\n",
       "#sk-container-id-1 input.sk-toggleable__control:checked~label.sk-toggleable__label-arrow:before {\n",
       "  content: \"▾\";\n",
       "}\n",
       "\n",
       "/* Pipeline/ColumnTransformer-specific style */\n",
       "\n",
       "#sk-container-id-1 div.sk-label input.sk-toggleable__control:checked~label.sk-toggleable__label {\n",
       "  color: var(--sklearn-color-text);\n",
       "  background-color: var(--sklearn-color-unfitted-level-2);\n",
       "}\n",
       "\n",
       "#sk-container-id-1 div.sk-label.fitted input.sk-toggleable__control:checked~label.sk-toggleable__label {\n",
       "  background-color: var(--sklearn-color-fitted-level-2);\n",
       "}\n",
       "\n",
       "/* Estimator-specific style */\n",
       "\n",
       "/* Colorize estimator box */\n",
       "#sk-container-id-1 div.sk-estimator input.sk-toggleable__control:checked~label.sk-toggleable__label {\n",
       "  /* unfitted */\n",
       "  background-color: var(--sklearn-color-unfitted-level-2);\n",
       "}\n",
       "\n",
       "#sk-container-id-1 div.sk-estimator.fitted input.sk-toggleable__control:checked~label.sk-toggleable__label {\n",
       "  /* fitted */\n",
       "  background-color: var(--sklearn-color-fitted-level-2);\n",
       "}\n",
       "\n",
       "#sk-container-id-1 div.sk-label label.sk-toggleable__label,\n",
       "#sk-container-id-1 div.sk-label label {\n",
       "  /* The background is the default theme color */\n",
       "  color: var(--sklearn-color-text-on-default-background);\n",
       "}\n",
       "\n",
       "/* On hover, darken the color of the background */\n",
       "#sk-container-id-1 div.sk-label:hover label.sk-toggleable__label {\n",
       "  color: var(--sklearn-color-text);\n",
       "  background-color: var(--sklearn-color-unfitted-level-2);\n",
       "}\n",
       "\n",
       "/* Label box, darken color on hover, fitted */\n",
       "#sk-container-id-1 div.sk-label.fitted:hover label.sk-toggleable__label.fitted {\n",
       "  color: var(--sklearn-color-text);\n",
       "  background-color: var(--sklearn-color-fitted-level-2);\n",
       "}\n",
       "\n",
       "/* Estimator label */\n",
       "\n",
       "#sk-container-id-1 div.sk-label label {\n",
       "  font-family: monospace;\n",
       "  font-weight: bold;\n",
       "  display: inline-block;\n",
       "  line-height: 1.2em;\n",
       "}\n",
       "\n",
       "#sk-container-id-1 div.sk-label-container {\n",
       "  text-align: center;\n",
       "}\n",
       "\n",
       "/* Estimator-specific */\n",
       "#sk-container-id-1 div.sk-estimator {\n",
       "  font-family: monospace;\n",
       "  border: 1px dotted var(--sklearn-color-border-box);\n",
       "  border-radius: 0.25em;\n",
       "  box-sizing: border-box;\n",
       "  margin-bottom: 0.5em;\n",
       "  /* unfitted */\n",
       "  background-color: var(--sklearn-color-unfitted-level-0);\n",
       "}\n",
       "\n",
       "#sk-container-id-1 div.sk-estimator.fitted {\n",
       "  /* fitted */\n",
       "  background-color: var(--sklearn-color-fitted-level-0);\n",
       "}\n",
       "\n",
       "/* on hover */\n",
       "#sk-container-id-1 div.sk-estimator:hover {\n",
       "  /* unfitted */\n",
       "  background-color: var(--sklearn-color-unfitted-level-2);\n",
       "}\n",
       "\n",
       "#sk-container-id-1 div.sk-estimator.fitted:hover {\n",
       "  /* fitted */\n",
       "  background-color: var(--sklearn-color-fitted-level-2);\n",
       "}\n",
       "\n",
       "/* Specification for estimator info (e.g. \"i\" and \"?\") */\n",
       "\n",
       "/* Common style for \"i\" and \"?\" */\n",
       "\n",
       ".sk-estimator-doc-link,\n",
       "a:link.sk-estimator-doc-link,\n",
       "a:visited.sk-estimator-doc-link {\n",
       "  float: right;\n",
       "  font-size: smaller;\n",
       "  line-height: 1em;\n",
       "  font-family: monospace;\n",
       "  background-color: var(--sklearn-color-background);\n",
       "  border-radius: 1em;\n",
       "  height: 1em;\n",
       "  width: 1em;\n",
       "  text-decoration: none !important;\n",
       "  margin-left: 1ex;\n",
       "  /* unfitted */\n",
       "  border: var(--sklearn-color-unfitted-level-1) 1pt solid;\n",
       "  color: var(--sklearn-color-unfitted-level-1);\n",
       "}\n",
       "\n",
       ".sk-estimator-doc-link.fitted,\n",
       "a:link.sk-estimator-doc-link.fitted,\n",
       "a:visited.sk-estimator-doc-link.fitted {\n",
       "  /* fitted */\n",
       "  border: var(--sklearn-color-fitted-level-1) 1pt solid;\n",
       "  color: var(--sklearn-color-fitted-level-1);\n",
       "}\n",
       "\n",
       "/* On hover */\n",
       "div.sk-estimator:hover .sk-estimator-doc-link:hover,\n",
       ".sk-estimator-doc-link:hover,\n",
       "div.sk-label-container:hover .sk-estimator-doc-link:hover,\n",
       ".sk-estimator-doc-link:hover {\n",
       "  /* unfitted */\n",
       "  background-color: var(--sklearn-color-unfitted-level-3);\n",
       "  color: var(--sklearn-color-background);\n",
       "  text-decoration: none;\n",
       "}\n",
       "\n",
       "div.sk-estimator.fitted:hover .sk-estimator-doc-link.fitted:hover,\n",
       ".sk-estimator-doc-link.fitted:hover,\n",
       "div.sk-label-container:hover .sk-estimator-doc-link.fitted:hover,\n",
       ".sk-estimator-doc-link.fitted:hover {\n",
       "  /* fitted */\n",
       "  background-color: var(--sklearn-color-fitted-level-3);\n",
       "  color: var(--sklearn-color-background);\n",
       "  text-decoration: none;\n",
       "}\n",
       "\n",
       "/* Span, style for the box shown on hovering the info icon */\n",
       ".sk-estimator-doc-link span {\n",
       "  display: none;\n",
       "  z-index: 9999;\n",
       "  position: relative;\n",
       "  font-weight: normal;\n",
       "  right: .2ex;\n",
       "  padding: .5ex;\n",
       "  margin: .5ex;\n",
       "  width: min-content;\n",
       "  min-width: 20ex;\n",
       "  max-width: 50ex;\n",
       "  color: var(--sklearn-color-text);\n",
       "  box-shadow: 2pt 2pt 4pt #999;\n",
       "  /* unfitted */\n",
       "  background: var(--sklearn-color-unfitted-level-0);\n",
       "  border: .5pt solid var(--sklearn-color-unfitted-level-3);\n",
       "}\n",
       "\n",
       ".sk-estimator-doc-link.fitted span {\n",
       "  /* fitted */\n",
       "  background: var(--sklearn-color-fitted-level-0);\n",
       "  border: var(--sklearn-color-fitted-level-3);\n",
       "}\n",
       "\n",
       ".sk-estimator-doc-link:hover span {\n",
       "  display: block;\n",
       "}\n",
       "\n",
       "/* \"?\"-specific style due to the `<a>` HTML tag */\n",
       "\n",
       "#sk-container-id-1 a.estimator_doc_link {\n",
       "  float: right;\n",
       "  font-size: 1rem;\n",
       "  line-height: 1em;\n",
       "  font-family: monospace;\n",
       "  background-color: var(--sklearn-color-background);\n",
       "  border-radius: 1rem;\n",
       "  height: 1rem;\n",
       "  width: 1rem;\n",
       "  text-decoration: none;\n",
       "  /* unfitted */\n",
       "  color: var(--sklearn-color-unfitted-level-1);\n",
       "  border: var(--sklearn-color-unfitted-level-1) 1pt solid;\n",
       "}\n",
       "\n",
       "#sk-container-id-1 a.estimator_doc_link.fitted {\n",
       "  /* fitted */\n",
       "  border: var(--sklearn-color-fitted-level-1) 1pt solid;\n",
       "  color: var(--sklearn-color-fitted-level-1);\n",
       "}\n",
       "\n",
       "/* On hover */\n",
       "#sk-container-id-1 a.estimator_doc_link:hover {\n",
       "  /* unfitted */\n",
       "  background-color: var(--sklearn-color-unfitted-level-3);\n",
       "  color: var(--sklearn-color-background);\n",
       "  text-decoration: none;\n",
       "}\n",
       "\n",
       "#sk-container-id-1 a.estimator_doc_link.fitted:hover {\n",
       "  /* fitted */\n",
       "  background-color: var(--sklearn-color-fitted-level-3);\n",
       "}\n",
       "</style><div id=\"sk-container-id-1\" class=\"sk-top-container\"><div class=\"sk-text-repr-fallback\"><pre>GridSearchCV(cv=5, estimator=RandomForestRegressor(),\n",
       "             param_grid={&#x27;max_depth&#x27;: [None, 5], &#x27;max_features&#x27;: [&#x27;sqrt&#x27;],\n",
       "                         &#x27;min_samples_split&#x27;: [2, 4],\n",
       "                         &#x27;n_estimators&#x27;: [100, 1000]},\n",
       "             verbose=2)</pre><b>In a Jupyter environment, please rerun this cell to show the HTML representation or trust the notebook. <br />On GitHub, the HTML representation is unable to render, please try loading this page with nbviewer.org.</b></div><div class=\"sk-container\" hidden><div class=\"sk-item sk-dashed-wrapped\"><div class=\"sk-label-container\"><div class=\"sk-label fitted sk-toggleable\"><input class=\"sk-toggleable__control sk-hidden--visually\" id=\"sk-estimator-id-1\" type=\"checkbox\" ><label for=\"sk-estimator-id-1\" class=\"sk-toggleable__label fitted sk-toggleable__label-arrow fitted\">&nbsp;&nbsp;GridSearchCV<a class=\"sk-estimator-doc-link fitted\" rel=\"noreferrer\" target=\"_blank\" href=\"https://scikit-learn.org/1.5/modules/generated/sklearn.model_selection.GridSearchCV.html\">?<span>Documentation for GridSearchCV</span></a><span class=\"sk-estimator-doc-link fitted\">i<span>Fitted</span></span></label><div class=\"sk-toggleable__content fitted\"><pre>GridSearchCV(cv=5, estimator=RandomForestRegressor(),\n",
       "             param_grid={&#x27;max_depth&#x27;: [None, 5], &#x27;max_features&#x27;: [&#x27;sqrt&#x27;],\n",
       "                         &#x27;min_samples_split&#x27;: [2, 4],\n",
       "                         &#x27;n_estimators&#x27;: [100, 1000]},\n",
       "             verbose=2)</pre></div> </div></div><div class=\"sk-parallel\"><div class=\"sk-parallel-item\"><div class=\"sk-item\"><div class=\"sk-label-container\"><div class=\"sk-label fitted sk-toggleable\"><input class=\"sk-toggleable__control sk-hidden--visually\" id=\"sk-estimator-id-2\" type=\"checkbox\" ><label for=\"sk-estimator-id-2\" class=\"sk-toggleable__label fitted sk-toggleable__label-arrow fitted\">best_estimator_: RandomForestRegressor</label><div class=\"sk-toggleable__content fitted\"><pre>RandomForestRegressor(max_features=&#x27;sqrt&#x27;, n_estimators=1000)</pre></div> </div></div><div class=\"sk-serial\"><div class=\"sk-item\"><div class=\"sk-estimator fitted sk-toggleable\"><input class=\"sk-toggleable__control sk-hidden--visually\" id=\"sk-estimator-id-3\" type=\"checkbox\" ><label for=\"sk-estimator-id-3\" class=\"sk-toggleable__label fitted sk-toggleable__label-arrow fitted\">&nbsp;RandomForestRegressor<a class=\"sk-estimator-doc-link fitted\" rel=\"noreferrer\" target=\"_blank\" href=\"https://scikit-learn.org/1.5/modules/generated/sklearn.ensemble.RandomForestRegressor.html\">?<span>Documentation for RandomForestRegressor</span></a></label><div class=\"sk-toggleable__content fitted\"><pre>RandomForestRegressor(max_features=&#x27;sqrt&#x27;, n_estimators=1000)</pre></div> </div></div></div></div></div></div></div></div></div>"
      ],
      "text/plain": [
       "GridSearchCV(cv=5, estimator=RandomForestRegressor(),\n",
       "             param_grid={'max_depth': [None, 5], 'max_features': ['sqrt'],\n",
       "                         'min_samples_split': [2, 4],\n",
       "                         'n_estimators': [100, 1000]},\n",
       "             verbose=2)"
      ]
     },
     "execution_count": 38,
     "metadata": {},
     "output_type": "execute_result"
    }
   ],
   "source": [
    "# Model hyper paramiterization\n",
    "# Use GridSearchCV with our regression Pipeline\n",
    "\n",
    "pipe_grid = {\n",
    "    \"n_estimators\": [100, 1000],\n",
    "    \"max_depth\": [None, 5],\n",
    "    \"max_features\": [\"sqrt\"],\n",
    "    \"min_samples_split\": [2, 4]\n",
    "}\n",
    "\n",
    "gs_model = GridSearchCV(rf, pipe_grid, cv=5, verbose=2)\n",
    "gs_model.fit(X_train, y_train)"
   ]
  },
  {
   "cell_type": "code",
   "execution_count": 39,
   "metadata": {
    "colab": {
     "base_uri": "https://localhost:8080/"
    },
    "executionInfo": {
     "elapsed": 26,
     "status": "ok",
     "timestamp": 1731063110054,
     "user": {
      "displayName": "Oluwatobiloba Odeyemi",
      "userId": "00587895885485655319"
     },
     "user_tz": -60
    },
    "id": "vApGLb9auVw8",
    "outputId": "ac98434c-ecd3-41ce-b9cd-cc852f18c554"
   },
   "outputs": [
    {
     "data": {
      "text/plain": [
       "0.9845958690514875"
      ]
     },
     "execution_count": 39,
     "metadata": {},
     "output_type": "execute_result"
    }
   ],
   "source": [
    "# Score the test data using the GridsearchCV\n",
    "gs_model.score(X_test, y_test)"
   ]
  },
  {
   "cell_type": "markdown",
   "metadata": {
    "id": "ati6v24_yXIK"
   },
   "source": [
    "Make prediction on the X_test dataframe"
   ]
  },
  {
   "cell_type": "code",
   "execution_count": 40,
   "metadata": {
    "colab": {
     "base_uri": "https://localhost:8080/"
    },
    "executionInfo": {
     "elapsed": 18,
     "status": "ok",
     "timestamp": 1731063110054,
     "user": {
      "displayName": "Oluwatobiloba Odeyemi",
      "userId": "00587895885485655319"
     },
     "user_tz": -60
    },
    "id": "pacUIjpOuVw8",
    "outputId": "636e9d12-5651-44c7-9024-9b1ade704049"
   },
   "outputs": [
    {
     "data": {
      "text/plain": [
       "array([ 1.52956272,  0.69877681,  2.75172118,  8.79120628,  2.64732858,\n",
       "        2.32316719,  8.44331552,  0.91335944,  2.35108091,  0.59814197,\n",
       "        0.97303447,  3.06472654,  1.74930306,  0.94609573,  4.18687719,\n",
       "        1.55907891, 10.25460268,  0.95471092, 64.19946973,  1.11560372,\n",
       "        0.97303447,  3.53978437,  2.09407468,  9.90305077,  1.59635874,\n",
       "       29.28256182, 29.19052645,  2.7905227 ,  1.26748613])"
      ]
     },
     "execution_count": 40,
     "metadata": {},
     "output_type": "execute_result"
    }
   ],
   "source": [
    " # Make predictions using RandomForestRegressor\n",
    "y_preds = gs_model.predict(X_test)\n",
    "y_preds"
   ]
  },
  {
   "cell_type": "code",
   "execution_count": 41,
   "metadata": {
    "colab": {
     "base_uri": "https://localhost:8080/"
    },
    "executionInfo": {
     "elapsed": 14,
     "status": "ok",
     "timestamp": 1731063110054,
     "user": {
      "displayName": "Oluwatobiloba Odeyemi",
      "userId": "00587895885485655319"
     },
     "user_tz": -60
    },
    "id": "6cS3wWMluVw9",
    "outputId": "02bdd4af-256b-488b-bc54-fde15595ace3"
   },
   "outputs": [
    {
     "data": {
      "text/plain": [
       "np.float64(0.7943707220798258)"
      ]
     },
     "execution_count": 41,
     "metadata": {},
     "output_type": "execute_result"
    }
   ],
   "source": [
    "# Compare the predictions to the truth\n",
    "mean_absolute_error(y_test, y_preds)"
   ]
  },
  {
   "cell_type": "markdown",
   "metadata": {
    "id": "q0-i-SWb3I_m"
   },
   "source": [
    "Make predictions on the predict datasets"
   ]
  },
  {
   "cell_type": "code",
   "execution_count": 42,
   "metadata": {
    "colab": {
     "base_uri": "https://localhost:8080/"
    },
    "executionInfo": {
     "elapsed": 10,
     "status": "ok",
     "timestamp": 1731063110054,
     "user": {
      "displayName": "Oluwatobiloba Odeyemi",
      "userId": "00587895885485655319"
     },
     "user_tz": -60
    },
    "id": "YAu5AuATuVw9",
    "outputId": "5fc8358d-678c-4dac-a9e0-ca2a5ce14a91"
   },
   "outputs": [
    {
     "data": {
      "text/plain": [
       "array([ 2.55123141, 27.40655218, 20.3884812 , 10.62347321, 21.05553164,\n",
       "       41.51439333,  3.03031572, 14.93280124, 10.24671792, 68.80932486,\n",
       "        3.53581468, 16.81406531, 27.63659741,  0.92170578, 57.31325724,\n",
       "        0.69877681,  0.57552091,  6.96804039, 29.28256182, 21.05553164,\n",
       "       14.93280124, 29.12654281,  4.95539259, 10.6546664 ,  0.54552292,\n",
       "        0.81068389,  2.25350992,  4.31354945,  3.53872535,  0.59814197,\n",
       "        2.52931463, 45.26124722,  3.06472654, 20.39176131, 11.68817595,\n",
       "        4.23919837, 64.19946973, 32.25865116,  2.55123141,  0.85558203,\n",
       "        3.03031572, 21.48424934,  6.80909167, 17.48377465,  5.66420316,\n",
       "        6.85398101,  2.18718511, 29.12654281, 12.37594593, 15.13523646,\n",
       "        3.85113274, 11.5416434 ,  4.96095255,  1.91804369, 11.5416434 ,\n",
       "       41.60966858,  6.15613312, 12.29958874, 31.02473113,  5.90316546,\n",
       "       27.3289192 ,  1.14991451, 13.38248327, 42.89083734, 21.02177393,\n",
       "        1.09493579,  4.00532294,  0.64692208,  0.85064232,  3.53581468,\n",
       "        8.44331552,  5.90198475, 12.25727098,  1.60642684,  2.31119234,\n",
       "        8.79120628])"
      ]
     },
     "execution_count": 42,
     "metadata": {},
     "output_type": "execute_result"
    }
   ],
   "source": [
    "per_hour_pred = predict_data.drop('GDP_per_hour',axis=1)\n",
    "per_hour_pred.columns\n",
    "#make prediction on prediction data set\n",
    "y_preds_rf = gs_model.predict(per_hour_pred)\n",
    "y_preds_rf"
   ]
  },
  {
   "cell_type": "code",
   "execution_count": 43,
   "metadata": {
    "colab": {
     "base_uri": "https://localhost:8080/",
     "height": 424
    },
    "executionInfo": {
     "elapsed": 30,
     "status": "ok",
     "timestamp": 1731063110624,
     "user": {
      "displayName": "Oluwatobiloba Odeyemi",
      "userId": "00587895885485655319"
     },
     "user_tz": -60
    },
    "id": "EnLVUApDuVw9",
    "outputId": "9dc56e88-5820-485a-eea3-8f5261f75a7b"
   },
   "outputs": [
    {
     "data": {
      "text/html": [
       "<div>\n",
       "<style scoped>\n",
       "    .dataframe tbody tr th:only-of-type {\n",
       "        vertical-align: middle;\n",
       "    }\n",
       "\n",
       "    .dataframe tbody tr th {\n",
       "        vertical-align: top;\n",
       "    }\n",
       "\n",
       "    .dataframe thead th {\n",
       "        text-align: right;\n",
       "    }\n",
       "</style>\n",
       "<table border=\"1\" class=\"dataframe\">\n",
       "  <thead>\n",
       "    <tr style=\"text-align: right;\">\n",
       "      <th></th>\n",
       "      <th>GDP_per_capita_2022</th>\n",
       "      <th>GDP_per_hour</th>\n",
       "    </tr>\n",
       "  </thead>\n",
       "  <tbody>\n",
       "    <tr>\n",
       "      <th>2</th>\n",
       "      <td>4602.575608</td>\n",
       "      <td>2.551231</td>\n",
       "    </tr>\n",
       "    <tr>\n",
       "      <th>3</th>\n",
       "      <td>39720.951859</td>\n",
       "      <td>27.406552</td>\n",
       "    </tr>\n",
       "    <tr>\n",
       "      <th>5</th>\n",
       "      <td>35374</td>\n",
       "      <td>20.388481</td>\n",
       "    </tr>\n",
       "    <tr>\n",
       "      <th>6</th>\n",
       "      <td>17335.04704</td>\n",
       "      <td>10.623473</td>\n",
       "    </tr>\n",
       "    <tr>\n",
       "      <th>9</th>\n",
       "      <td>32492.178878</td>\n",
       "      <td>21.055532</td>\n",
       "    </tr>\n",
       "    <tr>\n",
       "      <th>...</th>\n",
       "      <td>...</td>\n",
       "      <td>...</td>\n",
       "    </tr>\n",
       "    <tr>\n",
       "      <th>202</th>\n",
       "      <td>8489.722266</td>\n",
       "      <td>5.901985</td>\n",
       "    </tr>\n",
       "    <tr>\n",
       "      <th>203</th>\n",
       "      <td>20323.148677</td>\n",
       "      <td>12.257271</td>\n",
       "    </tr>\n",
       "    <tr>\n",
       "      <th>207</th>\n",
       "      <td>2042.639038</td>\n",
       "      <td>1.606427</td>\n",
       "    </tr>\n",
       "    <tr>\n",
       "      <th>212</th>\n",
       "      <td>3473.361643</td>\n",
       "      <td>2.311192</td>\n",
       "    </tr>\n",
       "    <tr>\n",
       "      <th>216</th>\n",
       "      <td>12460</td>\n",
       "      <td>8.791206</td>\n",
       "    </tr>\n",
       "  </tbody>\n",
       "</table>\n",
       "<p>76 rows × 2 columns</p>\n",
       "</div>"
      ],
      "text/plain": [
       "    GDP_per_capita_2022  GDP_per_hour\n",
       "2           4602.575608      2.551231\n",
       "3          39720.951859     27.406552\n",
       "5                 35374     20.388481\n",
       "6           17335.04704     10.623473\n",
       "9          32492.178878     21.055532\n",
       "..                  ...           ...\n",
       "202         8489.722266      5.901985\n",
       "203        20323.148677     12.257271\n",
       "207         2042.639038      1.606427\n",
       "212         3473.361643      2.311192\n",
       "216               12460      8.791206\n",
       "\n",
       "[76 rows x 2 columns]"
      ]
     },
     "execution_count": 43,
     "metadata": {},
     "output_type": "execute_result"
    }
   ],
   "source": [
    "#Create GDP per hours on predit_gdp_hour\n",
    "predict_data['GDP_per_hour'] = y_preds_rf\n",
    "predict_data"
   ]
  },
  {
   "cell_type": "markdown",
   "metadata": {
    "id": "CrZfVIut3YVK"
   },
   "source": [
    "Merge the predicted gdp per hour result with the merged data set to fill the NaN in the dataset"
   ]
  },
  {
   "cell_type": "code",
   "execution_count": 44,
   "metadata": {
    "colab": {
     "base_uri": "https://localhost:8080/",
     "height": 461
    },
    "executionInfo": {
     "elapsed": 27,
     "status": "ok",
     "timestamp": 1731063110625,
     "user": {
      "displayName": "Oluwatobiloba Odeyemi",
      "userId": "00587895885485655319"
     },
     "user_tz": -60
    },
    "id": "_9hHwnJbuVw9",
    "outputId": "5a74c542-bdb3-4677-8481-d9db6a8db9dc"
   },
   "outputs": [
    {
     "data": {
      "text/html": [
       "<div>\n",
       "<style scoped>\n",
       "    .dataframe tbody tr th:only-of-type {\n",
       "        vertical-align: middle;\n",
       "    }\n",
       "\n",
       "    .dataframe tbody tr th {\n",
       "        vertical-align: top;\n",
       "    }\n",
       "\n",
       "    .dataframe thead th {\n",
       "        text-align: right;\n",
       "    }\n",
       "</style>\n",
       "<table border=\"1\" class=\"dataframe\">\n",
       "  <thead>\n",
       "    <tr style=\"text-align: right;\">\n",
       "      <th></th>\n",
       "      <th>partnerDesc_x</th>\n",
       "      <th>country_iso3</th>\n",
       "      <th>fobvalue</th>\n",
       "      <th>partnerDesc_y</th>\n",
       "      <th>index</th>\n",
       "      <th>constant_usd</th>\n",
       "      <th>GDP_per_hour</th>\n",
       "      <th>GDP_per_capita_2022</th>\n",
       "    </tr>\n",
       "  </thead>\n",
       "  <tbody>\n",
       "    <tr>\n",
       "      <th>0</th>\n",
       "      <td>Afghanistan</td>\n",
       "      <td>AFG</td>\n",
       "      <td>2.254660e+07</td>\n",
       "      <td>Afghanistan</td>\n",
       "      <td>143.2</td>\n",
       "      <td>1.574483e+07</td>\n",
       "      <td>0.450339</td>\n",
       "      <td>372.615895</td>\n",
       "    </tr>\n",
       "    <tr>\n",
       "      <th>1</th>\n",
       "      <td>Albania</td>\n",
       "      <td>ALB</td>\n",
       "      <td>1.449910e+08</td>\n",
       "      <td>Albania</td>\n",
       "      <td>131.2</td>\n",
       "      <td>1.105115e+08</td>\n",
       "      <td>2.683043</td>\n",
       "      <td>5155.29086</td>\n",
       "    </tr>\n",
       "    <tr>\n",
       "      <th>2</th>\n",
       "      <td>Algeria</td>\n",
       "      <td>DZA</td>\n",
       "      <td>3.060778e+09</td>\n",
       "      <td>Algeria</td>\n",
       "      <td>203.1</td>\n",
       "      <td>1.507030e+09</td>\n",
       "      <td>2.551231</td>\n",
       "      <td>4602.575608</td>\n",
       "    </tr>\n",
       "    <tr>\n",
       "      <th>3</th>\n",
       "      <td>Andorra</td>\n",
       "      <td>AND</td>\n",
       "      <td>9.778800e+06</td>\n",
       "      <td>Andorra</td>\n",
       "      <td>116.4</td>\n",
       "      <td>8.401031e+06</td>\n",
       "      <td>27.406552</td>\n",
       "      <td>39720.951859</td>\n",
       "    </tr>\n",
       "    <tr>\n",
       "      <th>4</th>\n",
       "      <td>Angola</td>\n",
       "      <td>AGO</td>\n",
       "      <td>1.611020e+09</td>\n",
       "      <td>Angola</td>\n",
       "      <td>220.4</td>\n",
       "      <td>7.309527e+08</td>\n",
       "      <td>2.592022</td>\n",
       "      <td>2385.119956</td>\n",
       "    </tr>\n",
       "    <tr>\n",
       "      <th>...</th>\n",
       "      <td>...</td>\n",
       "      <td>...</td>\n",
       "      <td>...</td>\n",
       "      <td>...</td>\n",
       "      <td>...</td>\n",
       "      <td>...</td>\n",
       "      <td>...</td>\n",
       "      <td>...</td>\n",
       "    </tr>\n",
       "    <tr>\n",
       "      <th>215</th>\n",
       "      <td>Viet Nam</td>\n",
       "      <td>VNM</td>\n",
       "      <td>1.275212e+11</td>\n",
       "      <td>Viet Nam</td>\n",
       "      <td>114.3</td>\n",
       "      <td>1.115671e+11</td>\n",
       "      <td>1.994271</td>\n",
       "      <td>3658.693163</td>\n",
       "    </tr>\n",
       "    <tr>\n",
       "      <th>216</th>\n",
       "      <td>Wallis and Futuna Isds</td>\n",
       "      <td>WLF</td>\n",
       "      <td>1.079010e+05</td>\n",
       "      <td>NaN</td>\n",
       "      <td>100.0</td>\n",
       "      <td>1.079010e+05</td>\n",
       "      <td>8.791206</td>\n",
       "      <td>12460</td>\n",
       "    </tr>\n",
       "    <tr>\n",
       "      <th>217</th>\n",
       "      <td>Yemen</td>\n",
       "      <td>YEM</td>\n",
       "      <td>3.141011e+07</td>\n",
       "      <td>Yemen, Rep.</td>\n",
       "      <td>147.5</td>\n",
       "      <td>2.129499e+07</td>\n",
       "      <td>0.670416</td>\n",
       "      <td>1017.873109</td>\n",
       "    </tr>\n",
       "    <tr>\n",
       "      <th>218</th>\n",
       "      <td>Zambia</td>\n",
       "      <td>ZMB</td>\n",
       "      <td>1.352544e+08</td>\n",
       "      <td>Zambia</td>\n",
       "      <td>163.1</td>\n",
       "      <td>8.292731e+07</td>\n",
       "      <td>0.995522</td>\n",
       "      <td>1308.101838</td>\n",
       "    </tr>\n",
       "    <tr>\n",
       "      <th>219</th>\n",
       "      <td>Zimbabwe</td>\n",
       "      <td>ZWE</td>\n",
       "      <td>8.650949e+07</td>\n",
       "      <td>Zimbabwe</td>\n",
       "      <td>136.2</td>\n",
       "      <td>6.351651e+07</td>\n",
       "      <td>0.937394</td>\n",
       "      <td>1345.769083</td>\n",
       "    </tr>\n",
       "  </tbody>\n",
       "</table>\n",
       "<p>220 rows × 8 columns</p>\n",
       "</div>"
      ],
      "text/plain": [
       "              partnerDesc_x country_iso3      fobvalue partnerDesc_y  index  \\\n",
       "0               Afghanistan          AFG  2.254660e+07   Afghanistan  143.2   \n",
       "1                   Albania          ALB  1.449910e+08       Albania  131.2   \n",
       "2                   Algeria          DZA  3.060778e+09       Algeria  203.1   \n",
       "3                   Andorra          AND  9.778800e+06       Andorra  116.4   \n",
       "4                    Angola          AGO  1.611020e+09        Angola  220.4   \n",
       "..                      ...          ...           ...           ...    ...   \n",
       "215                Viet Nam          VNM  1.275212e+11      Viet Nam  114.3   \n",
       "216  Wallis and Futuna Isds          WLF  1.079010e+05           NaN  100.0   \n",
       "217                   Yemen          YEM  3.141011e+07   Yemen, Rep.  147.5   \n",
       "218                  Zambia          ZMB  1.352544e+08        Zambia  163.1   \n",
       "219                Zimbabwe          ZWE  8.650949e+07      Zimbabwe  136.2   \n",
       "\n",
       "     constant_usd  GDP_per_hour GDP_per_capita_2022  \n",
       "0    1.574483e+07      0.450339          372.615895  \n",
       "1    1.105115e+08      2.683043          5155.29086  \n",
       "2    1.507030e+09      2.551231         4602.575608  \n",
       "3    8.401031e+06     27.406552        39720.951859  \n",
       "4    7.309527e+08      2.592022         2385.119956  \n",
       "..            ...           ...                 ...  \n",
       "215  1.115671e+11      1.994271         3658.693163  \n",
       "216  1.079010e+05      8.791206               12460  \n",
       "217  2.129499e+07      0.670416         1017.873109  \n",
       "218  8.292731e+07      0.995522         1308.101838  \n",
       "219  6.351651e+07      0.937394         1345.769083  \n",
       "\n",
       "[220 rows x 8 columns]"
      ]
     },
     "execution_count": 44,
     "metadata": {},
     "output_type": "execute_result"
    }
   ],
   "source": [
    "# Update GDP Per Hour in the marged_comtrade_gdp_per_hour_per_gdpper_capita dataframe\n",
    "marged_comtrade_gdp_per_hour_per_gdpper_capita.update(predict_data)\n",
    "marged_comtrade_gdp_per_hour_per_gdpper_capita"
   ]
  },
  {
   "cell_type": "code",
   "execution_count": 45,
   "metadata": {
    "colab": {
     "base_uri": "https://localhost:8080/",
     "height": 335
    },
    "executionInfo": {
     "elapsed": 23,
     "status": "ok",
     "timestamp": 1731063110625,
     "user": {
      "displayName": "Oluwatobiloba Odeyemi",
      "userId": "00587895885485655319"
     },
     "user_tz": -60
    },
    "id": "GdnVNX1hwdoP",
    "outputId": "6212dfd4-980e-4bbf-a194-61faf15168d0"
   },
   "outputs": [
    {
     "data": {
      "text/plain": [
       "partnerDesc_x           object\n",
       "country_iso3            object\n",
       "fobvalue               float64\n",
       "partnerDesc_y           object\n",
       "index                  float64\n",
       "constant_usd           float64\n",
       "GDP_per_hour           float64\n",
       "GDP_per_capita_2022    float64\n",
       "dtype: object"
      ]
     },
     "execution_count": 45,
     "metadata": {},
     "output_type": "execute_result"
    }
   ],
   "source": [
    "#Update data type of the gdp_per_capita column from object to float64\n",
    "marged_comtrade_gdp_per_hour_per_gdpper_capita['GDP_per_capita_2022'] = pd.to_numeric(marged_comtrade_gdp_per_hour_per_gdpper_capita['GDP_per_capita_2022'], errors='coerce')\n",
    "marged_comtrade_gdp_per_hour_per_gdpper_capita.dtypes"
   ]
  },
  {
   "cell_type": "markdown",
   "metadata": {
    "id": "RRtk4O5y3rl8"
   },
   "source": [
    "# See how well the prediction performed between the GDP per hour and the GDP per capita in order to check for outliners"
   ]
  },
  {
   "cell_type": "code",
   "execution_count": 46,
   "metadata": {
    "colab": {
     "base_uri": "https://localhost:8080/",
     "height": 542
    },
    "executionInfo": {
     "elapsed": 1033,
     "status": "ok",
     "timestamp": 1731063111638,
     "user": {
      "displayName": "Oluwatobiloba Odeyemi",
      "userId": "00587895885485655319"
     },
     "user_tz": -60
    },
    "id": "Ya4yiyB6uVxD",
    "outputId": "cd4c4f09-5a95-4990-9ea7-a31c21e3b6bc"
   },
   "outputs": [
    {
     "data": {
      "application/vnd.plotly.v1+json": {
       "config": {
        "plotlyServerURL": "https://plot.ly"
       },
       "data": [
        {
         "hovertemplate": "country_iso3=%{text}<br>GDP_per_capita_2022=%{x}<br>GDP_per_hour=%{y}<extra></extra>",
         "legendgroup": "AFG",
         "marker": {
          "color": "#636efa",
          "symbol": "circle"
         },
         "mode": "markers+text",
         "name": "AFG",
         "orientation": "v",
         "showlegend": true,
         "text": [
          "AFG"
         ],
         "type": "scatter",
         "x": [
          372.615894847401
         ],
         "xaxis": "x",
         "y": [
          0.45033915196148566
         ],
         "yaxis": "y"
        },
        {
         "hovertemplate": "country_iso3=%{text}<br>GDP_per_capita_2022=%{x}<br>GDP_per_hour=%{y}<extra></extra>",
         "legendgroup": "ALB",
         "marker": {
          "color": "#EF553B",
          "symbol": "circle"
         },
         "mode": "markers+text",
         "name": "ALB",
         "orientation": "v",
         "showlegend": true,
         "text": [
          "ALB"
         ],
         "type": "scatter",
         "x": [
          5155.290859641511
         ],
         "xaxis": "x",
         "y": [
          2.6830434545543476
         ],
         "yaxis": "y"
        },
        {
         "hovertemplate": "country_iso3=%{text}<br>GDP_per_capita_2022=%{x}<br>GDP_per_hour=%{y}<extra></extra>",
         "legendgroup": "DZA",
         "marker": {
          "color": "#00cc96",
          "symbol": "circle"
         },
         "mode": "markers+text",
         "name": "DZA",
         "orientation": "v",
         "showlegend": true,
         "text": [
          "DZA"
         ],
         "type": "scatter",
         "x": [
          4602.575608477859
         ],
         "xaxis": "x",
         "y": [
          2.551231408677151
         ],
         "yaxis": "y"
        },
        {
         "hovertemplate": "country_iso3=%{text}<br>GDP_per_capita_2022=%{x}<br>GDP_per_hour=%{y}<extra></extra>",
         "legendgroup": "AND",
         "marker": {
          "color": "#ab63fa",
          "symbol": "circle"
         },
         "mode": "markers+text",
         "name": "AND",
         "orientation": "v",
         "showlegend": true,
         "text": [
          "AND"
         ],
         "type": "scatter",
         "x": [
          39720.95185888497
         ],
         "xaxis": "x",
         "y": [
          27.406552182816274
         ],
         "yaxis": "y"
        },
        {
         "hovertemplate": "country_iso3=%{text}<br>GDP_per_capita_2022=%{x}<br>GDP_per_hour=%{y}<extra></extra>",
         "legendgroup": "AGO",
         "marker": {
          "color": "#FFA15A",
          "symbol": "circle"
         },
         "mode": "markers+text",
         "name": "AGO",
         "orientation": "v",
         "showlegend": true,
         "text": [
          "AGO"
         ],
         "type": "scatter",
         "x": [
          2385.119955662447
         ],
         "xaxis": "x",
         "y": [
          2.5920220661389877
         ],
         "yaxis": "y"
        },
        {
         "hovertemplate": "country_iso3=%{text}<br>GDP_per_capita_2022=%{x}<br>GDP_per_hour=%{y}<extra></extra>",
         "legendgroup": "AIA",
         "marker": {
          "color": "#19d3f3",
          "symbol": "circle"
         },
         "mode": "markers+text",
         "name": "AIA",
         "orientation": "v",
         "showlegend": true,
         "text": [
          "AIA"
         ],
         "type": "scatter",
         "x": [
          35374
         ],
         "xaxis": "x",
         "y": [
          20.388481198546486
         ],
         "yaxis": "y"
        },
        {
         "hovertemplate": "country_iso3=%{text}<br>GDP_per_capita_2022=%{x}<br>GDP_per_hour=%{y}<extra></extra>",
         "legendgroup": "ATG",
         "marker": {
          "color": "#FF6692",
          "symbol": "circle"
         },
         "mode": "markers+text",
         "name": "ATG",
         "orientation": "v",
         "showlegend": true,
         "text": [
          "ATG"
         ],
         "type": "scatter",
         "x": [
          17335.047039518002
         ],
         "xaxis": "x",
         "y": [
          10.623473211857473
         ],
         "yaxis": "y"
        },
        {
         "hovertemplate": "country_iso3=%{text}<br>GDP_per_capita_2022=%{x}<br>GDP_per_hour=%{y}<extra></extra>",
         "legendgroup": "ARG",
         "marker": {
          "color": "#B6E880",
          "symbol": "circle"
         },
         "mode": "markers+text",
         "name": "ARG",
         "orientation": "v",
         "showlegend": true,
         "text": [
          "ARG"
         ],
         "type": "scatter",
         "x": [
          12940.73843521567
         ],
         "xaxis": "x",
         "y": [
          15.044482065884527
         ],
         "yaxis": "y"
        },
        {
         "hovertemplate": "country_iso3=%{text}<br>GDP_per_capita_2022=%{x}<br>GDP_per_hour=%{y}<extra></extra>",
         "legendgroup": "ARM",
         "marker": {
          "color": "#FF97FF",
          "symbol": "circle"
         },
         "mode": "markers+text",
         "name": "ARM",
         "orientation": "v",
         "showlegend": true,
         "text": [
          "ARM"
         ],
         "type": "scatter",
         "x": [
          5116.205756294397
         ],
         "xaxis": "x",
         "y": [
          3.123010946491303
         ],
         "yaxis": "y"
        },
        {
         "hovertemplate": "country_iso3=%{text}<br>GDP_per_capita_2022=%{x}<br>GDP_per_hour=%{y}<extra></extra>",
         "legendgroup": "ABW",
         "marker": {
          "color": "#FECB52",
          "symbol": "circle"
         },
         "mode": "markers+text",
         "name": "ABW",
         "orientation": "v",
         "showlegend": true,
         "text": [
          "ABW"
         ],
         "type": "scatter",
         "x": [
          32492.178877521364
         ],
         "xaxis": "x",
         "y": [
          21.05553163772245
         ],
         "yaxis": "y"
        },
        {
         "hovertemplate": "country_iso3=%{text}<br>GDP_per_capita_2022=%{x}<br>GDP_per_hour=%{y}<extra></extra>",
         "legendgroup": "AUS",
         "marker": {
          "color": "#636efa",
          "symbol": "circle"
         },
         "mode": "markers+text",
         "name": "AUS",
         "orientation": "v",
         "showlegend": true,
         "text": [
          "AUS"
         ],
         "type": "scatter",
         "x": [
          60972.870343149756
         ],
         "xaxis": "x",
         "y": [
          41.514393333961024
         ],
         "yaxis": "y"
        },
        {
         "hovertemplate": "country_iso3=%{text}<br>GDP_per_capita_2022=%{x}<br>GDP_per_hour=%{y}<extra></extra>",
         "legendgroup": "AUT",
         "marker": {
          "color": "#EF553B",
          "symbol": "circle"
         },
         "mode": "markers+text",
         "name": "AUT",
         "orientation": "v",
         "showlegend": true,
         "text": [
          "AUT"
         ],
         "type": "scatter",
         "x": [
          46697.85651939127
         ],
         "xaxis": "x",
         "y": [
          32.863338854105656
         ],
         "yaxis": "y"
        },
        {
         "hovertemplate": "country_iso3=%{text}<br>GDP_per_capita_2022=%{x}<br>GDP_per_hour=%{y}<extra></extra>",
         "legendgroup": "AZE",
         "marker": {
          "color": "#00cc96",
          "symbol": "circle"
         },
         "mode": "markers+text",
         "name": "AZE",
         "orientation": "v",
         "showlegend": true,
         "text": [
          "AZE"
         ],
         "type": "scatter",
         "x": [
          5595.255786715627
         ],
         "xaxis": "x",
         "y": [
          3.030315722380108
         ],
         "yaxis": "y"
        },
        {
         "hovertemplate": "country_iso3=%{text}<br>GDP_per_capita_2022=%{x}<br>GDP_per_hour=%{y}<extra></extra>",
         "legendgroup": "BHS",
         "marker": {
          "color": "#ab63fa",
          "symbol": "circle"
         },
         "mode": "markers+text",
         "name": "BHS",
         "orientation": "v",
         "showlegend": true,
         "text": [
          "BHS"
         ],
         "type": "scatter",
         "x": [
          29477.235853272065
         ],
         "xaxis": "x",
         "y": [
          20.893148355925547
         ],
         "yaxis": "y"
        },
        {
         "hovertemplate": "country_iso3=%{text}<br>GDP_per_capita_2022=%{x}<br>GDP_per_hour=%{y}<extra></extra>",
         "legendgroup": "BHR",
         "marker": {
          "color": "#FFA15A",
          "symbol": "circle"
         },
         "mode": "markers+text",
         "name": "BHR",
         "orientation": "v",
         "showlegend": true,
         "text": [
          "BHR"
         ],
         "type": "scatter",
         "x": [
          24353.07326091146
         ],
         "xaxis": "x",
         "y": [
          14.932801237865696
         ],
         "yaxis": "y"
        },
        {
         "hovertemplate": "country_iso3=%{text}<br>GDP_per_capita_2022=%{x}<br>GDP_per_hour=%{y}<extra></extra>",
         "legendgroup": "BGD",
         "marker": {
          "color": "#19d3f3",
          "symbol": "circle"
         },
         "mode": "markers+text",
         "name": "BGD",
         "orientation": "v",
         "showlegend": true,
         "text": [
          "BGD"
         ],
         "type": "scatter",
         "x": [
          1785.3613167993653
         ],
         "xaxis": "x",
         "y": [
          1.1661697448507367
         ],
         "yaxis": "y"
        },
        {
         "hovertemplate": "country_iso3=%{text}<br>GDP_per_capita_2022=%{x}<br>GDP_per_hour=%{y}<extra></extra>",
         "legendgroup": "BRB",
         "marker": {
          "color": "#FF6692",
          "symbol": "circle"
         },
         "mode": "markers+text",
         "name": "BRB",
         "orientation": "v",
         "showlegend": true,
         "text": [
          "BRB"
         ],
         "type": "scatter",
         "x": [
          16947.382214479792
         ],
         "xaxis": "x",
         "y": [
          10.24671791942301
         ],
         "yaxis": "y"
        },
        {
         "hovertemplate": "country_iso3=%{text}<br>GDP_per_capita_2022=%{x}<br>GDP_per_hour=%{y}<extra></extra>",
         "legendgroup": "BLR",
         "marker": {
          "color": "#B6E880",
          "symbol": "circle"
         },
         "mode": "markers+text",
         "name": "BLR",
         "orientation": "v",
         "showlegend": true,
         "text": [
          "BLR"
         ],
         "type": "scatter",
         "x": [
          6206.648854855598
         ],
         "xaxis": "x",
         "y": [
          3.9302470471441557
         ],
         "yaxis": "y"
        },
        {
         "hovertemplate": "country_iso3=%{text}<br>GDP_per_capita_2022=%{x}<br>GDP_per_hour=%{y}<extra></extra>",
         "legendgroup": "BEL",
         "marker": {
          "color": "#FF97FF",
          "symbol": "circle"
         },
         "mode": "markers+text",
         "name": "BEL",
         "orientation": "v",
         "showlegend": true,
         "text": [
          "BEL"
         ],
         "type": "scatter",
         "x": [
          44198.196000252254
         ],
         "xaxis": "x",
         "y": [
          30.623717486532172
         ],
         "yaxis": "y"
        },
        {
         "hovertemplate": "country_iso3=%{text}<br>GDP_per_capita_2022=%{x}<br>GDP_per_hour=%{y}<extra></extra>",
         "legendgroup": "BLZ",
         "marker": {
          "color": "#FECB52",
          "symbol": "circle"
         },
         "mode": "markers+text",
         "name": "BLZ",
         "orientation": "v",
         "showlegend": true,
         "text": [
          "BLZ"
         ],
         "type": "scatter",
         "x": [
          6191.662837467956
         ],
         "xaxis": "x",
         "y": [
          4.3409866707556874
         ],
         "yaxis": "y"
        },
        {
         "hovertemplate": "country_iso3=%{text}<br>GDP_per_capita_2022=%{x}<br>GDP_per_hour=%{y}<extra></extra>",
         "legendgroup": "BEN",
         "marker": {
          "color": "#636efa",
          "symbol": "circle"
         },
         "mode": "markers+text",
         "name": "BEN",
         "orientation": "v",
         "showlegend": true,
         "text": [
          "BEN"
         ],
         "type": "scatter",
         "x": [
          1255.607292553854
         ],
         "xaxis": "x",
         "y": [
          1.0379787030821541
         ],
         "yaxis": "y"
        },
        {
         "hovertemplate": "country_iso3=%{text}<br>GDP_per_capita_2022=%{x}<br>GDP_per_hour=%{y}<extra></extra>",
         "legendgroup": "BMU",
         "marker": {
          "color": "#EF553B",
          "symbol": "circle"
         },
         "mode": "markers+text",
         "name": "BMU",
         "orientation": "v",
         "showlegend": true,
         "text": [
          "BMU"
         ],
         "type": "scatter",
         "x": [
          112431.38413377851
         ],
         "xaxis": "x",
         "y": [
          68.80932486173266
         ],
         "yaxis": "y"
        },
        {
         "hovertemplate": "country_iso3=%{text}<br>GDP_per_capita_2022=%{x}<br>GDP_per_hour=%{y}<extra></extra>",
         "legendgroup": "BTN",
         "marker": {
          "color": "#00cc96",
          "symbol": "circle"
         },
         "mode": "markers+text",
         "name": "BTN",
         "orientation": "v",
         "showlegend": true,
         "text": [
          "BTN"
         ],
         "type": "scatter",
         "x": [
          3336.376299156791
         ],
         "xaxis": "x",
         "y": [
          1.9270409883408415
         ],
         "yaxis": "y"
        },
        {
         "hovertemplate": "country_iso3=%{text}<br>GDP_per_capita_2022=%{x}<br>GDP_per_hour=%{y}<extra></extra>",
         "legendgroup": "BOL",
         "marker": {
          "color": "#ab63fa",
          "symbol": "circle"
         },
         "mode": "markers+text",
         "name": "BOL",
         "orientation": "v",
         "showlegend": true,
         "text": [
          "BOL"
         ],
         "type": "scatter",
         "x": [
          3134.766321439465
         ],
         "xaxis": "x",
         "y": [
          2.155854045171618
         ],
         "yaxis": "y"
        },
        {
         "hovertemplate": "country_iso3=%{text}<br>GDP_per_capita_2022=%{x}<br>GDP_per_hour=%{y}<extra></extra>",
         "legendgroup": "BIH",
         "marker": {
          "color": "#FFA15A",
          "symbol": "circle"
         },
         "mode": "markers+text",
         "name": "BIH",
         "orientation": "v",
         "showlegend": true,
         "text": [
          "BIH"
         ],
         "type": "scatter",
         "x": [
          6270.858487412056
         ],
         "xaxis": "x",
         "y": [
          3.535814675369093
         ],
         "yaxis": "y"
        },
        {
         "hovertemplate": "country_iso3=%{text}<br>GDP_per_capita_2022=%{x}<br>GDP_per_hour=%{y}<extra></extra>",
         "legendgroup": "BWA",
         "marker": {
          "color": "#19d3f3",
          "symbol": "circle"
         },
         "mode": "markers+text",
         "name": "BWA",
         "orientation": "v",
         "showlegend": true,
         "text": [
          "BWA"
         ],
         "type": "scatter",
         "x": [
          6641.569807405485
         ],
         "xaxis": "x",
         "y": [
          4.56921838358157
         ],
         "yaxis": "y"
        },
        {
         "hovertemplate": "country_iso3=%{text}<br>GDP_per_capita_2022=%{x}<br>GDP_per_hour=%{y}<extra></extra>",
         "legendgroup": "IOT",
         "marker": {
          "color": "#FF6692",
          "symbol": "circle"
         },
         "mode": "markers+text",
         "name": "IOT",
         "orientation": "v",
         "showlegend": true,
         "text": [
          "IOT"
         ],
         "type": "scatter",
         "x": [
          29150
         ],
         "xaxis": "x",
         "y": [
          16.814065309185185
         ],
         "yaxis": "y"
        },
        {
         "hovertemplate": "country_iso3=%{text}<br>GDP_per_capita_2022=%{x}<br>GDP_per_hour=%{y}<extra></extra>",
         "legendgroup": "VGB",
         "marker": {
          "color": "#B6E880",
          "symbol": "circle"
         },
         "mode": "markers+text",
         "name": "VGB",
         "orientation": "v",
         "showlegend": true,
         "text": [
          "VGB"
         ],
         "type": "scatter",
         "x": [
          40561
         ],
         "xaxis": "x",
         "y": [
          27.636597408191463
         ],
         "yaxis": "y"
        },
        {
         "hovertemplate": "country_iso3=%{text}<br>GDP_per_capita_2022=%{x}<br>GDP_per_hour=%{y}<extra></extra>",
         "legendgroup": "BRA",
         "marker": {
          "color": "#FF97FF",
          "symbol": "circle"
         },
         "mode": "markers+text",
         "name": "BRA",
         "orientation": "v",
         "showlegend": true,
         "text": [
          "BRA"
         ],
         "type": "scatter",
         "x": [
          8822.04504268033
         ],
         "xaxis": "x",
         "y": [
          5.440152407664021
         ],
         "yaxis": "y"
        },
        {
         "hovertemplate": "country_iso3=%{text}<br>GDP_per_capita_2022=%{x}<br>GDP_per_hour=%{y}<extra></extra>",
         "legendgroup": "BRN",
         "marker": {
          "color": "#FECB52",
          "symbol": "circle"
         },
         "mode": "markers+text",
         "name": "BRN",
         "orientation": "v",
         "showlegend": true,
         "text": [
          "BRN"
         ],
         "type": "scatter",
         "x": [
          28954.064089609736
         ],
         "xaxis": "x",
         "y": [
          15.080815210768716
         ],
         "yaxis": "y"
        },
        {
         "hovertemplate": "country_iso3=%{text}<br>GDP_per_capita_2022=%{x}<br>GDP_per_hour=%{y}<extra></extra>",
         "legendgroup": "BGR",
         "marker": {
          "color": "#636efa",
          "symbol": "circle"
         },
         "mode": "markers+text",
         "name": "BGR",
         "orientation": "v",
         "showlegend": true,
         "text": [
          "BGR"
         ],
         "type": "scatter",
         "x": [
          9550.942549657073
         ],
         "xaxis": "x",
         "y": [
          5.215708249559793
         ],
         "yaxis": "y"
        },
        {
         "hovertemplate": "country_iso3=%{text}<br>GDP_per_capita_2022=%{x}<br>GDP_per_hour=%{y}<extra></extra>",
         "legendgroup": "BFA",
         "marker": {
          "color": "#EF553B",
          "symbol": "circle"
         },
         "mode": "markers+text",
         "name": "BFA",
         "orientation": "v",
         "showlegend": true,
         "text": [
          "BFA"
         ],
         "type": "scatter",
         "x": [
          735.9981318998349
         ],
         "xaxis": "x",
         "y": [
          0.5744009507272566
         ],
         "yaxis": "y"
        },
        {
         "hovertemplate": "country_iso3=%{text}<br>GDP_per_capita_2022=%{x}<br>GDP_per_hour=%{y}<extra></extra>",
         "legendgroup": "BDI",
         "marker": {
          "color": "#00cc96",
          "symbol": "circle"
         },
         "mode": "markers+text",
         "name": "BDI",
         "orientation": "v",
         "showlegend": true,
         "text": [
          "BDI"
         ],
         "type": "scatter",
         "x": [
          262.18480466159656
         ],
         "xaxis": "x",
         "y": [
          0.22172532484328492
         ],
         "yaxis": "y"
        },
        {
         "hovertemplate": "country_iso3=%{text}<br>GDP_per_capita_2022=%{x}<br>GDP_per_hour=%{y}<extra></extra>",
         "legendgroup": "CPV",
         "marker": {
          "color": "#ab63fa",
          "symbol": "circle"
         },
         "mode": "markers+text",
         "name": "CPV",
         "orientation": "v",
         "showlegend": true,
         "text": [
          "CPV"
         ],
         "type": "scatter",
         "x": [
          3551.248241872344
         ],
         "xaxis": "x",
         "y": [
          2.179733834785688
         ],
         "yaxis": "y"
        },
        {
         "hovertemplate": "country_iso3=%{text}<br>GDP_per_capita_2022=%{x}<br>GDP_per_hour=%{y}<extra></extra>",
         "legendgroup": "KHM",
         "marker": {
          "color": "#FFA15A",
          "symbol": "circle"
         },
         "mode": "markers+text",
         "name": "KHM",
         "orientation": "v",
         "showlegend": true,
         "text": [
          "KHM"
         ],
         "type": "scatter",
         "x": [
          1488.814550841051
         ],
         "xaxis": "x",
         "y": [
          0.8189898093844391
         ],
         "yaxis": "y"
        },
        {
         "hovertemplate": "country_iso3=%{text}<br>GDP_per_capita_2022=%{x}<br>GDP_per_hour=%{y}<extra></extra>",
         "legendgroup": "CMR",
         "marker": {
          "color": "#19d3f3",
          "symbol": "circle"
         },
         "mode": "markers+text",
         "name": "CMR",
         "orientation": "v",
         "showlegend": true,
         "text": [
          "CMR"
         ],
         "type": "scatter",
         "x": [
          1441.7949049762237
         ],
         "xaxis": "x",
         "y": [
          0.9217057819813915
         ],
         "yaxis": "y"
        },
        {
         "hovertemplate": "country_iso3=%{text}<br>GDP_per_capita_2022=%{x}<br>GDP_per_hour=%{y}<extra></extra>",
         "legendgroup": "CAN",
         "marker": {
          "color": "#FF6692",
          "symbol": "circle"
         },
         "mode": "markers+text",
         "name": "CAN",
         "orientation": "v",
         "showlegend": true,
         "text": [
          "CAN"
         ],
         "type": "scatter",
         "x": [
          45227.14473542037
         ],
         "xaxis": "x",
         "y": [
          30.119628239671485
         ],
         "yaxis": "y"
        },
        {
         "hovertemplate": "country_iso3=%{text}<br>GDP_per_capita_2022=%{x}<br>GDP_per_hour=%{y}<extra></extra>",
         "legendgroup": "CYM",
         "marker": {
          "color": "#B6E880",
          "symbol": "circle"
         },
         "mode": "markers+text",
         "name": "CYM",
         "orientation": "v",
         "showlegend": true,
         "text": [
          "CYM"
         ],
         "type": "scatter",
         "x": [
          82929.30379942266
         ],
         "xaxis": "x",
         "y": [
          57.3132572351158
         ],
         "yaxis": "y"
        },
        {
         "hovertemplate": "country_iso3=%{text}<br>GDP_per_capita_2022=%{x}<br>GDP_per_hour=%{y}<extra></extra>",
         "legendgroup": "CAF",
         "marker": {
          "color": "#FF97FF",
          "symbol": "circle"
         },
         "mode": "markers+text",
         "name": "CAF",
         "orientation": "v",
         "showlegend": true,
         "text": [
          "CAF"
         ],
         "type": "scatter",
         "x": [
          364.6907533807286
         ],
         "xaxis": "x",
         "y": [
          0.6987768060286261
         ],
         "yaxis": "y"
        },
        {
         "hovertemplate": "country_iso3=%{text}<br>GDP_per_capita_2022=%{x}<br>GDP_per_hour=%{y}<extra></extra>",
         "legendgroup": "TCD",
         "marker": {
          "color": "#FECB52",
          "symbol": "circle"
         },
         "mode": "markers+text",
         "name": "TCD",
         "orientation": "v",
         "showlegend": true,
         "text": [
          "TCD"
         ],
         "type": "scatter",
         "x": [
          593.7719296389289
         ],
         "xaxis": "x",
         "y": [
          0.5755209139886319
         ],
         "yaxis": "y"
        },
        {
         "hovertemplate": "country_iso3=%{text}<br>GDP_per_capita_2022=%{x}<br>GDP_per_hour=%{y}<extra></extra>",
         "legendgroup": "CHL",
         "marker": {
          "color": "#636efa",
          "symbol": "circle"
         },
         "mode": "markers+text",
         "name": "CHL",
         "orientation": "v",
         "showlegend": true,
         "text": [
          "CHL"
         ],
         "type": "scatter",
         "x": [
          14235.361627472283
         ],
         "xaxis": "x",
         "y": [
          8.027134004126246
         ],
         "yaxis": "y"
        },
        {
         "hovertemplate": "country_iso3=%{text}<br>GDP_per_capita_2022=%{x}<br>GDP_per_hour=%{y}<extra></extra>",
         "legendgroup": "CHN",
         "marker": {
          "color": "#EF553B",
          "symbol": "circle"
         },
         "mode": "markers+text",
         "name": "CHN",
         "orientation": "v",
         "showlegend": true,
         "text": [
          "CHN"
         ],
         "type": "scatter",
         "x": [
          11560.242122133448
         ],
         "xaxis": "x",
         "y": [
          6.96804039208624
         ],
         "yaxis": "y"
        },
        {
         "hovertemplate": "country_iso3=%{text}<br>GDP_per_capita_2022=%{x}<br>GDP_per_hour=%{y}<extra></extra>",
         "legendgroup": "HKG",
         "marker": {
          "color": "#00cc96",
          "symbol": "circle"
         },
         "mode": "markers+text",
         "name": "HKG",
         "orientation": "v",
         "showlegend": true,
         "text": [
          "HKG"
         ],
         "type": "scatter",
         "x": [
          43283.01590196741
         ],
         "xaxis": "x",
         "y": [
          29.282561818922314
         ],
         "yaxis": "y"
        },
        {
         "hovertemplate": "country_iso3=%{text}<br>GDP_per_capita_2022=%{x}<br>GDP_per_hour=%{y}<extra></extra>",
         "legendgroup": "MAC",
         "marker": {
          "color": "#ab63fa",
          "symbol": "circle"
         },
         "mode": "markers+text",
         "name": "MAC",
         "orientation": "v",
         "showlegend": true,
         "text": [
          "MAC"
         ],
         "type": "scatter",
         "x": [
          32503.60383023822
         ],
         "xaxis": "x",
         "y": [
          21.05553163772245
         ],
         "yaxis": "y"
        },
        {
         "hovertemplate": "country_iso3=%{text}<br>GDP_per_capita_2022=%{x}<br>GDP_per_hour=%{y}<extra></extra>",
         "legendgroup": "CXR",
         "marker": {
          "color": "#FFA15A",
          "symbol": "circle"
         },
         "mode": "markers+text",
         "name": "CXR",
         "orientation": "v",
         "showlegend": true,
         "text": [
          "CXR"
         ],
         "type": "scatter",
         "x": [
          24000
         ],
         "xaxis": "x",
         "y": [
          14.932801237865696
         ],
         "yaxis": "y"
        },
        {
         "hovertemplate": "country_iso3=%{text}<br>GDP_per_capita_2022=%{x}<br>GDP_per_hour=%{y}<extra></extra>",
         "legendgroup": "CCK",
         "marker": {
          "color": "#19d3f3",
          "symbol": "circle"
         },
         "mode": "markers+text",
         "name": "CCK",
         "orientation": "v",
         "showlegend": true,
         "text": [
          "CCK"
         ],
         "type": "scatter",
         "x": [
          42365
         ],
         "xaxis": "x",
         "y": [
          29.126542811351243
         ],
         "yaxis": "y"
        },
        {
         "hovertemplate": "country_iso3=%{text}<br>GDP_per_capita_2022=%{x}<br>GDP_per_hour=%{y}<extra></extra>",
         "legendgroup": "COL",
         "marker": {
          "color": "#FF6692",
          "symbol": "circle"
         },
         "mode": "markers+text",
         "name": "COL",
         "orientation": "v",
         "showlegend": true,
         "text": [
          "COL"
         ],
         "type": "scatter",
         "x": [
          6836.228737424737
         ],
         "xaxis": "x",
         "y": [
          3.70912402506199
         ],
         "yaxis": "y"
        },
        {
         "hovertemplate": "country_iso3=%{text}<br>GDP_per_capita_2022=%{x}<br>GDP_per_hour=%{y}<extra></extra>",
         "legendgroup": "COM",
         "marker": {
          "color": "#B6E880",
          "symbol": "circle"
         },
         "mode": "markers+text",
         "name": "COM",
         "orientation": "v",
         "showlegend": true,
         "text": [
          "COM"
         ],
         "type": "scatter",
         "x": [
          1362.7780221205928
         ],
         "xaxis": "x",
         "y": [
          1.1969276740094088
         ],
         "yaxis": "y"
        },
        {
         "hovertemplate": "country_iso3=%{text}<br>GDP_per_capita_2022=%{x}<br>GDP_per_hour=%{y}<extra></extra>",
         "legendgroup": "COG",
         "marker": {
          "color": "#FF97FF",
          "symbol": "circle"
         },
         "mode": "markers+text",
         "name": "COG",
         "orientation": "v",
         "showlegend": true,
         "text": [
          "COG"
         ],
         "type": "scatter",
         "x": [
          1704.2674841959854
         ],
         "xaxis": "x",
         "y": [
          1.3616033588760403
         ],
         "yaxis": "y"
        },
        {
         "hovertemplate": "country_iso3=%{text}<br>GDP_per_capita_2022=%{x}<br>GDP_per_hour=%{y}<extra></extra>",
         "legendgroup": "COK",
         "marker": {
          "color": "#FECB52",
          "symbol": "circle"
         },
         "mode": "markers+text",
         "name": "COK",
         "orientation": "v",
         "showlegend": true,
         "text": [
          "COK"
         ],
         "type": "scatter",
         "x": [
          17033
         ],
         "xaxis": "x",
         "y": [
          13.753189919947872
         ],
         "yaxis": "y"
        },
        {
         "hovertemplate": "country_iso3=%{text}<br>GDP_per_capita_2022=%{x}<br>GDP_per_hour=%{y}<extra></extra>",
         "legendgroup": "CRI",
         "marker": {
          "color": "#636efa",
          "symbol": "circle"
         },
         "mode": "markers+text",
         "name": "CRI",
         "orientation": "v",
         "showlegend": true,
         "text": [
          "CRI"
         ],
         "type": "scatter",
         "x": [
          13424.464701378021
         ],
         "xaxis": "x",
         "y": [
          7.3269028153122395
         ],
         "yaxis": "y"
        },
        {
         "hovertemplate": "country_iso3=%{text}<br>GDP_per_capita_2022=%{x}<br>GDP_per_hour=%{y}<extra></extra>",
         "legendgroup": "HRV",
         "marker": {
          "color": "#EF553B",
          "symbol": "circle"
         },
         "mode": "markers+text",
         "name": "HRV",
         "orientation": "v",
         "showlegend": true,
         "text": [
          "HRV"
         ],
         "type": "scatter",
         "x": [
          16712.036051969386
         ],
         "xaxis": "x",
         "y": [
          9.218023151990806
         ],
         "yaxis": "y"
        },
        {
         "hovertemplate": "country_iso3=%{text}<br>GDP_per_capita_2022=%{x}<br>GDP_per_hour=%{y}<extra></extra>",
         "legendgroup": "CUB",
         "marker": {
          "color": "#00cc96",
          "symbol": "circle"
         },
         "mode": "markers+text",
         "name": "CUB",
         "orientation": "v",
         "showlegend": true,
         "text": [
          "CUB"
         ],
         "type": "scatter",
         "x": [
          7449.68287994077
         ],
         "xaxis": "x",
         "y": [
          4.955392588452886
         ],
         "yaxis": "y"
        },
        {
         "hovertemplate": "country_iso3=%{text}<br>GDP_per_capita_2022=%{x}<br>GDP_per_hour=%{y}<extra></extra>",
         "legendgroup": "CUW",
         "marker": {
          "color": "#ab63fa",
          "symbol": "circle"
         },
         "mode": "markers+text",
         "name": "CUW",
         "orientation": "v",
         "showlegend": true,
         "text": [
          "CUW"
         ],
         "type": "scatter",
         "x": [
          17391.615778058498
         ],
         "xaxis": "x",
         "y": [
          10.654666399507843
         ],
         "yaxis": "y"
        },
        {
         "hovertemplate": "country_iso3=%{text}<br>GDP_per_capita_2022=%{x}<br>GDP_per_hour=%{y}<extra></extra>",
         "legendgroup": "CYP",
         "marker": {
          "color": "#FFA15A",
          "symbol": "circle"
         },
         "mode": "markers+text",
         "name": "CYP",
         "orientation": "v",
         "showlegend": true,
         "text": [
          "CYP"
         ],
         "type": "scatter",
         "x": [
          30556.71875
         ],
         "xaxis": "x",
         "y": [
          18.911844954049215
         ],
         "yaxis": "y"
        },
        {
         "hovertemplate": "country_iso3=%{text}<br>GDP_per_capita_2022=%{x}<br>GDP_per_hour=%{y}<extra></extra>",
         "legendgroup": "CZE",
         "marker": {
          "color": "#19d3f3",
          "symbol": "circle"
         },
         "mode": "markers+text",
         "name": "CZE",
         "orientation": "v",
         "showlegend": true,
         "text": [
          "CZE"
         ],
         "type": "scatter",
         "x": [
          20237.29455270729
         ],
         "xaxis": "x",
         "y": [
          12.685767441904469
         ],
         "yaxis": "y"
        },
        {
         "hovertemplate": "country_iso3=%{text}<br>GDP_per_capita_2022=%{x}<br>GDP_per_hour=%{y}<extra></extra>",
         "legendgroup": "CIV",
         "marker": {
          "color": "#FF6692",
          "symbol": "circle"
         },
         "mode": "markers+text",
         "name": "CIV",
         "orientation": "v",
         "showlegend": true,
         "text": [
          "CIV"
         ],
         "type": "scatter",
         "x": [
          2399.69993821474
         ],
         "xaxis": "x",
         "y": [
          1.6565270339362628
         ],
         "yaxis": "y"
        },
        {
         "hovertemplate": "country_iso3=%{text}<br>GDP_per_capita_2022=%{x}<br>GDP_per_hour=%{y}<extra></extra>",
         "legendgroup": "PRK",
         "marker": {
          "color": "#B6E880",
          "symbol": "circle"
         },
         "mode": "markers+text",
         "name": "PRK",
         "orientation": "v",
         "showlegend": true,
         "text": [
          "PRK"
         ],
         "type": "scatter",
         "x": [
          695.9
         ],
         "xaxis": "x",
         "y": [
          0.5455229169529248
         ],
         "yaxis": "y"
        },
        {
         "hovertemplate": "country_iso3=%{text}<br>GDP_per_capita_2022=%{x}<br>GDP_per_hour=%{y}<extra></extra>",
         "legendgroup": "COD",
         "marker": {
          "color": "#FF97FF",
          "symbol": "circle"
         },
         "mode": "markers+text",
         "name": "COD",
         "orientation": "v",
         "showlegend": true,
         "text": [
          "COD"
         ],
         "type": "scatter",
         "x": [
          528.7888345048975
         ],
         "xaxis": "x",
         "y": [
          0.8106838926643274
         ],
         "yaxis": "y"
        },
        {
         "hovertemplate": "country_iso3=%{text}<br>GDP_per_capita_2022=%{x}<br>GDP_per_hour=%{y}<extra></extra>",
         "legendgroup": "DNK",
         "marker": {
          "color": "#FECB52",
          "symbol": "circle"
         },
         "mode": "markers+text",
         "name": "DNK",
         "orientation": "v",
         "showlegend": true,
         "text": [
          "DNK"
         ],
         "type": "scatter",
         "x": [
          60345.55731768028
         ],
         "xaxis": "x",
         "y": [
          42.459797783872126
         ],
         "yaxis": "y"
        },
        {
         "hovertemplate": "country_iso3=%{text}<br>GDP_per_capita_2022=%{x}<br>GDP_per_hour=%{y}<extra></extra>",
         "legendgroup": "DJI",
         "marker": {
          "color": "#636efa",
          "symbol": "circle"
         },
         "mode": "markers+text",
         "name": "DJI",
         "orientation": "v",
         "showlegend": true,
         "text": [
          "DJI"
         ],
         "type": "scatter",
         "x": [
          2968.251545839782
         ],
         "xaxis": "x",
         "y": [
          2.2535099192229007
         ],
         "yaxis": "y"
        },
        {
         "hovertemplate": "country_iso3=%{text}<br>GDP_per_capita_2022=%{x}<br>GDP_per_hour=%{y}<extra></extra>",
         "legendgroup": "DMA",
         "marker": {
          "color": "#EF553B",
          "symbol": "circle"
         },
         "mode": "markers+text",
         "name": "DMA",
         "orientation": "v",
         "showlegend": true,
         "text": [
          "DMA"
         ],
         "type": "scatter",
         "x": [
          7335.194757524879
         ],
         "xaxis": "x",
         "y": [
          4.313549453468266
         ],
         "yaxis": "y"
        },
        {
         "hovertemplate": "country_iso3=%{text}<br>GDP_per_capita_2022=%{x}<br>GDP_per_hour=%{y}<extra></extra>",
         "legendgroup": "DOM",
         "marker": {
          "color": "#00cc96",
          "symbol": "circle"
         },
         "mode": "markers+text",
         "name": "DOM",
         "orientation": "v",
         "showlegend": true,
         "text": [
          "DOM"
         ],
         "type": "scatter",
         "x": [
          8732.080738847822
         ],
         "xaxis": "x",
         "y": [
          5.648801965228283
         ],
         "yaxis": "y"
        },
        {
         "hovertemplate": "country_iso3=%{text}<br>GDP_per_capita_2022=%{x}<br>GDP_per_hour=%{y}<extra></extra>",
         "legendgroup": "ECU",
         "marker": {
          "color": "#ab63fa",
          "symbol": "circle"
         },
         "mode": "markers+text",
         "name": "ECU",
         "orientation": "v",
         "showlegend": true,
         "text": [
          "ECU"
         ],
         "type": "scatter",
         "x": [
          6087.535279160459
         ],
         "xaxis": "x",
         "y": [
          3.473535346033419
         ],
         "yaxis": "y"
        },
        {
         "hovertemplate": "country_iso3=%{text}<br>GDP_per_capita_2022=%{x}<br>GDP_per_hour=%{y}<extra></extra>",
         "legendgroup": "EGY",
         "marker": {
          "color": "#FFA15A",
          "symbol": "circle"
         },
         "mode": "markers+text",
         "name": "EGY",
         "orientation": "v",
         "showlegend": true,
         "text": [
          "EGY"
         ],
         "type": "scatter",
         "x": [
          4088.897045395653
         ],
         "xaxis": "x",
         "y": [
          2.738253242848758
         ],
         "yaxis": "y"
        },
        {
         "hovertemplate": "country_iso3=%{text}<br>GDP_per_capita_2022=%{x}<br>GDP_per_hour=%{y}<extra></extra>",
         "legendgroup": "SLV",
         "marker": {
          "color": "#19d3f3",
          "symbol": "circle"
         },
         "mode": "markers+text",
         "name": "SLV",
         "orientation": "v",
         "showlegend": true,
         "text": [
          "SLV"
         ],
         "type": "scatter",
         "x": [
          4310.910798631582
         ],
         "xaxis": "x",
         "y": [
          2.3815959240735975
         ],
         "yaxis": "y"
        },
        {
         "hovertemplate": "country_iso3=%{text}<br>GDP_per_capita_2022=%{x}<br>GDP_per_hour=%{y}<extra></extra>",
         "legendgroup": "GNQ",
         "marker": {
          "color": "#FF6692",
          "symbol": "circle"
         },
         "mode": "markers+text",
         "name": "GNQ",
         "orientation": "v",
         "showlegend": true,
         "text": [
          "GNQ"
         ],
         "type": "scatter",
         "x": [
          5976.900107500371
         ],
         "xaxis": "x",
         "y": [
          3.538725345629416
         ],
         "yaxis": "y"
        },
        {
         "hovertemplate": "country_iso3=%{text}<br>GDP_per_capita_2022=%{x}<br>GDP_per_hour=%{y}<extra></extra>",
         "legendgroup": "ERI",
         "marker": {
          "color": "#B6E880",
          "symbol": "circle"
         },
         "mode": "markers+text",
         "name": "ERI",
         "orientation": "v",
         "showlegend": true,
         "text": [
          "ERI"
         ],
         "type": "scatter",
         "x": [
          739.7
         ],
         "xaxis": "x",
         "y": [
          0.5981419678971159
         ],
         "yaxis": "y"
        },
        {
         "hovertemplate": "country_iso3=%{text}<br>GDP_per_capita_2022=%{x}<br>GDP_per_hour=%{y}<extra></extra>",
         "legendgroup": "EST",
         "marker": {
          "color": "#FF97FF",
          "symbol": "circle"
         },
         "mode": "markers+text",
         "name": "EST",
         "orientation": "v",
         "showlegend": true,
         "text": [
          "EST"
         ],
         "type": "scatter",
         "x": [
          21140.997219942514
         ],
         "xaxis": "x",
         "y": [
          13.731168279990085
         ],
         "yaxis": "y"
        },
        {
         "hovertemplate": "country_iso3=%{text}<br>GDP_per_capita_2022=%{x}<br>GDP_per_hour=%{y}<extra></extra>",
         "legendgroup": "SWZ",
         "marker": {
          "color": "#FECB52",
          "symbol": "circle"
         },
         "mode": "markers+text",
         "name": "SWZ",
         "orientation": "v",
         "showlegend": true,
         "text": [
          "SWZ"
         ],
         "type": "scatter",
         "x": [
          4012.940449617434
         ],
         "xaxis": "x",
         "y": [
          2.5293146277417917
         ],
         "yaxis": "y"
        },
        {
         "hovertemplate": "country_iso3=%{text}<br>GDP_per_capita_2022=%{x}<br>GDP_per_hour=%{y}<extra></extra>",
         "legendgroup": "ETH",
         "marker": {
          "color": "#636efa",
          "symbol": "circle"
         },
         "mode": "markers+text",
         "name": "ETH",
         "orientation": "v",
         "showlegend": true,
         "text": [
          "ETH"
         ],
         "type": "scatter",
         "x": [
          857.3487001628502
         ],
         "xaxis": "x",
         "y": [
          0.790303726233769
         ],
         "yaxis": "y"
        },
        {
         "hovertemplate": "country_iso3=%{text}<br>GDP_per_capita_2022=%{x}<br>GDP_per_hour=%{y}<extra></extra>",
         "legendgroup": "FSM",
         "marker": {
          "color": "#EF553B",
          "symbol": "circle"
         },
         "mode": "markers+text",
         "name": "FSM",
         "orientation": "v",
         "showlegend": true,
         "text": [
          "FSM"
         ],
         "type": "scatter",
         "x": [
          2923.222951882218
         ],
         "xaxis": "x",
         "y": [
          2.282222150812581
         ],
         "yaxis": "y"
        },
        {
         "hovertemplate": "country_iso3=%{text}<br>GDP_per_capita_2022=%{x}<br>GDP_per_hour=%{y}<extra></extra>",
         "legendgroup": "FLK",
         "marker": {
          "color": "#00cc96",
          "symbol": "circle"
         },
         "mode": "markers+text",
         "name": "FLK",
         "orientation": "v",
         "showlegend": true,
         "text": [
          "FLK"
         ],
         "type": "scatter",
         "x": [
          69000
         ],
         "xaxis": "x",
         "y": [
          45.26124721704156
         ],
         "yaxis": "y"
        },
        {
         "hovertemplate": "country_iso3=%{text}<br>GDP_per_capita_2022=%{x}<br>GDP_per_hour=%{y}<extra></extra>",
         "legendgroup": "FJI",
         "marker": {
          "color": "#ab63fa",
          "symbol": "circle"
         },
         "mode": "markers+text",
         "name": "FJI",
         "orientation": "v",
         "showlegend": true,
         "text": [
          "FJI"
         ],
         "type": "scatter",
         "x": [
          5313.028438155376
         ],
         "xaxis": "x",
         "y": [
          3.064726544387388
         ],
         "yaxis": "y"
        },
        {
         "hovertemplate": "country_iso3=%{text}<br>GDP_per_capita_2022=%{x}<br>GDP_per_hour=%{y}<extra></extra>",
         "legendgroup": "FIN",
         "marker": {
          "color": "#FFA15A",
          "symbol": "circle"
         },
         "mode": "markers+text",
         "name": "FIN",
         "orientation": "v",
         "showlegend": true,
         "text": [
          "FIN"
         ],
         "type": "scatter",
         "x": [
          46655.165362426815
         ],
         "xaxis": "x",
         "y": [
          32.31410221713883
         ],
         "yaxis": "y"
        },
        {
         "hovertemplate": "country_iso3=%{text}<br>GDP_per_capita_2022=%{x}<br>GDP_per_hour=%{y}<extra></extra>",
         "legendgroup": "ATF",
         "marker": {
          "color": "#19d3f3",
          "symbol": "circle"
         },
         "mode": "markers+text",
         "name": "ATF",
         "orientation": "v",
         "showlegend": true,
         "text": [
          "ATF"
         ],
         "type": "scatter",
         "x": [
          31500
         ],
         "xaxis": "x",
         "y": [
          20.39176131435318
         ],
         "yaxis": "y"
        },
        {
         "hovertemplate": "country_iso3=%{text}<br>GDP_per_capita_2022=%{x}<br>GDP_per_hour=%{y}<extra></extra>",
         "legendgroup": "FRA",
         "marker": {
          "color": "#FF6692",
          "symbol": "circle"
         },
         "mode": "markers+text",
         "name": "FRA",
         "orientation": "v",
         "showlegend": true,
         "text": [
          "FRA"
         ],
         "type": "scatter",
         "x": [
          38816.47927956431
         ],
         "xaxis": "x",
         "y": [
          26.685245763122595
         ],
         "yaxis": "y"
        },
        {
         "hovertemplate": "country_iso3=%{text}<br>GDP_per_capita_2022=%{x}<br>GDP_per_hour=%{y}<extra></extra>",
         "legendgroup": "PYF",
         "marker": {
          "color": "#B6E880",
          "symbol": "circle"
         },
         "mode": "markers+text",
         "name": "PYF",
         "orientation": "v",
         "showlegend": true,
         "text": [
          "PYF"
         ],
         "type": "scatter",
         "x": [
          19262.613199834108
         ],
         "xaxis": "x",
         "y": [
          11.688175948810539
         ],
         "yaxis": "y"
        },
        {
         "hovertemplate": "country_iso3=%{text}<br>GDP_per_capita_2022=%{x}<br>GDP_per_hour=%{y}<extra></extra>",
         "legendgroup": "GAB",
         "marker": {
          "color": "#FF97FF",
          "symbol": "circle"
         },
         "mode": "markers+text",
         "name": "GAB",
         "orientation": "v",
         "showlegend": true,
         "text": [
          "GAB"
         ],
         "type": "scatter",
         "x": [
          6637.06610644966
         ],
         "xaxis": "x",
         "y": [
          4.2391983683978065
         ],
         "yaxis": "y"
        },
        {
         "hovertemplate": "country_iso3=%{text}<br>GDP_per_capita_2022=%{x}<br>GDP_per_hour=%{y}<extra></extra>",
         "legendgroup": "GMB",
         "marker": {
          "color": "#FECB52",
          "symbol": "circle"
         },
         "mode": "markers+text",
         "name": "GMB",
         "orientation": "v",
         "showlegend": true,
         "text": [
          "GMB"
         ],
         "type": "scatter",
         "x": [
          688.6527914016898
         ],
         "xaxis": "x",
         "y": [
          0.5352176080482934
         ],
         "yaxis": "y"
        },
        {
         "hovertemplate": "country_iso3=%{text}<br>GDP_per_capita_2022=%{x}<br>GDP_per_hour=%{y}<extra></extra>",
         "legendgroup": "GEO",
         "marker": {
          "color": "#636efa",
          "symbol": "circle"
         },
         "mode": "markers+text",
         "name": "GEO",
         "orientation": "v",
         "showlegend": true,
         "text": [
          "GEO"
         ],
         "type": "scatter",
         "x": [
          5736.304495785975
         ],
         "xaxis": "x",
         "y": [
          2.982392036386623
         ],
         "yaxis": "y"
        },
        {
         "hovertemplate": "country_iso3=%{text}<br>GDP_per_capita_2022=%{x}<br>GDP_per_hour=%{y}<extra></extra>",
         "legendgroup": "DEU",
         "marker": {
          "color": "#EF553B",
          "symbol": "circle"
         },
         "mode": "markers+text",
         "name": "DEU",
         "orientation": "v",
         "showlegend": true,
         "text": [
          "DEU"
         ],
         "type": "scatter",
         "x": [
          43361.177120432076
         ],
         "xaxis": "x",
         "y": [
          29.06754070797775
         ],
         "yaxis": "y"
        },
        {
         "hovertemplate": "country_iso3=%{text}<br>GDP_per_capita_2022=%{x}<br>GDP_per_hour=%{y}<extra></extra>",
         "legendgroup": "GHA",
         "marker": {
          "color": "#00cc96",
          "symbol": "circle"
         },
         "mode": "markers+text",
         "name": "GHA",
         "orientation": "v",
         "showlegend": true,
         "text": [
          "GHA"
         ],
         "type": "scatter",
         "x": [
          2046.007618665747
         ],
         "xaxis": "x",
         "y": [
          1.7271226532368888
         ],
         "yaxis": "y"
        },
        {
         "hovertemplate": "country_iso3=%{text}<br>GDP_per_capita_2022=%{x}<br>GDP_per_hour=%{y}<extra></extra>",
         "legendgroup": "GIB",
         "marker": {
          "color": "#ab63fa",
          "symbol": "circle"
         },
         "mode": "markers+text",
         "name": "GIB",
         "orientation": "v",
         "showlegend": true,
         "text": [
          "GIB"
         ],
         "type": "scatter",
         "x": [
          90000
         ],
         "xaxis": "x",
         "y": [
          64.19946972739608
         ],
         "yaxis": "y"
        },
        {
         "hovertemplate": "country_iso3=%{text}<br>GDP_per_capita_2022=%{x}<br>GDP_per_hour=%{y}<extra></extra>",
         "legendgroup": "GRC",
         "marker": {
          "color": "#FFA15A",
          "symbol": "circle"
         },
         "mode": "markers+text",
         "name": "GRC",
         "orientation": "v",
         "showlegend": true,
         "text": [
          "GRC"
         ],
         "type": "scatter",
         "x": [
          20287.725303076728
         ],
         "xaxis": "x",
         "y": [
          11.946802042230994
         ],
         "yaxis": "y"
        },
        {
         "hovertemplate": "country_iso3=%{text}<br>GDP_per_capita_2022=%{x}<br>GDP_per_hour=%{y}<extra></extra>",
         "legendgroup": "GRL",
         "marker": {
          "color": "#19d3f3",
          "symbol": "circle"
         },
         "mode": "markers+text",
         "name": "GRL",
         "orientation": "v",
         "showlegend": true,
         "text": [
          "GRL"
         ],
         "type": "scatter",
         "x": [
          48514
         ],
         "xaxis": "x",
         "y": [
          32.25865115754499
         ],
         "yaxis": "y"
        },
        {
         "hovertemplate": "country_iso3=%{text}<br>GDP_per_capita_2022=%{x}<br>GDP_per_hour=%{y}<extra></extra>",
         "legendgroup": "GRD",
         "marker": {
          "color": "#FF6692",
          "symbol": "circle"
         },
         "mode": "markers+text",
         "name": "GRD",
         "orientation": "v",
         "showlegend": true,
         "text": [
          "GRD"
         ],
         "type": "scatter",
         "x": [
          8766.930963653951
         ],
         "xaxis": "x",
         "y": [
          7.0137497162268945
         ],
         "yaxis": "y"
        },
        {
         "hovertemplate": "country_iso3=%{text}<br>GDP_per_capita_2022=%{x}<br>GDP_per_hour=%{y}<extra></extra>",
         "legendgroup": "GTM",
         "marker": {
          "color": "#B6E880",
          "symbol": "circle"
         },
         "mode": "markers+text",
         "name": "GTM",
         "orientation": "v",
         "showlegend": true,
         "text": [
          "GTM"
         ],
         "type": "scatter",
         "x": [
          4504.129222839149
         ],
         "xaxis": "x",
         "y": [
          2.551231408677151
         ],
         "yaxis": "y"
        },
        {
         "hovertemplate": "country_iso3=%{text}<br>GDP_per_capita_2022=%{x}<br>GDP_per_hour=%{y}<extra></extra>",
         "legendgroup": "GIN",
         "marker": {
          "color": "#FF97FF",
          "symbol": "circle"
         },
         "mode": "markers+text",
         "name": "GIN",
         "orientation": "v",
         "showlegend": true,
         "text": [
          "GIN"
         ],
         "type": "scatter",
         "x": [
          994.4369971856423
         ],
         "xaxis": "x",
         "y": [
          0.8555820321327394
         ],
         "yaxis": "y"
        },
        {
         "hovertemplate": "country_iso3=%{text}<br>GDP_per_capita_2022=%{x}<br>GDP_per_hour=%{y}<extra></extra>",
         "legendgroup": "GNB",
         "marker": {
          "color": "#FECB52",
          "symbol": "circle"
         },
         "mode": "markers+text",
         "name": "GNB",
         "orientation": "v",
         "showlegend": true,
         "text": [
          "GNB"
         ],
         "type": "scatter",
         "x": [
          736.9322106384847
         ],
         "xaxis": "x",
         "y": [
          0.5799272640692578
         ],
         "yaxis": "y"
        },
        {
         "hovertemplate": "country_iso3=%{text}<br>GDP_per_capita_2022=%{x}<br>GDP_per_hour=%{y}<extra></extra>",
         "legendgroup": "GUY",
         "marker": {
          "color": "#636efa",
          "symbol": "circle"
         },
         "mode": "markers+text",
         "name": "GUY",
         "orientation": "v",
         "showlegend": true,
         "text": [
          "GUY"
         ],
         "type": "scatter",
         "x": [
          17646.215923406824
         ],
         "xaxis": "x",
         "y": [
          10.929605705318243
         ],
         "yaxis": "y"
        },
        {
         "hovertemplate": "country_iso3=%{text}<br>GDP_per_capita_2022=%{x}<br>GDP_per_hour=%{y}<extra></extra>",
         "legendgroup": "HTI",
         "marker": {
          "color": "#EF553B",
          "symbol": "circle"
         },
         "mode": "markers+text",
         "name": "HTI",
         "orientation": "v",
         "showlegend": true,
         "text": [
          "HTI"
         ],
         "type": "scatter",
         "x": [
          1247.8923817176496
         ],
         "xaxis": "x",
         "y": [
          0.7088259118813566
         ],
         "yaxis": "y"
        },
        {
         "hovertemplate": "country_iso3=%{text}<br>GDP_per_capita_2022=%{x}<br>GDP_per_hour=%{y}<extra></extra>",
         "legendgroup": "HND",
         "marker": {
          "color": "#00cc96",
          "symbol": "circle"
         },
         "mode": "markers+text",
         "name": "HND",
         "orientation": "v",
         "showlegend": true,
         "text": [
          "HND"
         ],
         "type": "scatter",
         "x": [
          2489.6023364424095
         ],
         "xaxis": "x",
         "y": [
          1.6361679980689565
         ],
         "yaxis": "y"
        },
        {
         "hovertemplate": "country_iso3=%{text}<br>GDP_per_capita_2022=%{x}<br>GDP_per_hour=%{y}<extra></extra>",
         "legendgroup": "HUN",
         "marker": {
          "color": "#ab63fa",
          "symbol": "circle"
         },
         "mode": "markers+text",
         "name": "HUN",
         "orientation": "v",
         "showlegend": true,
         "text": [
          "HUN"
         ],
         "type": "scatter",
         "x": [
          16345.311087043163
         ],
         "xaxis": "x",
         "y": [
          9.803211409310686
         ],
         "yaxis": "y"
        },
        {
         "hovertemplate": "country_iso3=%{text}<br>GDP_per_capita_2022=%{x}<br>GDP_per_hour=%{y}<extra></extra>",
         "legendgroup": "ISL",
         "marker": {
          "color": "#FFA15A",
          "symbol": "circle"
         },
         "mode": "markers+text",
         "name": "ISL",
         "orientation": "v",
         "showlegend": true,
         "text": [
          "ISL"
         ],
         "type": "scatter",
         "x": [
          57816.36165760042
         ],
         "xaxis": "x",
         "y": [
          40.838255734396505
         ],
         "yaxis": "y"
        },
        {
         "hovertemplate": "country_iso3=%{text}<br>GDP_per_capita_2022=%{x}<br>GDP_per_hour=%{y}<extra></extra>",
         "legendgroup": "IND",
         "marker": {
          "color": "#19d3f3",
          "symbol": "circle"
         },
         "mode": "markers+text",
         "name": "IND",
         "orientation": "v",
         "showlegend": true,
         "text": [
          "IND"
         ],
         "type": "scatter",
         "x": [
          2098.220931246275
         ],
         "xaxis": "x",
         "y": [
          1.1571935899002148
         ],
         "yaxis": "y"
        },
        {
         "hovertemplate": "country_iso3=%{text}<br>GDP_per_capita_2022=%{x}<br>GDP_per_hour=%{y}<extra></extra>",
         "legendgroup": "IDN",
         "marker": {
          "color": "#FF6692",
          "symbol": "circle"
         },
         "mode": "markers+text",
         "name": "IDN",
         "orientation": "v",
         "showlegend": true,
         "text": [
          "IDN"
         ],
         "type": "scatter",
         "x": [
          4073.5583496207314
         ],
         "xaxis": "x",
         "y": [
          2.4867296498852376
         ],
         "yaxis": "y"
        },
        {
         "hovertemplate": "country_iso3=%{text}<br>GDP_per_capita_2022=%{x}<br>GDP_per_hour=%{y}<extra></extra>",
         "legendgroup": "IRN",
         "marker": {
          "color": "#B6E880",
          "symbol": "circle"
         },
         "mode": "markers+text",
         "name": "IRN",
         "orientation": "v",
         "showlegend": true,
         "text": [
          "IRN"
         ],
         "type": "scatter",
         "x": [
          5507.533395007688
         ],
         "xaxis": "x",
         "y": [
          3.030315722380108
         ],
         "yaxis": "y"
        },
        {
         "hovertemplate": "country_iso3=%{text}<br>GDP_per_capita_2022=%{x}<br>GDP_per_hour=%{y}<extra></extra>",
         "legendgroup": "IRQ",
         "marker": {
          "color": "#FF97FF",
          "symbol": "circle"
         },
         "mode": "markers+text",
         "name": "IRQ",
         "orientation": "v",
         "showlegend": true,
         "text": [
          "IRQ"
         ],
         "type": "scatter",
         "x": [
          4357.865926533411
         ],
         "xaxis": "x",
         "y": [
          4.498471820053439
         ],
         "yaxis": "y"
        },
        {
         "hovertemplate": "country_iso3=%{text}<br>GDP_per_capita_2022=%{x}<br>GDP_per_hour=%{y}<extra></extra>",
         "legendgroup": "IRL",
         "marker": {
          "color": "#FECB52",
          "symbol": "circle"
         },
         "mode": "markers+text",
         "name": "IRL",
         "orientation": "v",
         "showlegend": true,
         "text": [
          "IRL"
         ],
         "type": "scatter",
         "x": [
          97316.87750857291
         ],
         "xaxis": "x",
         "y": [
          67.73477908290475
         ],
         "yaxis": "y"
        },
        {
         "hovertemplate": "country_iso3=%{text}<br>GDP_per_capita_2022=%{x}<br>GDP_per_hour=%{y}<extra></extra>",
         "legendgroup": "ISR",
         "marker": {
          "color": "#636efa",
          "symbol": "circle"
         },
         "mode": "markers+text",
         "name": "ISR",
         "orientation": "v",
         "showlegend": true,
         "text": [
          "ISR"
         ],
         "type": "scatter",
         "x": [
          42710.77822162938
         ],
         "xaxis": "x",
         "y": [
          30.35262918023572
         ],
         "yaxis": "y"
        },
        {
         "hovertemplate": "country_iso3=%{text}<br>GDP_per_capita_2022=%{x}<br>GDP_per_hour=%{y}<extra></extra>",
         "legendgroup": "ITA",
         "marker": {
          "color": "#EF553B",
          "symbol": "circle"
         },
         "mode": "markers+text",
         "name": "ITA",
         "orientation": "v",
         "showlegend": true,
         "text": [
          "ITA"
         ],
         "type": "scatter",
         "x": [
          33364.109046133075
         ],
         "xaxis": "x",
         "y": [
          21.19833694719233
         ],
         "yaxis": "y"
        },
        {
         "hovertemplate": "country_iso3=%{text}<br>GDP_per_capita_2022=%{x}<br>GDP_per_hour=%{y}<extra></extra>",
         "legendgroup": "JAM",
         "marker": {
          "color": "#00cc96",
          "symbol": "circle"
         },
         "mode": "markers+text",
         "name": "JAM",
         "orientation": "v",
         "showlegend": true,
         "text": [
          "JAM"
         ],
         "type": "scatter",
         "x": [
          5236.790244195761
         ],
         "xaxis": "x",
         "y": [
          3.2354073011735474
         ],
         "yaxis": "y"
        },
        {
         "hovertemplate": "country_iso3=%{text}<br>GDP_per_capita_2022=%{x}<br>GDP_per_hour=%{y}<extra></extra>",
         "legendgroup": "JPN",
         "marker": {
          "color": "#ab63fa",
          "symbol": "circle"
         },
         "mode": "markers+text",
         "name": "JPN",
         "orientation": "v",
         "showlegend": true,
         "text": [
          "JPN"
         ],
         "type": "scatter",
         "x": [
          36202.63927489802
         ],
         "xaxis": "x",
         "y": [
          21.48424934381417
         ],
         "yaxis": "y"
        },
        {
         "hovertemplate": "country_iso3=%{text}<br>GDP_per_capita_2022=%{x}<br>GDP_per_hour=%{y}<extra></extra>",
         "legendgroup": "JOR",
         "marker": {
          "color": "#FFA15A",
          "symbol": "circle"
         },
         "mode": "markers+text",
         "name": "JOR",
         "orientation": "v",
         "showlegend": true,
         "text": [
          "JOR"
         ],
         "type": "scatter",
         "x": [
          3891.2122257983224
         ],
         "xaxis": "x",
         "y": [
          2.179301056657587
         ],
         "yaxis": "y"
        },
        {
         "hovertemplate": "country_iso3=%{text}<br>GDP_per_capita_2022=%{x}<br>GDP_per_hour=%{y}<extra></extra>",
         "legendgroup": "KAZ",
         "marker": {
          "color": "#19d3f3",
          "symbol": "circle"
         },
         "mode": "markers+text",
         "name": "KAZ",
         "orientation": "v",
         "showlegend": true,
         "text": [
          "KAZ"
         ],
         "type": "scatter",
         "x": [
          11283.416094686638
         ],
         "xaxis": "x",
         "y": [
          6.8090916742065035
         ],
         "yaxis": "y"
        },
        {
         "hovertemplate": "country_iso3=%{text}<br>GDP_per_capita_2022=%{x}<br>GDP_per_hour=%{y}<extra></extra>",
         "legendgroup": "KEN",
         "marker": {
          "color": "#FF6692",
          "symbol": "circle"
         },
         "mode": "markers+text",
         "name": "KEN",
         "orientation": "v",
         "showlegend": true,
         "text": [
          "KEN"
         ],
         "type": "scatter",
         "x": [
          1754.585480358889
         ],
         "xaxis": "x",
         "y": [
          1.3198891996788227
         ],
         "yaxis": "y"
        },
        {
         "hovertemplate": "country_iso3=%{text}<br>GDP_per_capita_2022=%{x}<br>GDP_per_hour=%{y}<extra></extra>",
         "legendgroup": "KIR",
         "marker": {
          "color": "#B6E880",
          "symbol": "circle"
         },
         "mode": "markers+text",
         "name": "KIR",
         "orientation": "v",
         "showlegend": true,
         "text": [
          "KIR"
         ],
         "type": "scatter",
         "x": [
          1942.6980664954403
         ],
         "xaxis": "x",
         "y": [
          1.2858645692216304
         ],
         "yaxis": "y"
        },
        {
         "hovertemplate": "country_iso3=%{text}<br>GDP_per_capita_2022=%{x}<br>GDP_per_hour=%{y}<extra></extra>",
         "legendgroup": "KWT",
         "marker": {
          "color": "#FF97FF",
          "symbol": "circle"
         },
         "mode": "markers+text",
         "name": "KWT",
         "orientation": "v",
         "showlegend": true,
         "text": [
          "KWT"
         ],
         "type": "scatter",
         "x": [
          27953.339425362654
         ],
         "xaxis": "x",
         "y": [
          17.48377465204642
         ],
         "yaxis": "y"
        },
        {
         "hovertemplate": "country_iso3=%{text}<br>GDP_per_capita_2022=%{x}<br>GDP_per_hour=%{y}<extra></extra>",
         "legendgroup": "KGZ",
         "marker": {
          "color": "#FECB52",
          "symbol": "circle"
         },
         "mode": "markers+text",
         "name": "KGZ",
         "orientation": "v",
         "showlegend": true,
         "text": [
          "KGZ"
         ],
         "type": "scatter",
         "x": [
          1212.2337404882267
         ],
         "xaxis": "x",
         "y": [
          0.8499149039825455
         ],
         "yaxis": "y"
        },
        {
         "hovertemplate": "country_iso3=%{text}<br>GDP_per_capita_2022=%{x}<br>GDP_per_hour=%{y}<extra></extra>",
         "legendgroup": "LAO",
         "marker": {
          "color": "#636efa",
          "symbol": "circle"
         },
         "mode": "markers+text",
         "name": "LAO",
         "orientation": "v",
         "showlegend": true,
         "text": [
          "LAO"
         ],
         "type": "scatter",
         "x": [
          2599.2048876829044
         ],
         "xaxis": "x",
         "y": [
          1.6777456228686622
         ],
         "yaxis": "y"
        },
        {
         "hovertemplate": "country_iso3=%{text}<br>GDP_per_capita_2022=%{x}<br>GDP_per_hour=%{y}<extra></extra>",
         "legendgroup": "LVA",
         "marker": {
          "color": "#EF553B",
          "symbol": "circle"
         },
         "mode": "markers+text",
         "name": "LVA",
         "orientation": "v",
         "showlegend": true,
         "text": [
          "LVA"
         ],
         "type": "scatter",
         "x": [
          17014.619093548372
         ],
         "xaxis": "x",
         "y": [
          10.260242201084417
         ],
         "yaxis": "y"
        },
        {
         "hovertemplate": "country_iso3=%{text}<br>GDP_per_capita_2022=%{x}<br>GDP_per_hour=%{y}<extra></extra>",
         "legendgroup": "LBN",
         "marker": {
          "color": "#00cc96",
          "symbol": "circle"
         },
         "mode": "markers+text",
         "name": "LBN",
         "orientation": "v",
         "showlegend": true,
         "text": [
          "LBN"
         ],
         "type": "scatter",
         "x": [
          6183.243914542549
         ],
         "xaxis": "x",
         "y": [
          3.407060087691673
         ],
         "yaxis": "y"
        },
        {
         "hovertemplate": "country_iso3=%{text}<br>GDP_per_capita_2022=%{x}<br>GDP_per_hour=%{y}<extra></extra>",
         "legendgroup": "LSO",
         "marker": {
          "color": "#ab63fa",
          "symbol": "circle"
         },
         "mode": "markers+text",
         "name": "LSO",
         "orientation": "v",
         "showlegend": true,
         "text": [
          "LSO"
         ],
         "type": "scatter",
         "x": [
          952.2528378196121
         ],
         "xaxis": "x",
         "y": [
          0.6053061776849913
         ],
         "yaxis": "y"
        },
        {
         "hovertemplate": "country_iso3=%{text}<br>GDP_per_capita_2022=%{x}<br>GDP_per_hour=%{y}<extra></extra>",
         "legendgroup": "LBR",
         "marker": {
          "color": "#FFA15A",
          "symbol": "circle"
         },
         "mode": "markers+text",
         "name": "LBR",
         "orientation": "v",
         "showlegend": true,
         "text": [
          "LBR"
         ],
         "type": "scatter",
         "x": [
          646.5011616566492
         ],
         "xaxis": "x",
         "y": [
          0.4755796725562425
         ],
         "yaxis": "y"
        },
        {
         "hovertemplate": "country_iso3=%{text}<br>GDP_per_capita_2022=%{x}<br>GDP_per_hour=%{y}<extra></extra>",
         "legendgroup": "LBY",
         "marker": {
          "color": "#19d3f3",
          "symbol": "circle"
         },
         "mode": "markers+text",
         "name": "LBY",
         "orientation": "v",
         "showlegend": true,
         "text": [
          "LBY"
         ],
         "type": "scatter",
         "x": [
          10140.738170400062
         ],
         "xaxis": "x",
         "y": [
          5.664203157015421
         ],
         "yaxis": "y"
        },
        {
         "hovertemplate": "country_iso3=%{text}<br>GDP_per_capita_2022=%{x}<br>GDP_per_hour=%{y}<extra></extra>",
         "legendgroup": "LTU",
         "marker": {
          "color": "#FF6692",
          "symbol": "circle"
         },
         "mode": "markers+text",
         "name": "LTU",
         "orientation": "v",
         "showlegend": true,
         "text": [
          "LTU"
         ],
         "type": "scatter",
         "x": [
          18535.07796634781
         ],
         "xaxis": "x",
         "y": [
          11.013986213238734
         ],
         "yaxis": "y"
        },
        {
         "hovertemplate": "country_iso3=%{text}<br>GDP_per_capita_2022=%{x}<br>GDP_per_hour=%{y}<extra></extra>",
         "legendgroup": "LUX",
         "marker": {
          "color": "#B6E880",
          "symbol": "circle"
         },
         "mode": "markers+text",
         "name": "LUX",
         "orientation": "v",
         "showlegend": true,
         "text": [
          "LUX"
         ],
         "type": "scatter",
         "x": [
          109714.92431612939
         ],
         "xaxis": "x",
         "y": [
          73.07743899650431
         ],
         "yaxis": "y"
        },
        {
         "hovertemplate": "country_iso3=%{text}<br>GDP_per_capita_2022=%{x}<br>GDP_per_hour=%{y}<extra></extra>",
         "legendgroup": "MDG",
         "marker": {
          "color": "#FF97FF",
          "symbol": "circle"
         },
         "mode": "markers+text",
         "name": "MDG",
         "orientation": "v",
         "showlegend": true,
         "text": [
          "MDG"
         ],
         "type": "scatter",
         "x": [
          453.8581470116518
         ],
         "xaxis": "x",
         "y": [
          0.43131809880972977
         ],
         "yaxis": "y"
        },
        {
         "hovertemplate": "country_iso3=%{text}<br>GDP_per_capita_2022=%{x}<br>GDP_per_hour=%{y}<extra></extra>",
         "legendgroup": "MWI",
         "marker": {
          "color": "#FECB52",
          "symbol": "circle"
         },
         "mode": "markers+text",
         "name": "MWI",
         "orientation": "v",
         "showlegend": true,
         "text": [
          "MWI"
         ],
         "type": "scatter",
         "x": [
          554.1985772017047
         ],
         "xaxis": "x",
         "y": [
          0.6737257783478081
         ],
         "yaxis": "y"
        },
        {
         "hovertemplate": "country_iso3=%{text}<br>GDP_per_capita_2022=%{x}<br>GDP_per_hour=%{y}<extra></extra>",
         "legendgroup": "MYS",
         "marker": {
          "color": "#636efa",
          "symbol": "circle"
         },
         "mode": "markers+text",
         "name": "MYS",
         "orientation": "v",
         "showlegend": true,
         "text": [
          "MYS"
         ],
         "type": "scatter",
         "x": [
          11399.39713735103
         ],
         "xaxis": "x",
         "y": [
          6.8539810066293505
         ],
         "yaxis": "y"
        },
        {
         "hovertemplate": "country_iso3=%{text}<br>GDP_per_capita_2022=%{x}<br>GDP_per_hour=%{y}<extra></extra>",
         "legendgroup": "MDV",
         "marker": {
          "color": "#EF553B",
          "symbol": "circle"
         },
         "mode": "markers+text",
         "name": "MDV",
         "orientation": "v",
         "showlegend": true,
         "text": [
          "MDV"
         ],
         "type": "scatter",
         "x": [
          11035.582470084064
         ],
         "xaxis": "x",
         "y": [
          7.222123454329837
         ],
         "yaxis": "y"
        },
        {
         "hovertemplate": "country_iso3=%{text}<br>GDP_per_capita_2022=%{x}<br>GDP_per_hour=%{y}<extra></extra>",
         "legendgroup": "MLI",
         "marker": {
          "color": "#00cc96",
          "symbol": "circle"
         },
         "mode": "markers+text",
         "name": "MLI",
         "orientation": "v",
         "showlegend": true,
         "text": [
          "MLI"
         ],
         "type": "scatter",
         "x": [
          747.1529264728193
         ],
         "xaxis": "x",
         "y": [
          0.6954627644986727
         ],
         "yaxis": "y"
        },
        {
         "hovertemplate": "country_iso3=%{text}<br>GDP_per_capita_2022=%{x}<br>GDP_per_hour=%{y}<extra></extra>",
         "legendgroup": "MLT",
         "marker": {
          "color": "#ab63fa",
          "symbol": "circle"
         },
         "mode": "markers+text",
         "name": "MLT",
         "orientation": "v",
         "showlegend": true,
         "text": [
          "MLT"
         ],
         "type": "scatter",
         "x": [
          30760.63550072041
         ],
         "xaxis": "x",
         "y": [
          20.72872861247476
         ],
         "yaxis": "y"
        },
        {
         "hovertemplate": "country_iso3=%{text}<br>GDP_per_capita_2022=%{x}<br>GDP_per_hour=%{y}<extra></extra>",
         "legendgroup": "MHL",
         "marker": {
          "color": "#FFA15A",
          "symbol": "circle"
         },
         "mode": "markers+text",
         "name": "MHL",
         "orientation": "v",
         "showlegend": true,
         "text": [
          "MHL"
         ],
         "type": "scatter",
         "x": [
          5313.444826979118
         ],
         "xaxis": "x",
         "y": [
          3.7755000487993855
         ],
         "yaxis": "y"
        },
        {
         "hovertemplate": "country_iso3=%{text}<br>GDP_per_capita_2022=%{x}<br>GDP_per_hour=%{y}<extra></extra>",
         "legendgroup": "MRT",
         "marker": {
          "color": "#19d3f3",
          "symbol": "circle"
         },
         "mode": "markers+text",
         "name": "MRT",
         "orientation": "v",
         "showlegend": true,
         "text": [
          "MRT"
         ],
         "type": "scatter",
         "x": [
          1616.9818032846772
         ],
         "xaxis": "x",
         "y": [
          1.3763695784968186
         ],
         "yaxis": "y"
        },
        {
         "hovertemplate": "country_iso3=%{text}<br>GDP_per_capita_2022=%{x}<br>GDP_per_hour=%{y}<extra></extra>",
         "legendgroup": "MUS",
         "marker": {
          "color": "#FF6692",
          "symbol": "circle"
         },
         "mode": "markers+text",
         "name": "MUS",
         "orientation": "v",
         "showlegend": true,
         "text": [
          "MUS"
         ],
         "type": "scatter",
         "x": [
          10570.427525284817
         ],
         "xaxis": "x",
         "y": [
          6.154579307777863
         ],
         "yaxis": "y"
        },
        {
         "hovertemplate": "country_iso3=%{text}<br>GDP_per_capita_2022=%{x}<br>GDP_per_hour=%{y}<extra></extra>",
         "legendgroup": "MEX",
         "marker": {
          "color": "#B6E880",
          "symbol": "circle"
         },
         "mode": "markers+text",
         "name": "MEX",
         "orientation": "v",
         "showlegend": true,
         "text": [
          "MEX"
         ],
         "type": "scatter",
         "x": [
          10078.602541946602
         ],
         "xaxis": "x",
         "y": [
          5.502614008267265
         ],
         "yaxis": "y"
        },
        {
         "hovertemplate": "country_iso3=%{text}<br>GDP_per_capita_2022=%{x}<br>GDP_per_hour=%{y}<extra></extra>",
         "legendgroup": "MNG",
         "marker": {
          "color": "#FF97FF",
          "symbol": "circle"
         },
         "mode": "markers+text",
         "name": "MNG",
         "orientation": "v",
         "showlegend": true,
         "text": [
          "MNG"
         ],
         "type": "scatter",
         "x": [
          4249.675014062045
         ],
         "xaxis": "x",
         "y": [
          2.6654742857101543
         ],
         "yaxis": "y"
        },
        {
         "hovertemplate": "country_iso3=%{text}<br>GDP_per_capita_2022=%{x}<br>GDP_per_hour=%{y}<extra></extra>",
         "legendgroup": "MNE",
         "marker": {
          "color": "#FECB52",
          "symbol": "circle"
         },
         "mode": "markers+text",
         "name": "MNE",
         "orientation": "v",
         "showlegend": true,
         "text": [
          "MNE"
         ],
         "type": "scatter",
         "x": [
          7889.237633106137
         ],
         "xaxis": "x",
         "y": [
          4.24973335330835
         ],
         "yaxis": "y"
        },
        {
         "hovertemplate": "country_iso3=%{text}<br>GDP_per_capita_2022=%{x}<br>GDP_per_hour=%{y}<extra></extra>",
         "legendgroup": "MSR",
         "marker": {
          "color": "#636efa",
          "symbol": "circle"
         },
         "mode": "markers+text",
         "name": "MSR",
         "orientation": "v",
         "showlegend": true,
         "text": [
          "MSR"
         ],
         "type": "scatter",
         "x": [
          16461
         ],
         "xaxis": "x",
         "y": [
          10.367516592816168
         ],
         "yaxis": "y"
        },
        {
         "hovertemplate": "country_iso3=%{text}<br>GDP_per_capita_2022=%{x}<br>GDP_per_hour=%{y}<extra></extra>",
         "legendgroup": "MAR",
         "marker": {
          "color": "#EF553B",
          "symbol": "circle"
         },
         "mode": "markers+text",
         "name": "MAR",
         "orientation": "v",
         "showlegend": true,
         "text": [
          "MAR"
         ],
         "type": "scatter",
         "x": [
          3300.7998046875
         ],
         "xaxis": "x",
         "y": [
          2.1871851149745076
         ],
         "yaxis": "y"
        },
        {
         "hovertemplate": "country_iso3=%{text}<br>GDP_per_capita_2022=%{x}<br>GDP_per_hour=%{y}<extra></extra>",
         "legendgroup": "MOZ",
         "marker": {
          "color": "#00cc96",
          "symbol": "circle"
         },
         "mode": "markers+text",
         "name": "MOZ",
         "orientation": "v",
         "showlegend": true,
         "text": [
          "MOZ"
         ],
         "type": "scatter",
         "x": [
          590.3689083799867
         ],
         "xaxis": "x",
         "y": [
          0.6019680506242502
         ],
         "yaxis": "y"
        },
        {
         "hovertemplate": "country_iso3=%{text}<br>GDP_per_capita_2022=%{x}<br>GDP_per_hour=%{y}<extra></extra>",
         "legendgroup": "MMR",
         "marker": {
          "color": "#ab63fa",
          "symbol": "circle"
         },
         "mode": "markers+text",
         "name": "MMR",
         "orientation": "v",
         "showlegend": true,
         "text": [
          "MMR"
         ],
         "type": "scatter",
         "x": [
          1165.605522694084
         ],
         "xaxis": "x",
         "y": [
          0.8949882449702906
         ],
         "yaxis": "y"
        },
        {
         "hovertemplate": "country_iso3=%{text}<br>GDP_per_capita_2022=%{x}<br>GDP_per_hour=%{y}<extra></extra>",
         "legendgroup": "NAM",
         "marker": {
          "color": "#FFA15A",
          "symbol": "circle"
         },
         "mode": "markers+text",
         "name": "NAM",
         "orientation": "v",
         "showlegend": true,
         "text": [
          "NAM"
         ],
         "type": "scatter",
         "x": [
          4394.3970993933945
         ],
         "xaxis": "x",
         "y": [
          2.9324542577526373
         ],
         "yaxis": "y"
        },
        {
         "hovertemplate": "country_iso3=%{text}<br>GDP_per_capita_2022=%{x}<br>GDP_per_hour=%{y}<extra></extra>",
         "legendgroup": "NRU",
         "marker": {
          "color": "#19d3f3",
          "symbol": "circle"
         },
         "mode": "markers+text",
         "name": "NRU",
         "orientation": "v",
         "showlegend": true,
         "text": [
          "NRU"
         ],
         "type": "scatter",
         "x": [
          7861.683478112578
         ],
         "xaxis": "x",
         "y": [
          7.974902214256792
         ],
         "yaxis": "y"
        },
        {
         "hovertemplate": "country_iso3=%{text}<br>GDP_per_capita_2022=%{x}<br>GDP_per_hour=%{y}<extra></extra>",
         "legendgroup": "NPL",
         "marker": {
          "color": "#FF6692",
          "symbol": "circle"
         },
         "mode": "markers+text",
         "name": "NPL",
         "orientation": "v",
         "showlegend": true,
         "text": [
          "NPL"
         ],
         "type": "scatter",
         "x": [
          1083.2203776893907
         ],
         "xaxis": "x",
         "y": [
          0.6831023290188046
         ],
         "yaxis": "y"
        },
        {
         "hovertemplate": "country_iso3=%{text}<br>GDP_per_capita_2022=%{x}<br>GDP_per_hour=%{y}<extra></extra>",
         "legendgroup": "NLD",
         "marker": {
          "color": "#B6E880",
          "symbol": "circle"
         },
         "mode": "markers+text",
         "name": "NLD",
         "orientation": "v",
         "showlegend": true,
         "text": [
          "NLD"
         ],
         "type": "scatter",
         "x": [
          50546.78937281694
         ],
         "xaxis": "x",
         "y": [
          39.39899185193736
         ],
         "yaxis": "y"
        },
        {
         "hovertemplate": "country_iso3=%{text}<br>GDP_per_capita_2022=%{x}<br>GDP_per_hour=%{y}<extra></extra>",
         "legendgroup": "NCL",
         "marker": {
          "color": "#FF97FF",
          "symbol": "circle"
         },
         "mode": "markers+text",
         "name": "NCL",
         "orientation": "v",
         "showlegend": true,
         "text": [
          "NCL"
         ],
         "type": "scatter",
         "x": [
          33190
         ],
         "xaxis": "x",
         "y": [
          21.30787008300955
         ],
         "yaxis": "y"
        },
        {
         "hovertemplate": "country_iso3=%{text}<br>GDP_per_capita_2022=%{x}<br>GDP_per_hour=%{y}<extra></extra>",
         "legendgroup": "NZL",
         "marker": {
          "color": "#FECB52",
          "symbol": "circle"
         },
         "mode": "markers+text",
         "name": "NZL",
         "orientation": "v",
         "showlegend": true,
         "text": [
          "NZL"
         ],
         "type": "scatter",
         "x": [
          42320.89243907601
         ],
         "xaxis": "x",
         "y": [
          29.126542811351243
         ],
         "yaxis": "y"
        },
        {
         "hovertemplate": "country_iso3=%{text}<br>GDP_per_capita_2022=%{x}<br>GDP_per_hour=%{y}<extra></extra>",
         "legendgroup": "NIC",
         "marker": {
          "color": "#636efa",
          "symbol": "circle"
         },
         "mode": "markers+text",
         "name": "NIC",
         "orientation": "v",
         "showlegend": true,
         "text": [
          "NIC"
         ],
         "type": "scatter",
         "x": [
          2119.3951792230578
         ],
         "xaxis": "x",
         "y": [
          1.4426497748279261
         ],
         "yaxis": "y"
        },
        {
         "hovertemplate": "country_iso3=%{text}<br>GDP_per_capita_2022=%{x}<br>GDP_per_hour=%{y}<extra></extra>",
         "legendgroup": "NER",
         "marker": {
          "color": "#EF553B",
          "symbol": "circle"
         },
         "mode": "markers+text",
         "name": "NER",
         "orientation": "v",
         "showlegend": true,
         "text": [
          "NER"
         ],
         "type": "scatter",
         "x": [
          547.4201513341767
         ],
         "xaxis": "x",
         "y": [
          0.5870895352650265
         ],
         "yaxis": "y"
        },
        {
         "hovertemplate": "country_iso3=%{text}<br>GDP_per_capita_2022=%{x}<br>GDP_per_hour=%{y}<extra></extra>",
         "legendgroup": "NGA",
         "marker": {
          "color": "#00cc96",
          "symbol": "circle"
         },
         "mode": "markers+text",
         "name": "NGA",
         "orientation": "v",
         "showlegend": true,
         "text": [
          "NGA"
         ],
         "type": "scatter",
         "x": [
          2449.587980874729
         ],
         "xaxis": "x",
         "y": [
          2.4430646476911577
         ],
         "yaxis": "y"
        },
        {
         "hovertemplate": "country_iso3=%{text}<br>GDP_per_capita_2022=%{x}<br>GDP_per_hour=%{y}<extra></extra>",
         "legendgroup": "NIU",
         "marker": {
          "color": "#ab63fa",
          "symbol": "circle"
         },
         "mode": "markers+text",
         "name": "NIU",
         "orientation": "v",
         "showlegend": true,
         "text": [
          "NIU"
         ],
         "type": "scatter",
         "x": [
          19646
         ],
         "xaxis": "x",
         "y": [
          12.375945928323985
         ],
         "yaxis": "y"
        },
        {
         "hovertemplate": "country_iso3=%{text}<br>GDP_per_capita_2022=%{x}<br>GDP_per_hour=%{y}<extra></extra>",
         "legendgroup": "NFK",
         "marker": {
          "color": "#FFA15A",
          "symbol": "circle"
         },
         "mode": "markers+text",
         "name": "NFK",
         "orientation": "v",
         "showlegend": true,
         "text": [
          "NFK"
         ],
         "type": "scatter",
         "x": [
          24678
         ],
         "xaxis": "x",
         "y": [
          15.135236461756197
         ],
         "yaxis": "y"
        },
        {
         "hovertemplate": "country_iso3=%{text}<br>GDP_per_capita_2022=%{x}<br>GDP_per_hour=%{y}<extra></extra>",
         "legendgroup": "MKD",
         "marker": {
          "color": "#19d3f3",
          "symbol": "circle"
         },
         "mode": "markers+text",
         "name": "MKD",
         "orientation": "v",
         "showlegend": true,
         "text": [
          "MKD"
         ],
         "type": "scatter",
         "x": [
          6217.951641204279
         ],
         "xaxis": "x",
         "y": [
          3.8511327432564544
         ],
         "yaxis": "y"
        },
        {
         "hovertemplate": "country_iso3=%{text}<br>GDP_per_capita_2022=%{x}<br>GDP_per_hour=%{y}<extra></extra>",
         "legendgroup": "NOR",
         "marker": {
          "color": "#FF6692",
          "symbol": "circle"
         },
         "mode": "markers+text",
         "name": "NOR",
         "orientation": "v",
         "showlegend": true,
         "text": [
          "NOR"
         ],
         "type": "scatter",
         "x": [
          79434.62564515752
         ],
         "xaxis": "x",
         "y": [
          56.23052766567541
         ],
         "yaxis": "y"
        },
        {
         "hovertemplate": "country_iso3=%{text}<br>GDP_per_capita_2022=%{x}<br>GDP_per_hour=%{y}<extra></extra>",
         "legendgroup": "OMN",
         "marker": {
          "color": "#B6E880",
          "symbol": "circle"
         },
         "mode": "markers+text",
         "name": "OMN",
         "orientation": "v",
         "showlegend": true,
         "text": [
          "OMN"
         ],
         "type": "scatter",
         "x": [
          18856.875237347755
         ],
         "xaxis": "x",
         "y": [
          11.541643401659945
         ],
         "yaxis": "y"
        },
        {
         "hovertemplate": "country_iso3=%{text}<br>GDP_per_capita_2022=%{x}<br>GDP_per_hour=%{y}<extra></extra>",
         "legendgroup": "S19",
         "marker": {
          "color": "#FF97FF",
          "symbol": "circle"
         },
         "mode": "markers+text",
         "name": "S19",
         "orientation": "v",
         "showlegend": true,
         "text": [
          "S19"
         ],
         "type": "scatter",
         "x": [
          7500
         ],
         "xaxis": "x",
         "y": [
          4.960952554077413
         ],
         "yaxis": "y"
        },
        {
         "hovertemplate": "country_iso3=%{text}<br>GDP_per_capita_2022=%{x}<br>GDP_per_hour=%{y}<extra></extra>",
         "legendgroup": "PAK",
         "marker": {
          "color": "#FECB52",
          "symbol": "circle"
         },
         "mode": "markers+text",
         "name": "PAK",
         "orientation": "v",
         "showlegend": true,
         "text": [
          "PAK"
         ],
         "type": "scatter",
         "x": [
          1696.9564903543246
         ],
         "xaxis": "x",
         "y": [
          1.2607224718891605
         ],
         "yaxis": "y"
        },
        {
         "hovertemplate": "country_iso3=%{text}<br>GDP_per_capita_2022=%{x}<br>GDP_per_hour=%{y}<extra></extra>",
         "legendgroup": "PLW",
         "marker": {
          "color": "#636efa",
          "symbol": "circle"
         },
         "mode": "markers+text",
         "name": "PLW",
         "orientation": "v",
         "showlegend": true,
         "text": [
          "PLW"
         ],
         "type": "scatter",
         "x": [
          12426.97570922805
         ],
         "xaxis": "x",
         "y": [
          6.983138815161998
         ],
         "yaxis": "y"
        },
        {
         "hovertemplate": "country_iso3=%{text}<br>GDP_per_capita_2022=%{x}<br>GDP_per_hour=%{y}<extra></extra>",
         "legendgroup": "PAN",
         "marker": {
          "color": "#EF553B",
          "symbol": "circle"
         },
         "mode": "markers+text",
         "name": "PAN",
         "orientation": "v",
         "showlegend": true,
         "text": [
          "PAN"
         ],
         "type": "scatter",
         "x": [
          15388.05586489037
         ],
         "xaxis": "x",
         "y": [
          9.699531965337766
         ],
         "yaxis": "y"
        },
        {
         "hovertemplate": "country_iso3=%{text}<br>GDP_per_capita_2022=%{x}<br>GDP_per_hour=%{y}<extra></extra>",
         "legendgroup": "PNG",
         "marker": {
          "color": "#00cc96",
          "symbol": "circle"
         },
         "mode": "markers+text",
         "name": "PNG",
         "orientation": "v",
         "showlegend": true,
         "text": [
          "PNG"
         ],
         "type": "scatter",
         "x": [
          2462.549091555052
         ],
         "xaxis": "x",
         "y": [
          1.9180436910834864
         ],
         "yaxis": "y"
        },
        {
         "hovertemplate": "country_iso3=%{text}<br>GDP_per_capita_2022=%{x}<br>GDP_per_hour=%{y}<extra></extra>",
         "legendgroup": "PRY",
         "marker": {
          "color": "#ab63fa",
          "symbol": "circle"
         },
         "mode": "markers+text",
         "name": "PRY",
         "orientation": "v",
         "showlegend": true,
         "text": [
          "PRY"
         ],
         "type": "scatter",
         "x": [
          6199.600382310346
         ],
         "xaxis": "x",
         "y": [
          3.525946176869129
         ],
         "yaxis": "y"
        },
        {
         "hovertemplate": "country_iso3=%{text}<br>GDP_per_capita_2022=%{x}<br>GDP_per_hour=%{y}<extra></extra>",
         "legendgroup": "PER",
         "marker": {
          "color": "#FFA15A",
          "symbol": "circle"
         },
         "mode": "markers+text",
         "name": "PER",
         "orientation": "v",
         "showlegend": true,
         "text": [
          "PER"
         ],
         "type": "scatter",
         "x": [
          6549.334830345576
         ],
         "xaxis": "x",
         "y": [
          3.829715356370223
         ],
         "yaxis": "y"
        },
        {
         "hovertemplate": "country_iso3=%{text}<br>GDP_per_capita_2022=%{x}<br>GDP_per_hour=%{y}<extra></extra>",
         "legendgroup": "PHL",
         "marker": {
          "color": "#19d3f3",
          "symbol": "circle"
         },
         "mode": "markers+text",
         "name": "PHL",
         "orientation": "v",
         "showlegend": true,
         "text": [
          "PHL"
         ],
         "type": "scatter",
         "x": [
          3528.330428345234
         ],
         "xaxis": "x",
         "y": [
          2.4307051287891515
         ],
         "yaxis": "y"
        },
        {
         "hovertemplate": "country_iso3=%{text}<br>GDP_per_capita_2022=%{x}<br>GDP_per_hour=%{y}<extra></extra>",
         "legendgroup": "PCN",
         "marker": {
          "color": "#FF6692",
          "symbol": "circle"
         },
         "mode": "markers+text",
         "name": "PCN",
         "orientation": "v",
         "showlegend": true,
         "text": [
          "PCN"
         ],
         "type": "scatter",
         "x": [
          18800
         ],
         "xaxis": "x",
         "y": [
          11.541643401659945
         ],
         "yaxis": "y"
        },
        {
         "hovertemplate": "country_iso3=%{text}<br>GDP_per_capita_2022=%{x}<br>GDP_per_hour=%{y}<extra></extra>",
         "legendgroup": "POL",
         "marker": {
          "color": "#B6E880",
          "symbol": "circle"
         },
         "mode": "markers+text",
         "name": "POL",
         "orientation": "v",
         "showlegend": true,
         "text": [
          "POL"
         ],
         "type": "scatter",
         "x": [
          17178.668342845936
         ],
         "xaxis": "x",
         "y": [
          10.599182999823425
         ],
         "yaxis": "y"
        },
        {
         "hovertemplate": "country_iso3=%{text}<br>GDP_per_capita_2022=%{x}<br>GDP_per_hour=%{y}<extra></extra>",
         "legendgroup": "PRT",
         "marker": {
          "color": "#FF97FF",
          "symbol": "circle"
         },
         "mode": "markers+text",
         "name": "PRT",
         "orientation": "v",
         "showlegend": true,
         "text": [
          "PRT"
         ],
         "type": "scatter",
         "x": [
          22125.939194710907
         ],
         "xaxis": "x",
         "y": [
          13.233817001903365
         ],
         "yaxis": "y"
        },
        {
         "hovertemplate": "country_iso3=%{text}<br>GDP_per_capita_2022=%{x}<br>GDP_per_hour=%{y}<extra></extra>",
         "legendgroup": "QAT",
         "marker": {
          "color": "#FECB52",
          "symbol": "circle"
         },
         "mode": "markers+text",
         "name": "QAT",
         "orientation": "v",
         "showlegend": true,
         "text": [
          "QAT"
         ],
         "type": "scatter",
         "x": [
          63428.364094817836
         ],
         "xaxis": "x",
         "y": [
          41.609668582047476
         ],
         "yaxis": "y"
        },
        {
         "hovertemplate": "country_iso3=%{text}<br>GDP_per_capita_2022=%{x}<br>GDP_per_hour=%{y}<extra></extra>",
         "legendgroup": "KOR",
         "marker": {
          "color": "#636efa",
          "symbol": "circle"
         },
         "mode": "markers+text",
         "name": "KOR",
         "orientation": "v",
         "showlegend": true,
         "text": [
          "KOR"
         ],
         "type": "scatter",
         "x": [
          33690.37887930456
         ],
         "xaxis": "x",
         "y": [
          19.632357091170306
         ],
         "yaxis": "y"
        },
        {
         "hovertemplate": "country_iso3=%{text}<br>GDP_per_capita_2022=%{x}<br>GDP_per_hour=%{y}<extra></extra>",
         "legendgroup": "MDA",
         "marker": {
          "color": "#EF553B",
          "symbol": "circle"
         },
         "mode": "markers+text",
         "name": "MDA",
         "orientation": "v",
         "showlegend": true,
         "text": [
          "MDA"
         ],
         "type": "scatter",
         "x": [
          3581.7197254770936
         ],
         "xaxis": "x",
         "y": [
          2.0245983224743354
         ],
         "yaxis": "y"
        },
        {
         "hovertemplate": "country_iso3=%{text}<br>GDP_per_capita_2022=%{x}<br>GDP_per_hour=%{y}<extra></extra>",
         "legendgroup": "ROU",
         "marker": {
          "color": "#00cc96",
          "symbol": "circle"
         },
         "mode": "markers+text",
         "name": "ROU",
         "orientation": "v",
         "showlegend": true,
         "text": [
          "ROU"
         ],
         "type": "scatter",
         "x": [
          12131.736253190755
         ],
         "xaxis": "x",
         "y": [
          7.001547844057902
         ],
         "yaxis": "y"
        },
        {
         "hovertemplate": "country_iso3=%{text}<br>GDP_per_capita_2022=%{x}<br>GDP_per_hour=%{y}<extra></extra>",
         "legendgroup": "RUS",
         "marker": {
          "color": "#ab63fa",
          "symbol": "circle"
         },
         "mode": "markers+text",
         "name": "RUS",
         "orientation": "v",
         "showlegend": true,
         "text": [
          "RUS"
         ],
         "type": "scatter",
         "x": [
          10030.0390625
         ],
         "xaxis": "x",
         "y": [
          5.9456452427872835
         ],
         "yaxis": "y"
        },
        {
         "hovertemplate": "country_iso3=%{text}<br>GDP_per_capita_2022=%{x}<br>GDP_per_hour=%{y}<extra></extra>",
         "legendgroup": "RWA",
         "marker": {
          "color": "#FFA15A",
          "symbol": "circle"
         },
         "mode": "markers+text",
         "name": "RWA",
         "orientation": "v",
         "showlegend": true,
         "text": [
          "RWA"
         ],
         "type": "scatter",
         "x": [
          939.7281495352714
         ],
         "xaxis": "x",
         "y": [
          1.0292144783709105
         ],
         "yaxis": "y"
        },
        {
         "hovertemplate": "country_iso3=%{text}<br>GDP_per_capita_2022=%{x}<br>GDP_per_hour=%{y}<extra></extra>",
         "legendgroup": "SHN",
         "marker": {
          "color": "#19d3f3",
          "symbol": "circle"
         },
         "mode": "markers+text",
         "name": "SHN",
         "orientation": "v",
         "showlegend": true,
         "text": [
          "SHN"
         ],
         "type": "scatter",
         "x": [
          10693
         ],
         "xaxis": "x",
         "y": [
          6.156133117078615
         ],
         "yaxis": "y"
        },
        {
         "hovertemplate": "country_iso3=%{text}<br>GDP_per_capita_2022=%{x}<br>GDP_per_hour=%{y}<extra></extra>",
         "legendgroup": "KNA",
         "marker": {
          "color": "#FF6692",
          "symbol": "circle"
         },
         "mode": "markers+text",
         "name": "KNA",
         "orientation": "v",
         "showlegend": true,
         "text": [
          "KNA"
         ],
         "type": "scatter",
         "x": [
          20628.686399289327
         ],
         "xaxis": "x",
         "y": [
          12.299588743355793
         ],
         "yaxis": "y"
        },
        {
         "hovertemplate": "country_iso3=%{text}<br>GDP_per_capita_2022=%{x}<br>GDP_per_hour=%{y}<extra></extra>",
         "legendgroup": "LCA",
         "marker": {
          "color": "#B6E880",
          "symbol": "circle"
         },
         "mode": "markers+text",
         "name": "LCA",
         "orientation": "v",
         "showlegend": true,
         "text": [
          "LCA"
         ],
         "type": "scatter",
         "x": [
          10988.971428072353
         ],
         "xaxis": "x",
         "y": [
          5.899356880098606
         ],
         "yaxis": "y"
        },
        {
         "hovertemplate": "country_iso3=%{text}<br>GDP_per_capita_2022=%{x}<br>GDP_per_hour=%{y}<extra></extra>",
         "legendgroup": "SPM",
         "marker": {
          "color": "#FF97FF",
          "symbol": "circle"
         },
         "mode": "markers+text",
         "name": "SPM",
         "orientation": "v",
         "showlegend": true,
         "text": [
          "SPM"
         ],
         "type": "scatter",
         "x": [
          46200
         ],
         "xaxis": "x",
         "y": [
          31.024731126005086
         ],
         "yaxis": "y"
        },
        {
         "hovertemplate": "country_iso3=%{text}<br>GDP_per_capita_2022=%{x}<br>GDP_per_hour=%{y}<extra></extra>",
         "legendgroup": "VCT",
         "marker": {
          "color": "#FECB52",
          "symbol": "circle"
         },
         "mode": "markers+text",
         "name": "VCT",
         "orientation": "v",
         "showlegend": true,
         "text": [
          "VCT"
         ],
         "type": "scatter",
         "x": [
          8629.531344076246
         ],
         "xaxis": "x",
         "y": [
          5.903165455231331
         ],
         "yaxis": "y"
        },
        {
         "hovertemplate": "country_iso3=%{text}<br>GDP_per_capita_2022=%{x}<br>GDP_per_hour=%{y}<extra></extra>",
         "legendgroup": "WSM",
         "marker": {
          "color": "#636efa",
          "symbol": "circle"
         },
         "mode": "markers+text",
         "name": "WSM",
         "orientation": "v",
         "showlegend": true,
         "text": [
          "WSM"
         ],
         "type": "scatter",
         "x": [
          3591.804947632629
         ],
         "xaxis": "x",
         "y": [
          2.6676861104138623
         ],
         "yaxis": "y"
        },
        {
         "hovertemplate": "country_iso3=%{text}<br>GDP_per_capita_2022=%{x}<br>GDP_per_hour=%{y}<extra></extra>",
         "legendgroup": "SMR",
         "marker": {
          "color": "#EF553B",
          "symbol": "circle"
         },
         "mode": "markers+text",
         "name": "SMR",
         "orientation": "v",
         "showlegend": true,
         "text": [
          "SMR"
         ],
         "type": "scatter",
         "x": [
          45269
         ],
         "xaxis": "x",
         "y": [
          27.328919200841646
         ],
         "yaxis": "y"
        },
        {
         "hovertemplate": "country_iso3=%{text}<br>GDP_per_capita_2022=%{x}<br>GDP_per_hour=%{y}<extra></extra>",
         "legendgroup": "STP",
         "marker": {
          "color": "#00cc96",
          "symbol": "circle"
         },
         "mode": "markers+text",
         "name": "STP",
         "orientation": "v",
         "showlegend": true,
         "text": [
          "STP"
         ],
         "type": "scatter",
         "x": [
          1395.1575280269165
         ],
         "xaxis": "x",
         "y": [
          1.1499145087409828
         ],
         "yaxis": "y"
        },
        {
         "hovertemplate": "country_iso3=%{text}<br>GDP_per_capita_2022=%{x}<br>GDP_per_hour=%{y}<extra></extra>",
         "legendgroup": "SAU",
         "marker": {
          "color": "#ab63fa",
          "symbol": "circle"
         },
         "mode": "markers+text",
         "name": "SAU",
         "orientation": "v",
         "showlegend": true,
         "text": [
          "SAU"
         ],
         "type": "scatter",
         "x": [
          21478.816533712095
         ],
         "xaxis": "x",
         "y": [
          13.382483274606129
         ],
         "yaxis": "y"
        },
        {
         "hovertemplate": "country_iso3=%{text}<br>GDP_per_capita_2022=%{x}<br>GDP_per_hour=%{y}<extra></extra>",
         "legendgroup": "SEN",
         "marker": {
          "color": "#FFA15A",
          "symbol": "circle"
         },
         "mode": "markers+text",
         "name": "SEN",
         "orientation": "v",
         "showlegend": true,
         "text": [
          "SEN"
         ],
         "type": "scatter",
         "x": [
          1460.494903303962
         ],
         "xaxis": "x",
         "y": [
          0.9003748061065309
         ],
         "yaxis": "y"
        },
        {
         "hovertemplate": "country_iso3=%{text}<br>GDP_per_capita_2022=%{x}<br>GDP_per_hour=%{y}<extra></extra>",
         "legendgroup": "SRB",
         "marker": {
          "color": "#19d3f3",
          "symbol": "circle"
         },
         "mode": "markers+text",
         "name": "SRB",
         "orientation": "v",
         "showlegend": true,
         "text": [
          "SRB"
         ],
         "type": "scatter",
         "x": [
          7493.161801600277
         ],
         "xaxis": "x",
         "y": [
          4.0350029259870865
         ],
         "yaxis": "y"
        },
        {
         "hovertemplate": "country_iso3=%{text}<br>GDP_per_capita_2022=%{x}<br>GDP_per_hour=%{y}<extra></extra>",
         "legendgroup": "SYC",
         "marker": {
          "color": "#FF6692",
          "symbol": "circle"
         },
         "mode": "markers+text",
         "name": "SYC",
         "orientation": "v",
         "showlegend": true,
         "text": [
          "SYC"
         ],
         "type": "scatter",
         "x": [
          16188.781327560499
         ],
         "xaxis": "x",
         "y": [
          11.56277627299975
         ],
         "yaxis": "y"
        },
        {
         "hovertemplate": "country_iso3=%{text}<br>GDP_per_capita_2022=%{x}<br>GDP_per_hour=%{y}<extra></extra>",
         "legendgroup": "SLE",
         "marker": {
          "color": "#B6E880",
          "symbol": "circle"
         },
         "mode": "markers+text",
         "name": "SLE",
         "orientation": "v",
         "showlegend": true,
         "text": [
          "SLE"
         ],
         "type": "scatter",
         "x": [
          626.9020435102716
         ],
         "xaxis": "x",
         "y": [
          0.45893067119335823
         ],
         "yaxis": "y"
        },
        {
         "hovertemplate": "country_iso3=%{text}<br>GDP_per_capita_2022=%{x}<br>GDP_per_hour=%{y}<extra></extra>",
         "legendgroup": "SGP",
         "marker": {
          "color": "#FF97FF",
          "symbol": "circle"
         },
         "mode": "markers+text",
         "name": "SGP",
         "orientation": "v",
         "showlegend": true,
         "text": [
          "SGP"
         ],
         "type": "scatter",
         "x": [
          67948.89282715136
         ],
         "xaxis": "x",
         "y": [
          42.890837339624426
         ],
         "yaxis": "y"
        },
        {
         "hovertemplate": "country_iso3=%{text}<br>GDP_per_capita_2022=%{x}<br>GDP_per_hour=%{y}<extra></extra>",
         "legendgroup": "SXM",
         "marker": {
          "color": "#FECB52",
          "symbol": "circle"
         },
         "mode": "markers+text",
         "name": "SXM",
         "orientation": "v",
         "showlegend": true,
         "text": [
          "SXM"
         ],
         "type": "scatter",
         "x": [
          33305.63186307423
         ],
         "xaxis": "x",
         "y": [
          21.021773929987436
         ],
         "yaxis": "y"
        },
        {
         "hovertemplate": "country_iso3=%{text}<br>GDP_per_capita_2022=%{x}<br>GDP_per_hour=%{y}<extra></extra>",
         "legendgroup": "SVK",
         "marker": {
          "color": "#636efa",
          "symbol": "circle"
         },
         "mode": "markers+text",
         "name": "SVK",
         "orientation": "v",
         "showlegend": true,
         "text": [
          "SVK"
         ],
         "type": "scatter",
         "x": [
          18898.042844063802
         ],
         "xaxis": "x",
         "y": [
          11.789163305850643
         ],
         "yaxis": "y"
        },
        {
         "hovertemplate": "country_iso3=%{text}<br>GDP_per_capita_2022=%{x}<br>GDP_per_hour=%{y}<extra></extra>",
         "legendgroup": "SVN",
         "marker": {
          "color": "#EF553B",
          "symbol": "circle"
         },
         "mode": "markers+text",
         "name": "SVN",
         "orientation": "v",
         "showlegend": true,
         "text": [
          "SVN"
         ],
         "type": "scatter",
         "x": [
          25349.75855335148
         ],
         "xaxis": "x",
         "y": [
          15.604632506625695
         ],
         "yaxis": "y"
        },
        {
         "hovertemplate": "country_iso3=%{text}<br>GDP_per_capita_2022=%{x}<br>GDP_per_hour=%{y}<extra></extra>",
         "legendgroup": "SLB",
         "marker": {
          "color": "#00cc96",
          "symbol": "circle"
         },
         "mode": "markers+text",
         "name": "SLB",
         "orientation": "v",
         "showlegend": true,
         "text": [
          "SLB"
         ],
         "type": "scatter",
         "x": [
          2084.347055552292
         ],
         "xaxis": "x",
         "y": [
          1.3013145733007168
         ],
         "yaxis": "y"
        },
        {
         "hovertemplate": "country_iso3=%{text}<br>GDP_per_capita_2022=%{x}<br>GDP_per_hour=%{y}<extra></extra>",
         "legendgroup": "SOM",
         "marker": {
          "color": "#ab63fa",
          "symbol": "circle"
         },
         "mode": "markers+text",
         "name": "SOM",
         "orientation": "v",
         "showlegend": true,
         "text": [
          "SOM"
         ],
         "type": "scatter",
         "x": [
          509.0750210018716
         ],
         "xaxis": "x",
         "y": [
          1.4694758517091429
         ],
         "yaxis": "y"
        },
        {
         "hovertemplate": "country_iso3=%{text}<br>GDP_per_capita_2022=%{x}<br>GDP_per_hour=%{y}<extra></extra>",
         "legendgroup": "ZAF",
         "marker": {
          "color": "#FFA15A",
          "symbol": "circle"
         },
         "mode": "markers+text",
         "name": "ZAF",
         "orientation": "v",
         "showlegend": true,
         "text": [
          "ZAF"
         ],
         "type": "scatter",
         "x": [
          6022.427508327194
         ],
         "xaxis": "x",
         "y": [
          3.7083818775178514
         ],
         "yaxis": "y"
        },
        {
         "hovertemplate": "country_iso3=%{text}<br>GDP_per_capita_2022=%{x}<br>GDP_per_hour=%{y}<extra></extra>",
         "legendgroup": "SSD",
         "marker": {
          "color": "#19d3f3",
          "symbol": "circle"
         },
         "mode": "markers+text",
         "name": "SSD",
         "orientation": "v",
         "showlegend": true,
         "text": [
          "SSD"
         ],
         "type": "scatter",
         "x": [
          1025
         ],
         "xaxis": "x",
         "y": [
          1.094935793045665
         ],
         "yaxis": "y"
        },
        {
         "hovertemplate": "country_iso3=%{text}<br>GDP_per_capita_2022=%{x}<br>GDP_per_hour=%{y}<extra></extra>",
         "legendgroup": "ESP",
         "marker": {
          "color": "#FF6692",
          "symbol": "circle"
         },
         "mode": "markers+text",
         "name": "ESP",
         "orientation": "v",
         "showlegend": true,
         "text": [
          "ESP"
         ],
         "type": "scatter",
         "x": [
          27702.7452993409
         ],
         "xaxis": "x",
         "y": [
          17.83456366540118
         ],
         "yaxis": "y"
        },
        {
         "hovertemplate": "country_iso3=%{text}<br>GDP_per_capita_2022=%{x}<br>GDP_per_hour=%{y}<extra></extra>",
         "legendgroup": "LKA",
         "marker": {
          "color": "#B6E880",
          "symbol": "circle"
         },
         "mode": "markers+text",
         "name": "LKA",
         "orientation": "v",
         "showlegend": true,
         "text": [
          "LKA"
         ],
         "type": "scatter",
         "x": [
          4035.652667053798
         ],
         "xaxis": "x",
         "y": [
          2.2259825133022457
         ],
         "yaxis": "y"
        },
        {
         "hovertemplate": "country_iso3=%{text}<br>GDP_per_capita_2022=%{x}<br>GDP_per_hour=%{y}<extra></extra>",
         "legendgroup": "PSE",
         "marker": {
          "color": "#FF97FF",
          "symbol": "circle"
         },
         "mode": "markers+text",
         "name": "PSE",
         "orientation": "v",
         "showlegend": true,
         "text": [
          "PSE"
         ],
         "type": "scatter",
         "x": [
          3099.9609010367967
         ],
         "xaxis": "x",
         "y": [
          2.193145003460631
         ],
         "yaxis": "y"
        },
        {
         "hovertemplate": "country_iso3=%{text}<br>GDP_per_capita_2022=%{x}<br>GDP_per_hour=%{y}<extra></extra>",
         "legendgroup": "SDN",
         "marker": {
          "color": "#FECB52",
          "symbol": "circle"
         },
         "mode": "markers+text",
         "name": "SDN",
         "orientation": "v",
         "showlegend": true,
         "text": [
          "SDN"
         ],
         "type": "scatter",
         "x": [
          1025.3212890625
         ],
         "xaxis": "x",
         "y": [
          1.3257875971805049
         ],
         "yaxis": "y"
        },
        {
         "hovertemplate": "country_iso3=%{text}<br>GDP_per_capita_2022=%{x}<br>GDP_per_hour=%{y}<extra></extra>",
         "legendgroup": "SUR",
         "marker": {
          "color": "#636efa",
          "symbol": "circle"
         },
         "mode": "markers+text",
         "name": "SUR",
         "orientation": "v",
         "showlegend": true,
         "text": [
          "SUR"
         ],
         "type": "scatter",
         "x": [
          7141.960436057145
         ],
         "xaxis": "x",
         "y": [
          4.0053229384978675
         ],
         "yaxis": "y"
        },
        {
         "hovertemplate": "country_iso3=%{text}<br>GDP_per_capita_2022=%{x}<br>GDP_per_hour=%{y}<extra></extra>",
         "legendgroup": "SWE",
         "marker": {
          "color": "#EF553B",
          "symbol": "circle"
         },
         "mode": "markers+text",
         "name": "SWE",
         "orientation": "v",
         "showlegend": true,
         "text": [
          "SWE"
         ],
         "type": "scatter",
         "x": [
          55894.161942414736
         ],
         "xaxis": "x",
         "y": [
          38.50972671339384
         ],
         "yaxis": "y"
        },
        {
         "hovertemplate": "country_iso3=%{text}<br>GDP_per_capita_2022=%{x}<br>GDP_per_hour=%{y}<extra></extra>",
         "legendgroup": "CHE",
         "marker": {
          "color": "#00cc96",
          "symbol": "circle"
         },
         "mode": "markers+text",
         "name": "CHE",
         "orientation": "v",
         "showlegend": true,
         "text": [
          "CHE"
         ],
         "type": "scatter",
         "x": [
          90057.03594222333
         ],
         "xaxis": "x",
         "y": [
          57.69461363596822
         ],
         "yaxis": "y"
        },
        {
         "hovertemplate": "country_iso3=%{text}<br>GDP_per_capita_2022=%{x}<br>GDP_per_hour=%{y}<extra></extra>",
         "legendgroup": "SYR",
         "marker": {
          "color": "#ab63fa",
          "symbol": "circle"
         },
         "mode": "markers+text",
         "name": "SYR",
         "orientation": "v",
         "showlegend": true,
         "text": [
          "SYR"
         ],
         "type": "scatter",
         "x": [
          744.6
         ],
         "xaxis": "x",
         "y": [
          0.646922083901267
         ],
         "yaxis": "y"
        },
        {
         "hovertemplate": "country_iso3=%{text}<br>GDP_per_capita_2022=%{x}<br>GDP_per_hour=%{y}<extra></extra>",
         "legendgroup": "TJK",
         "marker": {
          "color": "#FFA15A",
          "symbol": "circle"
         },
         "mode": "markers+text",
         "name": "TJK",
         "orientation": "v",
         "showlegend": true,
         "text": [
          "TJK"
         ],
         "type": "scatter",
         "x": [
          1356.317214386767
         ],
         "xaxis": "x",
         "y": [
          1.1462342318230156
         ],
         "yaxis": "y"
        },
        {
         "hovertemplate": "country_iso3=%{text}<br>GDP_per_capita_2022=%{x}<br>GDP_per_hour=%{y}<extra></extra>",
         "legendgroup": "THA",
         "marker": {
          "color": "#19d3f3",
          "symbol": "circle"
         },
         "mode": "markers+text",
         "name": "THA",
         "orientation": "v",
         "showlegend": true,
         "text": [
          "THA"
         ],
         "type": "scatter",
         "x": [
          6275.926584109547
         ],
         "xaxis": "x",
         "y": [
          3.335401293820275
         ],
         "yaxis": "y"
        },
        {
         "hovertemplate": "country_iso3=%{text}<br>GDP_per_capita_2022=%{x}<br>GDP_per_hour=%{y}<extra></extra>",
         "legendgroup": "TLS",
         "marker": {
          "color": "#FF6692",
          "symbol": "circle"
         },
         "mode": "markers+text",
         "name": "TLS",
         "orientation": "v",
         "showlegend": true,
         "text": [
          "TLS"
         ],
         "type": "scatter",
         "x": [
          1611.4686575542698
         ],
         "xaxis": "x",
         "y": [
          1.302372571605117
         ],
         "yaxis": "y"
        },
        {
         "hovertemplate": "country_iso3=%{text}<br>GDP_per_capita_2022=%{x}<br>GDP_per_hour=%{y}<extra></extra>",
         "legendgroup": "TGO",
         "marker": {
          "color": "#B6E880",
          "symbol": "circle"
         },
         "mode": "markers+text",
         "name": "TGO",
         "orientation": "v",
         "showlegend": true,
         "text": [
          "TGO"
         ],
         "type": "scatter",
         "x": [
          886.265439065731
         ],
         "xaxis": "x",
         "y": [
          0.8506423165652147
         ],
         "yaxis": "y"
        },
        {
         "hovertemplate": "country_iso3=%{text}<br>GDP_per_capita_2022=%{x}<br>GDP_per_hour=%{y}<extra></extra>",
         "legendgroup": "TKL",
         "marker": {
          "color": "#FF97FF",
          "symbol": "circle"
         },
         "mode": "markers+text",
         "name": "TKL",
         "orientation": "v",
         "showlegend": true,
         "text": [
          "TKL"
         ],
         "type": "scatter",
         "x": [
          6275
         ],
         "xaxis": "x",
         "y": [
          3.535814675369093
         ],
         "yaxis": "y"
        },
        {
         "hovertemplate": "country_iso3=%{text}<br>GDP_per_capita_2022=%{x}<br>GDP_per_hour=%{y}<extra></extra>",
         "legendgroup": "TON",
         "marker": {
          "color": "#FECB52",
          "symbol": "circle"
         },
         "mode": "markers+text",
         "name": "TON",
         "orientation": "v",
         "showlegend": true,
         "text": [
          "TON"
         ],
         "type": "scatter",
         "x": [
          4356.771574544929
         ],
         "xaxis": "x",
         "y": [
          3.2735805541566525
         ],
         "yaxis": "y"
        },
        {
         "hovertemplate": "country_iso3=%{text}<br>GDP_per_capita_2022=%{x}<br>GDP_per_hour=%{y}<extra></extra>",
         "legendgroup": "TTO",
         "marker": {
          "color": "#636efa",
          "symbol": "circle"
         },
         "mode": "markers+text",
         "name": "TTO",
         "orientation": "v",
         "showlegend": true,
         "text": [
          "TTO"
         ],
         "type": "scatter",
         "x": [
          14155.174234470454
         ],
         "xaxis": "x",
         "y": [
          8.44331552312854
         ],
         "yaxis": "y"
        },
        {
         "hovertemplate": "country_iso3=%{text}<br>GDP_per_capita_2022=%{x}<br>GDP_per_hour=%{y}<extra></extra>",
         "legendgroup": "TUN",
         "marker": {
          "color": "#EF553B",
          "symbol": "circle"
         },
         "mode": "markers+text",
         "name": "TUN",
         "orientation": "v",
         "showlegend": true,
         "text": [
          "TUN"
         ],
         "type": "scatter",
         "x": [
          3917.6320865584958
         ],
         "xaxis": "x",
         "y": [
          2.5150405662513564
         ],
         "yaxis": "y"
        },
        {
         "hovertemplate": "country_iso3=%{text}<br>GDP_per_capita_2022=%{x}<br>GDP_per_hour=%{y}<extra></extra>",
         "legendgroup": "TKM",
         "marker": {
          "color": "#00cc96",
          "symbol": "circle"
         },
         "mode": "markers+text",
         "name": "TKM",
         "orientation": "v",
         "showlegend": true,
         "text": [
          "TKM"
         ],
         "type": "scatter",
         "x": [
          8489.722265636363
         ],
         "xaxis": "x",
         "y": [
          5.901984749907759
         ],
         "yaxis": "y"
        },
        {
         "hovertemplate": "country_iso3=%{text}<br>GDP_per_capita_2022=%{x}<br>GDP_per_hour=%{y}<extra></extra>",
         "legendgroup": "TCA",
         "marker": {
          "color": "#ab63fa",
          "symbol": "circle"
         },
         "mode": "markers+text",
         "name": "TCA",
         "orientation": "v",
         "showlegend": true,
         "text": [
          "TCA"
         ],
         "type": "scatter",
         "x": [
          20323.14867664111
         ],
         "xaxis": "x",
         "y": [
          12.25727098421358
         ],
         "yaxis": "y"
        },
        {
         "hovertemplate": "country_iso3=%{text}<br>GDP_per_capita_2022=%{x}<br>GDP_per_hour=%{y}<extra></extra>",
         "legendgroup": "TUV",
         "marker": {
          "color": "#FFA15A",
          "symbol": "circle"
         },
         "mode": "markers+text",
         "name": "TUV",
         "orientation": "v",
         "showlegend": true,
         "text": [
          "TUV"
         ],
         "type": "scatter",
         "x": [
          3988.4059207591736
         ],
         "xaxis": "x",
         "y": [
          3.245799426816253
         ],
         "yaxis": "y"
        },
        {
         "hovertemplate": "country_iso3=%{text}<br>GDP_per_capita_2022=%{x}<br>GDP_per_hour=%{y}<extra></extra>",
         "legendgroup": "TUR",
         "marker": {
          "color": "#19d3f3",
          "symbol": "circle"
         },
         "mode": "markers+text",
         "name": "TUR",
         "orientation": "v",
         "showlegend": true,
         "text": [
          "TUR"
         ],
         "type": "scatter",
         "x": [
          14055.105564877724
         ],
         "xaxis": "x",
         "y": [
          7.93411009003112
         ],
         "yaxis": "y"
        },
        {
         "hovertemplate": "country_iso3=%{text}<br>GDP_per_capita_2022=%{x}<br>GDP_per_hour=%{y}<extra></extra>",
         "legendgroup": "UGA",
         "marker": {
          "color": "#FF6692",
          "symbol": "circle"
         },
         "mode": "markers+text",
         "name": "UGA",
         "orientation": "v",
         "showlegend": true,
         "text": [
          "UGA"
         ],
         "type": "scatter",
         "x": [
          934.3408389644899
         ],
         "xaxis": "x",
         "y": [
          0.6525251446590018
         ],
         "yaxis": "y"
        },
        {
         "hovertemplate": "country_iso3=%{text}<br>GDP_per_capita_2022=%{x}<br>GDP_per_hour=%{y}<extra></extra>",
         "legendgroup": "UKR",
         "marker": {
          "color": "#B6E880",
          "symbol": "circle"
         },
         "mode": "markers+text",
         "name": "UKR",
         "orientation": "v",
         "showlegend": true,
         "text": [
          "UKR"
         ],
         "type": "scatter",
         "x": [
          2042.63903808594
         ],
         "xaxis": "x",
         "y": [
          1.6064268356508502
         ],
         "yaxis": "y"
        },
        {
         "hovertemplate": "country_iso3=%{text}<br>GDP_per_capita_2022=%{x}<br>GDP_per_hour=%{y}<extra></extra>",
         "legendgroup": "ARE",
         "marker": {
          "color": "#FF97FF",
          "symbol": "circle"
         },
         "mode": "markers+text",
         "name": "ARE",
         "orientation": "v",
         "showlegend": true,
         "text": [
          "ARE"
         ],
         "type": "scatter",
         "x": [
          45698.01052901144
         ],
         "xaxis": "x",
         "y": [
          16.69623213975065
         ],
         "yaxis": "y"
        },
        {
         "hovertemplate": "country_iso3=%{text}<br>GDP_per_capita_2022=%{x}<br>GDP_per_hour=%{y}<extra></extra>",
         "legendgroup": "GBR",
         "marker": {
          "color": "#FECB52",
          "symbol": "circle"
         },
         "mode": "markers+text",
         "name": "GBR",
         "orientation": "v",
         "showlegend": true,
         "text": [
          "GBR"
         ],
         "type": "scatter",
         "x": [
          47343.47437769478
         ],
         "xaxis": "x",
         "y": [
          31.96009243402007
         ],
         "yaxis": "y"
        },
        {
         "hovertemplate": "country_iso3=%{text}<br>GDP_per_capita_2022=%{x}<br>GDP_per_hour=%{y}<extra></extra>",
         "legendgroup": "TZA",
         "marker": {
          "color": "#636efa",
          "symbol": "circle"
         },
         "mode": "markers+text",
         "name": "TZA",
         "orientation": "v",
         "showlegend": true,
         "text": [
          "TZA"
         ],
         "type": "scatter",
         "x": [
          1057.73901367188
         ],
         "xaxis": "x",
         "y": [
          0.8049351009824492
         ],
         "yaxis": "y"
        },
        {
         "hovertemplate": "country_iso3=%{text}<br>GDP_per_capita_2022=%{x}<br>GDP_per_hour=%{y}<extra></extra>",
         "legendgroup": "URY",
         "marker": {
          "color": "#EF553B",
          "symbol": "circle"
         },
         "mode": "markers+text",
         "name": "URY",
         "orientation": "v",
         "showlegend": true,
         "text": [
          "URY"
         ],
         "type": "scatter",
         "x": [
          18044.047417051286
         ],
         "xaxis": "x",
         "y": [
          11.167597380138783
         ],
         "yaxis": "y"
        },
        {
         "hovertemplate": "country_iso3=%{text}<br>GDP_per_capita_2022=%{x}<br>GDP_per_hour=%{y}<extra></extra>",
         "legendgroup": "UZB",
         "marker": {
          "color": "#00cc96",
          "symbol": "circle"
         },
         "mode": "markers+text",
         "name": "UZB",
         "orientation": "v",
         "showlegend": true,
         "text": [
          "UZB"
         ],
         "type": "scatter",
         "x": [
          3473.3616434752907
         ],
         "xaxis": "x",
         "y": [
          2.3111923409638164
         ],
         "yaxis": "y"
        },
        {
         "hovertemplate": "country_iso3=%{text}<br>GDP_per_capita_2022=%{x}<br>GDP_per_hour=%{y}<extra></extra>",
         "legendgroup": "VUT",
         "marker": {
          "color": "#ab63fa",
          "symbol": "circle"
         },
         "mode": "markers+text",
         "name": "VUT",
         "orientation": "v",
         "showlegend": true,
         "text": [
          "VUT"
         ],
         "type": "scatter",
         "x": [
          2521.260894030612
         ],
         "xaxis": "x",
         "y": [
          2.7271289321654235
         ],
         "yaxis": "y"
        },
        {
         "hovertemplate": "country_iso3=%{text}<br>GDP_per_capita_2022=%{x}<br>GDP_per_hour=%{y}<extra></extra>",
         "legendgroup": "VEN",
         "marker": {
          "color": "#FFA15A",
          "symbol": "circle"
         },
         "mode": "markers+text",
         "name": "VEN",
         "orientation": "v",
         "showlegend": true,
         "text": [
          "VEN"
         ],
         "type": "scatter",
         "x": [
          4569
         ],
         "xaxis": "x",
         "y": [
          2.1152816150489677
         ],
         "yaxis": "y"
        },
        {
         "hovertemplate": "country_iso3=%{text}<br>GDP_per_capita_2022=%{x}<br>GDP_per_hour=%{y}<extra></extra>",
         "legendgroup": "VNM",
         "marker": {
          "color": "#19d3f3",
          "symbol": "circle"
         },
         "mode": "markers+text",
         "name": "VNM",
         "orientation": "v",
         "showlegend": true,
         "text": [
          "VNM"
         ],
         "type": "scatter",
         "x": [
          3658.6931628008565
         ],
         "xaxis": "x",
         "y": [
          1.9942706886850101
         ],
         "yaxis": "y"
        },
        {
         "hovertemplate": "country_iso3=%{text}<br>GDP_per_capita_2022=%{x}<br>GDP_per_hour=%{y}<extra></extra>",
         "legendgroup": "WLF",
         "marker": {
          "color": "#FF6692",
          "symbol": "circle"
         },
         "mode": "markers+text",
         "name": "WLF",
         "orientation": "v",
         "showlegend": true,
         "text": [
          "WLF"
         ],
         "type": "scatter",
         "x": [
          12460
         ],
         "xaxis": "x",
         "y": [
          8.791206284113958
         ],
         "yaxis": "y"
        },
        {
         "hovertemplate": "country_iso3=%{text}<br>GDP_per_capita_2022=%{x}<br>GDP_per_hour=%{y}<extra></extra>",
         "legendgroup": "YEM",
         "marker": {
          "color": "#B6E880",
          "symbol": "circle"
         },
         "mode": "markers+text",
         "name": "YEM",
         "orientation": "v",
         "showlegend": true,
         "text": [
          "YEM"
         ],
         "type": "scatter",
         "x": [
          1017.8731085890607
         ],
         "xaxis": "x",
         "y": [
          0.6704157860775688
         ],
         "yaxis": "y"
        },
        {
         "hovertemplate": "country_iso3=%{text}<br>GDP_per_capita_2022=%{x}<br>GDP_per_hour=%{y}<extra></extra>",
         "legendgroup": "ZMB",
         "marker": {
          "color": "#FF97FF",
          "symbol": "circle"
         },
         "mode": "markers+text",
         "name": "ZMB",
         "orientation": "v",
         "showlegend": true,
         "text": [
          "ZMB"
         ],
         "type": "scatter",
         "x": [
          1308.1018384753302
         ],
         "xaxis": "x",
         "y": [
          0.9955215530400411
         ],
         "yaxis": "y"
        },
        {
         "hovertemplate": "country_iso3=%{text}<br>GDP_per_capita_2022=%{x}<br>GDP_per_hour=%{y}<extra></extra>",
         "legendgroup": "ZWE",
         "marker": {
          "color": "#FECB52",
          "symbol": "circle"
         },
         "mode": "markers+text",
         "name": "ZWE",
         "orientation": "v",
         "showlegend": true,
         "text": [
          "ZWE"
         ],
         "type": "scatter",
         "x": [
          1345.7690825147065
         ],
         "xaxis": "x",
         "y": [
          0.9373937833321542
         ],
         "yaxis": "y"
        },
        {
         "line": {
          "color": "blue"
         },
         "mode": "lines",
         "name": "Trendline",
         "type": "scatter",
         "x": [
          262.18480466159656,
          1395.207020107222,
          2528.2292355528475,
          3661.251450998473,
          4794.273666444099,
          5927.295881889725,
          7060.31809733535,
          8193.340312780974,
          9326.3625282266,
          10459.384743672226,
          11592.406959117852,
          12725.429174563476,
          13858.451390009102,
          14991.473605454728,
          16124.495820900353,
          17257.51803634598,
          18390.540251791605,
          19523.56246723723,
          20656.584682682857,
          21789.60689812848,
          22922.62911357411,
          24055.651329019733,
          25188.673544465357,
          26321.695759910985,
          27454.71797535661,
          28587.740190802233,
          29720.76240624786,
          30853.784621693485,
          31986.80683713911,
          33119.82905258474,
          34252.85126803037,
          35385.87348347599,
          36518.89569892162,
          37651.917914367245,
          38784.940129812865,
          39917.96234525849,
          41050.98456070412,
          42184.00677614974,
          43317.02899159537,
          44450.051207041,
          45583.073422486625,
          46716.095637932245,
          47849.11785337787,
          48982.1400688235,
          50115.16228426912,
          51248.18449971475,
          52381.20671516038,
          53514.228930606,
          54647.251146051625,
          55780.27336149725,
          56913.29557694287,
          58046.3177923885,
          59179.34000783413,
          60312.36222327975,
          61445.38443872538,
          62578.406654171005,
          63711.428869616626,
          64844.451085062254,
          65977.47330050787,
          67110.4955159535,
          68243.51773139913,
          69376.53994684474,
          70509.56216229037,
          71642.584377736,
          72775.60659318163,
          73908.62880862725,
          75041.65102407288,
          76174.67323951851,
          77307.69545496412,
          78440.71767040975,
          79573.73988585538,
          80706.762101301,
          81839.78431674663,
          82972.80653219226,
          84105.82874763788,
          85238.8509630835,
          86371.87317852913,
          87504.89539397476,
          88637.91760942039,
          89770.93982486601,
          90903.96204031164,
          92036.98425575726,
          93170.00647120288,
          94303.02868664851,
          95436.05090209414,
          96569.07311753977,
          97702.0953329854,
          98835.11754843101,
          99968.13976387664,
          101101.16197932226,
          102234.18419476789,
          103367.20641021352,
          104500.22862565915,
          105633.25084110476,
          106766.27305655039,
          107899.29527199602,
          109032.31748744164,
          110165.33970288727,
          111298.3619183329,
          112431.38413377851
         ],
         "y": [
          -0.025818592997473022,
          0.7269001935829656,
          1.4796189801634045,
          2.2323377667438433,
          2.985056553324282,
          3.7377753399047213,
          4.490494126485159,
          5.243212913065597,
          5.995931699646036,
          6.748650486226475,
          7.501369272806914,
          8.254088059387353,
          9.006806845967791,
          9.75952563254823,
          10.512244419128669,
          11.264963205709108,
          12.017681992289546,
          12.770400778869984,
          13.523119565450425,
          14.275838352030863,
          15.028557138611303,
          15.781275925191741,
          16.533994711772177,
          17.28671349835262,
          18.039432284933056,
          18.792151071513494,
          19.544869858093932,
          20.29758864467437,
          21.050307431254808,
          21.80302621783525,
          22.55574500441569,
          23.308463790996125,
          24.061182577576567,
          24.813901364157008,
          25.566620150737442,
          26.319338937317884,
          27.07205772389832,
          27.82477651047876,
          28.577495297059198,
          29.33021408363964,
          30.08293287022008,
          30.835651656800515,
          31.588370443380956,
          32.3410892299614,
          33.093808016541836,
          33.84652680312227,
          34.59924558970271,
          35.35196437628315,
          36.10468316286359,
          36.85740194944403,
          37.61012073602446,
          38.36283952260491,
          39.115558309185346,
          39.868277095765784,
          40.62099588234622,
          41.37371466892666,
          42.1264334555071,
          42.879152242087535,
          43.63187102866797,
          44.38458981524841,
          45.137308601828856,
          45.89002738840929,
          46.642746174989725,
          47.39546496157016,
          48.14818374815061,
          48.900902534731046,
          49.65362132131148,
          50.40634010789193,
          51.15905889447236,
          51.9117776810528,
          52.664496467633235,
          53.41721525421368,
          54.16993404079412,
          54.922652827374556,
          55.67537161395499,
          56.42809040053543,
          57.18080918711587,
          57.93352797369631,
          58.68624676027675,
          59.43896554685719,
          60.19168433343763,
          60.94440312001806,
          61.6971219065985,
          62.44984069317894,
          63.20255947975938,
          63.95527826633982,
          64.70799705292026,
          65.4607158395007,
          66.21343462608114,
          66.96615341266157,
          67.71887219924201,
          68.47159098582246,
          69.22430977240289,
          69.97702855898332,
          70.72974734556377,
          71.48246613214421,
          72.23518491872464,
          72.98790370530509,
          73.74062249188553,
          74.49334127846596
         ]
        }
       ],
       "layout": {
        "legend": {
         "title": {
          "text": "country_iso3"
         },
         "tracegroupgap": 0
        },
        "margin": {
         "t": 60
        },
        "template": {
         "data": {
          "bar": [
           {
            "error_x": {
             "color": "#2a3f5f"
            },
            "error_y": {
             "color": "#2a3f5f"
            },
            "marker": {
             "line": {
              "color": "#E5ECF6",
              "width": 0.5
             },
             "pattern": {
              "fillmode": "overlay",
              "size": 10,
              "solidity": 0.2
             }
            },
            "type": "bar"
           }
          ],
          "barpolar": [
           {
            "marker": {
             "line": {
              "color": "#E5ECF6",
              "width": 0.5
             },
             "pattern": {
              "fillmode": "overlay",
              "size": 10,
              "solidity": 0.2
             }
            },
            "type": "barpolar"
           }
          ],
          "carpet": [
           {
            "aaxis": {
             "endlinecolor": "#2a3f5f",
             "gridcolor": "white",
             "linecolor": "white",
             "minorgridcolor": "white",
             "startlinecolor": "#2a3f5f"
            },
            "baxis": {
             "endlinecolor": "#2a3f5f",
             "gridcolor": "white",
             "linecolor": "white",
             "minorgridcolor": "white",
             "startlinecolor": "#2a3f5f"
            },
            "type": "carpet"
           }
          ],
          "choropleth": [
           {
            "colorbar": {
             "outlinewidth": 0,
             "ticks": ""
            },
            "type": "choropleth"
           }
          ],
          "contour": [
           {
            "colorbar": {
             "outlinewidth": 0,
             "ticks": ""
            },
            "colorscale": [
             [
              0,
              "#0d0887"
             ],
             [
              0.1111111111111111,
              "#46039f"
             ],
             [
              0.2222222222222222,
              "#7201a8"
             ],
             [
              0.3333333333333333,
              "#9c179e"
             ],
             [
              0.4444444444444444,
              "#bd3786"
             ],
             [
              0.5555555555555556,
              "#d8576b"
             ],
             [
              0.6666666666666666,
              "#ed7953"
             ],
             [
              0.7777777777777778,
              "#fb9f3a"
             ],
             [
              0.8888888888888888,
              "#fdca26"
             ],
             [
              1,
              "#f0f921"
             ]
            ],
            "type": "contour"
           }
          ],
          "contourcarpet": [
           {
            "colorbar": {
             "outlinewidth": 0,
             "ticks": ""
            },
            "type": "contourcarpet"
           }
          ],
          "heatmap": [
           {
            "colorbar": {
             "outlinewidth": 0,
             "ticks": ""
            },
            "colorscale": [
             [
              0,
              "#0d0887"
             ],
             [
              0.1111111111111111,
              "#46039f"
             ],
             [
              0.2222222222222222,
              "#7201a8"
             ],
             [
              0.3333333333333333,
              "#9c179e"
             ],
             [
              0.4444444444444444,
              "#bd3786"
             ],
             [
              0.5555555555555556,
              "#d8576b"
             ],
             [
              0.6666666666666666,
              "#ed7953"
             ],
             [
              0.7777777777777778,
              "#fb9f3a"
             ],
             [
              0.8888888888888888,
              "#fdca26"
             ],
             [
              1,
              "#f0f921"
             ]
            ],
            "type": "heatmap"
           }
          ],
          "heatmapgl": [
           {
            "colorbar": {
             "outlinewidth": 0,
             "ticks": ""
            },
            "colorscale": [
             [
              0,
              "#0d0887"
             ],
             [
              0.1111111111111111,
              "#46039f"
             ],
             [
              0.2222222222222222,
              "#7201a8"
             ],
             [
              0.3333333333333333,
              "#9c179e"
             ],
             [
              0.4444444444444444,
              "#bd3786"
             ],
             [
              0.5555555555555556,
              "#d8576b"
             ],
             [
              0.6666666666666666,
              "#ed7953"
             ],
             [
              0.7777777777777778,
              "#fb9f3a"
             ],
             [
              0.8888888888888888,
              "#fdca26"
             ],
             [
              1,
              "#f0f921"
             ]
            ],
            "type": "heatmapgl"
           }
          ],
          "histogram": [
           {
            "marker": {
             "pattern": {
              "fillmode": "overlay",
              "size": 10,
              "solidity": 0.2
             }
            },
            "type": "histogram"
           }
          ],
          "histogram2d": [
           {
            "colorbar": {
             "outlinewidth": 0,
             "ticks": ""
            },
            "colorscale": [
             [
              0,
              "#0d0887"
             ],
             [
              0.1111111111111111,
              "#46039f"
             ],
             [
              0.2222222222222222,
              "#7201a8"
             ],
             [
              0.3333333333333333,
              "#9c179e"
             ],
             [
              0.4444444444444444,
              "#bd3786"
             ],
             [
              0.5555555555555556,
              "#d8576b"
             ],
             [
              0.6666666666666666,
              "#ed7953"
             ],
             [
              0.7777777777777778,
              "#fb9f3a"
             ],
             [
              0.8888888888888888,
              "#fdca26"
             ],
             [
              1,
              "#f0f921"
             ]
            ],
            "type": "histogram2d"
           }
          ],
          "histogram2dcontour": [
           {
            "colorbar": {
             "outlinewidth": 0,
             "ticks": ""
            },
            "colorscale": [
             [
              0,
              "#0d0887"
             ],
             [
              0.1111111111111111,
              "#46039f"
             ],
             [
              0.2222222222222222,
              "#7201a8"
             ],
             [
              0.3333333333333333,
              "#9c179e"
             ],
             [
              0.4444444444444444,
              "#bd3786"
             ],
             [
              0.5555555555555556,
              "#d8576b"
             ],
             [
              0.6666666666666666,
              "#ed7953"
             ],
             [
              0.7777777777777778,
              "#fb9f3a"
             ],
             [
              0.8888888888888888,
              "#fdca26"
             ],
             [
              1,
              "#f0f921"
             ]
            ],
            "type": "histogram2dcontour"
           }
          ],
          "mesh3d": [
           {
            "colorbar": {
             "outlinewidth": 0,
             "ticks": ""
            },
            "type": "mesh3d"
           }
          ],
          "parcoords": [
           {
            "line": {
             "colorbar": {
              "outlinewidth": 0,
              "ticks": ""
             }
            },
            "type": "parcoords"
           }
          ],
          "pie": [
           {
            "automargin": true,
            "type": "pie"
           }
          ],
          "scatter": [
           {
            "fillpattern": {
             "fillmode": "overlay",
             "size": 10,
             "solidity": 0.2
            },
            "type": "scatter"
           }
          ],
          "scatter3d": [
           {
            "line": {
             "colorbar": {
              "outlinewidth": 0,
              "ticks": ""
             }
            },
            "marker": {
             "colorbar": {
              "outlinewidth": 0,
              "ticks": ""
             }
            },
            "type": "scatter3d"
           }
          ],
          "scattercarpet": [
           {
            "marker": {
             "colorbar": {
              "outlinewidth": 0,
              "ticks": ""
             }
            },
            "type": "scattercarpet"
           }
          ],
          "scattergeo": [
           {
            "marker": {
             "colorbar": {
              "outlinewidth": 0,
              "ticks": ""
             }
            },
            "type": "scattergeo"
           }
          ],
          "scattergl": [
           {
            "marker": {
             "colorbar": {
              "outlinewidth": 0,
              "ticks": ""
             }
            },
            "type": "scattergl"
           }
          ],
          "scattermapbox": [
           {
            "marker": {
             "colorbar": {
              "outlinewidth": 0,
              "ticks": ""
             }
            },
            "type": "scattermapbox"
           }
          ],
          "scatterpolar": [
           {
            "marker": {
             "colorbar": {
              "outlinewidth": 0,
              "ticks": ""
             }
            },
            "type": "scatterpolar"
           }
          ],
          "scatterpolargl": [
           {
            "marker": {
             "colorbar": {
              "outlinewidth": 0,
              "ticks": ""
             }
            },
            "type": "scatterpolargl"
           }
          ],
          "scatterternary": [
           {
            "marker": {
             "colorbar": {
              "outlinewidth": 0,
              "ticks": ""
             }
            },
            "type": "scatterternary"
           }
          ],
          "surface": [
           {
            "colorbar": {
             "outlinewidth": 0,
             "ticks": ""
            },
            "colorscale": [
             [
              0,
              "#0d0887"
             ],
             [
              0.1111111111111111,
              "#46039f"
             ],
             [
              0.2222222222222222,
              "#7201a8"
             ],
             [
              0.3333333333333333,
              "#9c179e"
             ],
             [
              0.4444444444444444,
              "#bd3786"
             ],
             [
              0.5555555555555556,
              "#d8576b"
             ],
             [
              0.6666666666666666,
              "#ed7953"
             ],
             [
              0.7777777777777778,
              "#fb9f3a"
             ],
             [
              0.8888888888888888,
              "#fdca26"
             ],
             [
              1,
              "#f0f921"
             ]
            ],
            "type": "surface"
           }
          ],
          "table": [
           {
            "cells": {
             "fill": {
              "color": "#EBF0F8"
             },
             "line": {
              "color": "white"
             }
            },
            "header": {
             "fill": {
              "color": "#C8D4E3"
             },
             "line": {
              "color": "white"
             }
            },
            "type": "table"
           }
          ]
         },
         "layout": {
          "annotationdefaults": {
           "arrowcolor": "#2a3f5f",
           "arrowhead": 0,
           "arrowwidth": 1
          },
          "autotypenumbers": "strict",
          "coloraxis": {
           "colorbar": {
            "outlinewidth": 0,
            "ticks": ""
           }
          },
          "colorscale": {
           "diverging": [
            [
             0,
             "#8e0152"
            ],
            [
             0.1,
             "#c51b7d"
            ],
            [
             0.2,
             "#de77ae"
            ],
            [
             0.3,
             "#f1b6da"
            ],
            [
             0.4,
             "#fde0ef"
            ],
            [
             0.5,
             "#f7f7f7"
            ],
            [
             0.6,
             "#e6f5d0"
            ],
            [
             0.7,
             "#b8e186"
            ],
            [
             0.8,
             "#7fbc41"
            ],
            [
             0.9,
             "#4d9221"
            ],
            [
             1,
             "#276419"
            ]
           ],
           "sequential": [
            [
             0,
             "#0d0887"
            ],
            [
             0.1111111111111111,
             "#46039f"
            ],
            [
             0.2222222222222222,
             "#7201a8"
            ],
            [
             0.3333333333333333,
             "#9c179e"
            ],
            [
             0.4444444444444444,
             "#bd3786"
            ],
            [
             0.5555555555555556,
             "#d8576b"
            ],
            [
             0.6666666666666666,
             "#ed7953"
            ],
            [
             0.7777777777777778,
             "#fb9f3a"
            ],
            [
             0.8888888888888888,
             "#fdca26"
            ],
            [
             1,
             "#f0f921"
            ]
           ],
           "sequentialminus": [
            [
             0,
             "#0d0887"
            ],
            [
             0.1111111111111111,
             "#46039f"
            ],
            [
             0.2222222222222222,
             "#7201a8"
            ],
            [
             0.3333333333333333,
             "#9c179e"
            ],
            [
             0.4444444444444444,
             "#bd3786"
            ],
            [
             0.5555555555555556,
             "#d8576b"
            ],
            [
             0.6666666666666666,
             "#ed7953"
            ],
            [
             0.7777777777777778,
             "#fb9f3a"
            ],
            [
             0.8888888888888888,
             "#fdca26"
            ],
            [
             1,
             "#f0f921"
            ]
           ]
          },
          "colorway": [
           "#636efa",
           "#EF553B",
           "#00cc96",
           "#ab63fa",
           "#FFA15A",
           "#19d3f3",
           "#FF6692",
           "#B6E880",
           "#FF97FF",
           "#FECB52"
          ],
          "font": {
           "color": "#2a3f5f"
          },
          "geo": {
           "bgcolor": "white",
           "lakecolor": "white",
           "landcolor": "#E5ECF6",
           "showlakes": true,
           "showland": true,
           "subunitcolor": "white"
          },
          "hoverlabel": {
           "align": "left"
          },
          "hovermode": "closest",
          "mapbox": {
           "style": "light"
          },
          "paper_bgcolor": "white",
          "plot_bgcolor": "#E5ECF6",
          "polar": {
           "angularaxis": {
            "gridcolor": "white",
            "linecolor": "white",
            "ticks": ""
           },
           "bgcolor": "#E5ECF6",
           "radialaxis": {
            "gridcolor": "white",
            "linecolor": "white",
            "ticks": ""
           }
          },
          "scene": {
           "xaxis": {
            "backgroundcolor": "#E5ECF6",
            "gridcolor": "white",
            "gridwidth": 2,
            "linecolor": "white",
            "showbackground": true,
            "ticks": "",
            "zerolinecolor": "white"
           },
           "yaxis": {
            "backgroundcolor": "#E5ECF6",
            "gridcolor": "white",
            "gridwidth": 2,
            "linecolor": "white",
            "showbackground": true,
            "ticks": "",
            "zerolinecolor": "white"
           },
           "zaxis": {
            "backgroundcolor": "#E5ECF6",
            "gridcolor": "white",
            "gridwidth": 2,
            "linecolor": "white",
            "showbackground": true,
            "ticks": "",
            "zerolinecolor": "white"
           }
          },
          "shapedefaults": {
           "line": {
            "color": "#2a3f5f"
           }
          },
          "ternary": {
           "aaxis": {
            "gridcolor": "white",
            "linecolor": "white",
            "ticks": ""
           },
           "baxis": {
            "gridcolor": "white",
            "linecolor": "white",
            "ticks": ""
           },
           "bgcolor": "#E5ECF6",
           "caxis": {
            "gridcolor": "white",
            "linecolor": "white",
            "ticks": ""
           }
          },
          "title": {
           "x": 0.05
          },
          "xaxis": {
           "automargin": true,
           "gridcolor": "white",
           "linecolor": "white",
           "ticks": "",
           "title": {
            "standoff": 15
           },
           "zerolinecolor": "white",
           "zerolinewidth": 2
          },
          "yaxis": {
           "automargin": true,
           "gridcolor": "white",
           "linecolor": "white",
           "ticks": "",
           "title": {
            "standoff": 15
           },
           "zerolinecolor": "white",
           "zerolinewidth": 2
          }
         }
        },
        "title": {
         "text": "GDP_per_hour vs. GDP_per_capita"
        },
        "xaxis": {
         "anchor": "y",
         "domain": [
          0,
          1
         ],
         "title": {
          "text": "GDP_per_capita"
         }
        },
        "yaxis": {
         "anchor": "x",
         "domain": [
          0,
          1
         ],
         "title": {
          "text": "GDP_per_hour"
         }
        }
       }
      }
     },
     "metadata": {},
     "output_type": "display_data"
    }
   ],
   "source": [
    "#Build scatterplot of gdp_per_hour vs gdp_per_capita to show the performance of the regression model\n",
    "fig = px.scatter(marged_comtrade_gdp_per_hour_per_gdpper_capita, x=\"GDP_per_capita_2022\", y=\"GDP_per_hour\", color='country_iso3', text='country_iso3')\n",
    "fig.update_layout(\n",
    "  title=\"GDP_per_hour vs. GDP_per_capita\",\n",
    "  xaxis_title=\"GDP_per_capita\",\n",
    "  yaxis_title=\"GDP_per_hour\",\n",
    ")\n",
    "# Prepare the data for regression\n",
    "x = marged_comtrade_gdp_per_hour_per_gdpper_capita['GDP_per_capita_2022']\n",
    "y = marged_comtrade_gdp_per_hour_per_gdpper_capita['GDP_per_hour']\n",
    "\n",
    "# Add a constant to the predictor variable for the intercept\n",
    "x_with_constant = sm.add_constant(x)\n",
    "\n",
    "# Fit the ordinary least squares regression model\n",
    "model = sm.OLS(y, x_with_constant).fit()\n",
    "\n",
    "# Get the regression line\n",
    "x_reg = pd.Series(np.linspace(x.min(), x.max(), num=100))\n",
    "x_reg_with_constant = sm.add_constant(x_reg)\n",
    "y_reg = model.predict(x_reg_with_constant)\n",
    "\n",
    "# Add trendline to the plot\n",
    "fig.add_scatter(x=x_reg, y=y_reg, mode='lines', name='Trendline', line=dict(color='blue'))\n",
    "fig.show()"
   ]
  },
  {
   "cell_type": "markdown",
   "metadata": {
    "id": "MUQKLQgmvwkk"
   },
   "source": []
  },
  {
   "cell_type": "markdown",
   "metadata": {
    "id": "SbY7D5tWuVxE"
   },
   "source": [
    "# calculate the toal_hours_needed_to_produce_in_USA which will be the constant_usd divided by the GDP_per_hour\n"
   ]
  },
  {
   "cell_type": "code",
   "execution_count": 47,
   "metadata": {
    "colab": {
     "base_uri": "https://localhost:8080/"
    },
    "executionInfo": {
     "elapsed": 40,
     "status": "ok",
     "timestamp": 1731063111639,
     "user": {
      "displayName": "Oluwatobiloba Odeyemi",
      "userId": "00587895885485655319"
     },
     "user_tz": -60
    },
    "id": "fTXbpmMLuVxE",
    "outputId": "6bca1ce1-5b01-4a38-c147-e1b881d3bed5"
   },
   "outputs": [
    {
     "name": "stdout",
     "output_type": "stream",
     "text": [
      "Total hours to produce products in the USA: 421853272043.6156.\n",
      "Total hours to produce services in the USA: 47951105623.27837.\n"
     ]
    },
    {
     "name": "stderr",
     "output_type": "stream",
     "text": [
      "C:\\Users\\PC\\AppData\\Local\\Temp\\ipykernel_12956\\629666990.py:23: SettingWithCopyWarning:\n",
      "\n",
      "\n",
      "A value is trying to be set on a copy of a slice from a DataFrame.\n",
      "Try using .loc[row_indexer,col_indexer] = value instead\n",
      "\n",
      "See the caveats in the documentation: https://pandas.pydata.org/pandas-docs/stable/user_guide/indexing.html#returning-a-view-versus-a-copy\n",
      "\n"
     ]
    }
   ],
   "source": [
    "#calculate total hours for products\n",
    "total_hours_produce_in_USA = marged_comtrade_gdp_per_hour_per_gdpper_capita\n",
    "total_hours_produce_in_USA['toal_hours_needed_to_produce_in_USA'] = total_hours_produce_in_USA['constant_usd'] / total_hours_produce_in_USA['GDP_per_hour']\n",
    "total_hours_products = total_hours_produce_in_USA['toal_hours_needed_to_produce_in_USA'].sum()\n",
    "\n",
    "#print result of total hours for products\n",
    "print(f'Total hours to produce products in the USA: {total_hours_products}.')\n",
    "\n",
    "#Calculate for Services\n",
    "def services(df):\n",
    "\n",
    "    #Get the service 2022 data set\n",
    "    services = df.copy() #make a capy of the dataframe\n",
    "\n",
    "    #Get the service value\n",
    "    service_value = services[services['SECTOR'] == 'Memo item: Total services']\n",
    "\n",
    "    #Get average GDP_per_hour of the exporting countries\n",
    "    avarage_gdp_per_hour = marged_comtrade_gdp_per_hour_per_gdpper_capita['GDP_per_hour'].mean() # This will be used to get the total hours used by dividing the service constant value by the average_gdp_per_hours\n",
    "    avarage_index_for_service = marged_comtrade_gdp_per_hour_per_gdpper_capita['index'].mean() # This will be used to discount the service value to constant 2015\n",
    "\n",
    "    #main calculation\n",
    "    service_value['total_service_hours'] = (((service_value['VALUE'] * 1000000) / avarage_index_for_service) * 100)  / avarage_gdp_per_hour\n",
    "\n",
    "\n",
    "\n",
    "    return service_value\n",
    "\n",
    "total_service_hours =services(services_df_2022)\n",
    "\n",
    "total_hours_services = total_service_hours['total_service_hours'].sum()\n",
    "\n",
    "#print result of total hours for services\n",
    "print(f'Total hours to produce services in the USA: {total_hours_services}.')\n"
   ]
  },
  {
   "cell_type": "markdown",
   "metadata": {
    "id": "381-Y27Z39J7"
   },
   "source": [
    "# Answers to the objectives"
   ]
  },
  {
   "cell_type": "code",
   "execution_count": 48,
   "metadata": {
    "colab": {
     "base_uri": "https://localhost:8080/"
    },
    "executionInfo": {
     "elapsed": 34,
     "status": "ok",
     "timestamp": 1731063111639,
     "user": {
      "displayName": "Oluwatobiloba Odeyemi",
      "userId": "00587895885485655319"
     },
     "user_tz": -60
    },
    "id": "4m_gQM1euVxF",
    "outputId": "9f5a9bce-acca-46fb-89e0-196c84f26e13"
   },
   "outputs": [
    {
     "name": "stdout",
     "output_type": "stream",
     "text": [
      " Total hours to be worked to produce products internally: 421853272043.6156\n",
      " Total hours to be worked to produce services internally: 47951105623.27837\n",
      " Total hours to be worked to produce products and services internally: 469804377666.894\n",
      " Total hours worked to produce products and services at current GDP 2022: 523670559867.00006\n",
      " Percentage increase in hours worked: 89.71\n",
      " US current workforce: 263973465.00000003\n",
      " New workforce to produce imports in the USA: 500793899.3516958\n"
     ]
    }
   ],
   "source": [
    "# Deatermine total hours to work in order to produce internally\n",
    "total_hours_to_be_worked = total_hours_products + total_hours_services\n",
    "\n",
    "# Get current yearly hours worked to produce the GDP in the US at constant 2015\n",
    "total_hours_worked_US = final_merged_data[final_merged_data['country_iso3'] == 'USA']['total_yearly_hours'].sum()\n",
    "\n",
    "# Percentage hours increase\n",
    "hours_increase_percentage = (total_hours_to_be_worked / total_hours_worked_US) *100\n",
    "\n",
    "# Get working population in the USA\n",
    "US_working_population = cleaned_wp[cleaned_wp['country'] == 'United States of America']['no_working_population'].sum()\n",
    "\n",
    "#Get new population workforce to produce internally\n",
    "new_workforce_to_product_internally = US_working_population * (1 + (hours_increase_percentage / 100)).sum()\n",
    "\n",
    "# print results\n",
    "print(f' Total hours to be worked to produce products internally: {total_hours_products}')\n",
    "print(f' Total hours to be worked to produce services internally: {total_hours_services}')\n",
    "print(f' Total hours to be worked to produce products and services internally: {total_hours_to_be_worked}')\n",
    "print(f' Total hours worked to produce products and services at current GDP 2022: {total_hours_worked_US}')\n",
    "print(f' Percentage increase in hours worked: {hours_increase_percentage:.2f}')\n",
    "print(f' US current workforce: {US_working_population}')\n",
    "print(f' New workforce to produce imports in the USA: {new_workforce_to_product_internally}')"
   ]
  },
  {
   "cell_type": "markdown",
   "metadata": {
    "id": "dSQQQWd0Okc9"
   },
   "source": [
    "# Provide Answer to Objective using at product level\n"
   ]
  },
  {
   "cell_type": "code",
   "execution_count": 49,
   "metadata": {
    "colab": {
     "base_uri": "https://localhost:8080/",
     "height": 206
    },
    "executionInfo": {
     "elapsed": 31,
     "status": "ok",
     "timestamp": 1731063111639,
     "user": {
      "displayName": "Oluwatobiloba Odeyemi",
      "userId": "00587895885485655319"
     },
     "user_tz": -60
    },
    "id": "-nmmem0wPhP0",
    "outputId": "9d15354d-5d72-4913-9867-ef93479dba6f"
   },
   "outputs": [
    {
     "data": {
      "text/html": [
       "<div>\n",
       "<style scoped>\n",
       "    .dataframe tbody tr th:only-of-type {\n",
       "        vertical-align: middle;\n",
       "    }\n",
       "\n",
       "    .dataframe tbody tr th {\n",
       "        vertical-align: top;\n",
       "    }\n",
       "\n",
       "    .dataframe thead th {\n",
       "        text-align: right;\n",
       "    }\n",
       "</style>\n",
       "<table border=\"1\" class=\"dataframe\">\n",
       "  <thead>\n",
       "    <tr style=\"text-align: right;\">\n",
       "      <th></th>\n",
       "      <th>partnerDesc</th>\n",
       "      <th>cmdCode</th>\n",
       "      <th>cmdDesc</th>\n",
       "      <th>country_iso3</th>\n",
       "      <th>fobvalue</th>\n",
       "    </tr>\n",
       "  </thead>\n",
       "  <tbody>\n",
       "    <tr>\n",
       "      <th>0</th>\n",
       "      <td>Afghanistan</td>\n",
       "      <td>04</td>\n",
       "      <td>Dairy produce; birds' eggs; natural honey; edi...</td>\n",
       "      <td>AFG</td>\n",
       "      <td>14916.0</td>\n",
       "    </tr>\n",
       "    <tr>\n",
       "      <th>1</th>\n",
       "      <td>Afghanistan</td>\n",
       "      <td>07</td>\n",
       "      <td>Vegetables and certain roots and tubers; edible</td>\n",
       "      <td>AFG</td>\n",
       "      <td>39966.0</td>\n",
       "    </tr>\n",
       "    <tr>\n",
       "      <th>2</th>\n",
       "      <td>Afghanistan</td>\n",
       "      <td>08</td>\n",
       "      <td>Fruit and nuts, edible; peel of citrus fruit o...</td>\n",
       "      <td>AFG</td>\n",
       "      <td>6111518.0</td>\n",
       "    </tr>\n",
       "    <tr>\n",
       "      <th>3</th>\n",
       "      <td>Afghanistan</td>\n",
       "      <td>09</td>\n",
       "      <td>Coffee, tea, mate and spices</td>\n",
       "      <td>AFG</td>\n",
       "      <td>1506451.0</td>\n",
       "    </tr>\n",
       "    <tr>\n",
       "      <th>4</th>\n",
       "      <td>Afghanistan</td>\n",
       "      <td>12</td>\n",
       "      <td>Oil seeds and oleaginous fruits; miscellaneous...</td>\n",
       "      <td>AFG</td>\n",
       "      <td>105071.0</td>\n",
       "    </tr>\n",
       "  </tbody>\n",
       "</table>\n",
       "</div>"
      ],
      "text/plain": [
       "   partnerDesc cmdCode                                            cmdDesc  \\\n",
       "0  Afghanistan      04  Dairy produce; birds' eggs; natural honey; edi...   \n",
       "1  Afghanistan      07    Vegetables and certain roots and tubers; edible   \n",
       "2  Afghanistan      08  Fruit and nuts, edible; peel of citrus fruit o...   \n",
       "3  Afghanistan      09                       Coffee, tea, mate and spices   \n",
       "4  Afghanistan      12  Oil seeds and oleaginous fruits; miscellaneous...   \n",
       "\n",
       "  country_iso3   fobvalue  \n",
       "0          AFG    14916.0  \n",
       "1          AFG    39966.0  \n",
       "2          AFG  6111518.0  \n",
       "3          AFG  1506451.0  \n",
       "4          AFG   105071.0  "
      ]
     },
     "execution_count": 49,
     "metadata": {},
     "output_type": "execute_result"
    }
   ],
   "source": [
    "# rename column partnerISO to country_iso3\n",
    "partner_cmdcode_export.rename(columns={'partnerISO': 'country_iso3'}, inplace=True)\n",
    "partner_cmdcode_export.head()"
   ]
  },
  {
   "cell_type": "code",
   "execution_count": 50,
   "metadata": {
    "executionInfo": {
     "elapsed": 28,
     "status": "ok",
     "timestamp": 1731063111639,
     "user": {
      "displayName": "Oluwatobiloba Odeyemi",
      "userId": "00587895885485655319"
     },
     "user_tz": -60
    },
    "id": "3zHJPKpOOrl0"
   },
   "outputs": [],
   "source": [
    "# select column that are necessary for partnet_CmdCode_export with the marged_comtrade_gdp_per_hour_per_gdpper_capita\n",
    "final_merged_gdp_per_hour_new = marged_comtrade_gdp_per_hour_per_gdpper_capita.loc[:,['country_iso3','index','GDP_per_hour']]\n",
    "final_partner_cmdcode_export = partner_cmdcode_export.loc[:,['partnerDesc','country_iso3','cmdCode','cmdDesc','fobvalue']]\n",
    "\n",
    "# Merge the partnet_CmdCode_export with the marged_comtrade_gdp_per_hour_per_gdpper_capita\n",
    "marged_product_breakdown = pd.merge(final_partner_cmdcode_export,final_merged_gdp_per_hour_new, on='country_iso3', how='left')"
   ]
  },
  {
   "cell_type": "markdown",
   "metadata": {
    "id": "lxMsDi7KUGX4"
   },
   "source": [
    "## calculate and create constant_usd and total_hours_needed_to_produce_in_USA columns"
   ]
  },
  {
   "cell_type": "code",
   "execution_count": 57,
   "metadata": {
    "colab": {
     "base_uri": "https://localhost:8080/",
     "height": 452
    },
    "executionInfo": {
     "elapsed": 28,
     "status": "ok",
     "timestamp": 1731063111640,
     "user": {
      "displayName": "Oluwatobiloba Odeyemi",
      "userId": "00587895885485655319"
     },
     "user_tz": -60
    },
    "id": "oBpslRkjToJC",
    "outputId": "c37c28d4-d917-4bf6-9311-eba0e316d48b"
   },
   "outputs": [
    {
     "data": {
      "text/html": [
       "<div>\n",
       "<style scoped>\n",
       "    .dataframe tbody tr th:only-of-type {\n",
       "        vertical-align: middle;\n",
       "    }\n",
       "\n",
       "    .dataframe tbody tr th {\n",
       "        vertical-align: top;\n",
       "    }\n",
       "\n",
       "    .dataframe thead th {\n",
       "        text-align: right;\n",
       "    }\n",
       "</style>\n",
       "<table border=\"1\" class=\"dataframe\">\n",
       "  <thead>\n",
       "    <tr style=\"text-align: right;\">\n",
       "      <th></th>\n",
       "      <th>partnerDesc</th>\n",
       "      <th>country_iso3</th>\n",
       "      <th>cmdCode</th>\n",
       "      <th>cmdDesc</th>\n",
       "      <th>fobvalue</th>\n",
       "      <th>index</th>\n",
       "      <th>GDP_per_hour</th>\n",
       "      <th>constant_usd</th>\n",
       "      <th>toal_hours_needed_to_produce_in_USA</th>\n",
       "      <th>total_hours_needed_to_produce_in_USA</th>\n",
       "    </tr>\n",
       "  </thead>\n",
       "  <tbody>\n",
       "    <tr>\n",
       "      <th>0</th>\n",
       "      <td>Afghanistan</td>\n",
       "      <td>AFG</td>\n",
       "      <td>04</td>\n",
       "      <td>Dairy produce; birds' eggs; natural honey; edi...</td>\n",
       "      <td>14916.0</td>\n",
       "      <td>143.2</td>\n",
       "      <td>0.450339</td>\n",
       "      <td>1.041620e+04</td>\n",
       "      <td>2.312968e+04</td>\n",
       "      <td>2.312968e+04</td>\n",
       "    </tr>\n",
       "    <tr>\n",
       "      <th>1</th>\n",
       "      <td>Afghanistan</td>\n",
       "      <td>AFG</td>\n",
       "      <td>07</td>\n",
       "      <td>Vegetables and certain roots and tubers; edible</td>\n",
       "      <td>39966.0</td>\n",
       "      <td>143.2</td>\n",
       "      <td>0.450339</td>\n",
       "      <td>2.790922e+04</td>\n",
       "      <td>6.197378e+04</td>\n",
       "      <td>6.197378e+04</td>\n",
       "    </tr>\n",
       "    <tr>\n",
       "      <th>2</th>\n",
       "      <td>Afghanistan</td>\n",
       "      <td>AFG</td>\n",
       "      <td>08</td>\n",
       "      <td>Fruit and nuts, edible; peel of citrus fruit o...</td>\n",
       "      <td>6111518.0</td>\n",
       "      <td>143.2</td>\n",
       "      <td>0.450339</td>\n",
       "      <td>4.267820e+06</td>\n",
       "      <td>9.476902e+06</td>\n",
       "      <td>9.476902e+06</td>\n",
       "    </tr>\n",
       "    <tr>\n",
       "      <th>3</th>\n",
       "      <td>Afghanistan</td>\n",
       "      <td>AFG</td>\n",
       "      <td>09</td>\n",
       "      <td>Coffee, tea, mate and spices</td>\n",
       "      <td>1506451.0</td>\n",
       "      <td>143.2</td>\n",
       "      <td>0.450339</td>\n",
       "      <td>1.051991e+06</td>\n",
       "      <td>2.335997e+06</td>\n",
       "      <td>2.335997e+06</td>\n",
       "    </tr>\n",
       "    <tr>\n",
       "      <th>4</th>\n",
       "      <td>Afghanistan</td>\n",
       "      <td>AFG</td>\n",
       "      <td>12</td>\n",
       "      <td>Oil seeds and oleaginous fruits; miscellaneous...</td>\n",
       "      <td>105071.0</td>\n",
       "      <td>143.2</td>\n",
       "      <td>0.450339</td>\n",
       "      <td>7.337360e+04</td>\n",
       "      <td>1.629297e+05</td>\n",
       "      <td>1.629297e+05</td>\n",
       "    </tr>\n",
       "  </tbody>\n",
       "</table>\n",
       "</div>"
      ],
      "text/plain": [
       "   partnerDesc country_iso3 cmdCode  \\\n",
       "0  Afghanistan          AFG      04   \n",
       "1  Afghanistan          AFG      07   \n",
       "2  Afghanistan          AFG      08   \n",
       "3  Afghanistan          AFG      09   \n",
       "4  Afghanistan          AFG      12   \n",
       "\n",
       "                                             cmdDesc   fobvalue  index  \\\n",
       "0  Dairy produce; birds' eggs; natural honey; edi...    14916.0  143.2   \n",
       "1    Vegetables and certain roots and tubers; edible    39966.0  143.2   \n",
       "2  Fruit and nuts, edible; peel of citrus fruit o...  6111518.0  143.2   \n",
       "3                       Coffee, tea, mate and spices  1506451.0  143.2   \n",
       "4  Oil seeds and oleaginous fruits; miscellaneous...   105071.0  143.2   \n",
       "\n",
       "   GDP_per_hour  constant_usd  toal_hours_needed_to_produce_in_USA  \\\n",
       "0      0.450339  1.041620e+04                         2.312968e+04   \n",
       "1      0.450339  2.790922e+04                         6.197378e+04   \n",
       "2      0.450339  4.267820e+06                         9.476902e+06   \n",
       "3      0.450339  1.051991e+06                         2.335997e+06   \n",
       "4      0.450339  7.337360e+04                         1.629297e+05   \n",
       "\n",
       "   total_hours_needed_to_produce_in_USA  \n",
       "0                          2.312968e+04  \n",
       "1                          6.197378e+04  \n",
       "2                          9.476902e+06  \n",
       "3                          2.335997e+06  \n",
       "4                          1.629297e+05  "
      ]
     },
     "execution_count": 57,
     "metadata": {},
     "output_type": "execute_result"
    }
   ],
   "source": [
    "# constant_usd\n",
    "marged_product_breakdown['constant_usd'] = marged_product_breakdown['fobvalue'] / (marged_product_breakdown['index']) * 100\n",
    "\n",
    "# toal_hours_needed_to_produce_in_USA\n",
    "marged_product_breakdown['total_hours_needed_to_produce_in_USA'] = marged_product_breakdown['constant_usd'] / marged_product_breakdown['GDP_per_hour']\n",
    "marged_product_breakdown.head()"
   ]
  },
  {
   "cell_type": "code",
   "execution_count": 58,
   "metadata": {
    "colab": {
     "base_uri": "https://localhost:8080/"
    },
    "executionInfo": {
     "elapsed": 26,
     "status": "ok",
     "timestamp": 1731063111640,
     "user": {
      "displayName": "Oluwatobiloba Odeyemi",
      "userId": "00587895885485655319"
     },
     "user_tz": -60
    },
    "id": "b5wptDxRqdR-",
    "outputId": "69907cda-8243-42e9-c9ee-e0bfc7145e9b"
   },
   "outputs": [
    {
     "data": {
      "text/plain": [
       "['04',\n",
       " '07',\n",
       " '08',\n",
       " '09',\n",
       " '12',\n",
       " '17',\n",
       " '19',\n",
       " '20',\n",
       " '21',\n",
       " '22',\n",
       " '24',\n",
       " '25',\n",
       " '32',\n",
       " '33',\n",
       " '39',\n",
       " '40',\n",
       " '42',\n",
       " '46',\n",
       " '48',\n",
       " '49',\n",
       " '54',\n",
       " '57',\n",
       " '58',\n",
       " '61',\n",
       " '62',\n",
       " '63',\n",
       " '64',\n",
       " '68',\n",
       " '71',\n",
       " '73',\n",
       " '74',\n",
       " '76',\n",
       " '83',\n",
       " '84',\n",
       " '85',\n",
       " '90',\n",
       " '94',\n",
       " '97',\n",
       " '99',\n",
       " '03',\n",
       " '06',\n",
       " '10',\n",
       " '11',\n",
       " '15',\n",
       " '16',\n",
       " '18',\n",
       " '27',\n",
       " '30',\n",
       " '31',\n",
       " '34',\n",
       " '37',\n",
       " '38',\n",
       " '41',\n",
       " '43',\n",
       " '44',\n",
       " '55',\n",
       " '56',\n",
       " '65',\n",
       " '69',\n",
       " '70',\n",
       " '72',\n",
       " '82',\n",
       " '87',\n",
       " '92',\n",
       " '96',\n",
       " '28',\n",
       " '29',\n",
       " '81',\n",
       " '86',\n",
       " '88',\n",
       " '95',\n",
       " '01',\n",
       " '02',\n",
       " '05',\n",
       " '13',\n",
       " '14',\n",
       " '23',\n",
       " '35',\n",
       " '36',\n",
       " '45',\n",
       " '51',\n",
       " '52',\n",
       " '59',\n",
       " '60',\n",
       " '66',\n",
       " '67',\n",
       " '78',\n",
       " '80',\n",
       " '89',\n",
       " '91',\n",
       " '93',\n",
       " '26',\n",
       " '53',\n",
       " '75',\n",
       " '79',\n",
       " '50',\n",
       " '47']"
      ]
     },
     "execution_count": 58,
     "metadata": {},
     "output_type": "execute_result"
    }
   ],
   "source": [
    "# list for product code\n",
    "list(marged_product_breakdown['cmdCode'].unique())"
   ]
  },
  {
   "cell_type": "code",
   "execution_count": 59,
   "metadata": {
    "colab": {
     "base_uri": "https://localhost:8080/"
    },
    "executionInfo": {
     "elapsed": 483,
     "status": "ok",
     "timestamp": 1731060635458,
     "user": {
      "displayName": "Oluwatobiloba Odeyemi",
      "userId": "00587895885485655319"
     },
     "user_tz": -60
    },
    "id": "uBU0bBIvqpBJ",
    "outputId": "d72dfefa-a088-4f90-8783-d3c35c5b9192"
   },
   "outputs": [
    {
     "data": {
      "text/plain": [
       "['AFG',\n",
       " 'ALB',\n",
       " 'DZA',\n",
       " 'AND',\n",
       " 'AGO',\n",
       " 'AIA',\n",
       " 'ATG',\n",
       " 'ARG',\n",
       " 'ARM',\n",
       " 'ABW',\n",
       " 'AUS',\n",
       " 'AUT',\n",
       " 'AZE',\n",
       " 'BHS',\n",
       " 'BHR',\n",
       " 'BGD',\n",
       " 'BRB',\n",
       " 'BLR',\n",
       " 'BEL',\n",
       " 'BLZ',\n",
       " 'BEN',\n",
       " 'BMU',\n",
       " 'BTN',\n",
       " 'BOL',\n",
       " 'BIH',\n",
       " 'BWA',\n",
       " 'IOT',\n",
       " 'VGB',\n",
       " 'BRA',\n",
       " 'BRN',\n",
       " 'BGR',\n",
       " 'BFA',\n",
       " 'BDI',\n",
       " 'CPV',\n",
       " 'KHM',\n",
       " 'CMR',\n",
       " 'CAN',\n",
       " 'CYM',\n",
       " 'CAF',\n",
       " 'TCD',\n",
       " 'CHL',\n",
       " 'CHN',\n",
       " 'HKG',\n",
       " 'MAC',\n",
       " 'CXR',\n",
       " 'CCK',\n",
       " 'COL',\n",
       " 'COM',\n",
       " 'COG',\n",
       " 'COK',\n",
       " 'CRI',\n",
       " 'HRV',\n",
       " 'CUB',\n",
       " 'CUW',\n",
       " 'CYP',\n",
       " 'CZE',\n",
       " 'CIV',\n",
       " 'PRK',\n",
       " 'COD',\n",
       " 'DNK',\n",
       " 'DJI',\n",
       " 'DMA',\n",
       " 'DOM',\n",
       " 'ECU',\n",
       " 'EGY',\n",
       " 'SLV',\n",
       " 'GNQ',\n",
       " 'ERI',\n",
       " 'EST',\n",
       " 'SWZ',\n",
       " 'ETH',\n",
       " 'FSM',\n",
       " 'FLK',\n",
       " 'FJI',\n",
       " 'FIN',\n",
       " 'ATF',\n",
       " 'FRA',\n",
       " 'PYF',\n",
       " 'GAB',\n",
       " 'GMB',\n",
       " 'GEO',\n",
       " 'DEU',\n",
       " 'GHA',\n",
       " 'GIB',\n",
       " 'GRC',\n",
       " 'GRL',\n",
       " 'GRD',\n",
       " 'GTM',\n",
       " 'GIN',\n",
       " 'GNB',\n",
       " 'GUY',\n",
       " 'HTI',\n",
       " 'HND',\n",
       " 'HUN',\n",
       " 'ISL',\n",
       " 'IND',\n",
       " 'IDN',\n",
       " 'IRN',\n",
       " 'IRQ',\n",
       " 'IRL',\n",
       " 'ISR',\n",
       " 'ITA',\n",
       " 'JAM',\n",
       " 'JPN',\n",
       " 'JOR',\n",
       " 'KAZ',\n",
       " 'KEN',\n",
       " 'KIR',\n",
       " 'KWT',\n",
       " 'KGZ',\n",
       " 'LAO',\n",
       " 'LVA',\n",
       " 'LBN',\n",
       " 'LSO',\n",
       " 'LBR',\n",
       " 'LBY',\n",
       " 'LTU',\n",
       " 'LUX',\n",
       " 'MDG',\n",
       " 'MWI',\n",
       " 'MYS',\n",
       " 'MDV',\n",
       " 'MLI',\n",
       " 'MLT',\n",
       " 'MHL',\n",
       " 'MRT',\n",
       " 'MUS',\n",
       " 'MEX',\n",
       " 'MNG',\n",
       " 'MNE',\n",
       " 'MSR',\n",
       " 'MAR',\n",
       " 'MOZ',\n",
       " 'MMR',\n",
       " 'NAM',\n",
       " 'NRU',\n",
       " 'NPL',\n",
       " 'NLD',\n",
       " 'NCL',\n",
       " 'NZL',\n",
       " 'NIC',\n",
       " 'NER',\n",
       " 'NGA',\n",
       " 'NIU',\n",
       " 'NFK',\n",
       " 'MKD',\n",
       " 'NOR',\n",
       " 'OMN',\n",
       " 'S19',\n",
       " 'PAK',\n",
       " 'PLW',\n",
       " 'PAN',\n",
       " 'PNG',\n",
       " 'PRY',\n",
       " 'PER',\n",
       " 'PHL',\n",
       " 'PCN',\n",
       " 'POL',\n",
       " 'PRT',\n",
       " 'QAT',\n",
       " 'KOR',\n",
       " 'MDA',\n",
       " 'ROU',\n",
       " 'RUS',\n",
       " 'RWA',\n",
       " 'SHN',\n",
       " 'KNA',\n",
       " 'LCA',\n",
       " 'SPM',\n",
       " 'VCT',\n",
       " 'WSM',\n",
       " 'SMR',\n",
       " 'STP',\n",
       " 'SAU',\n",
       " 'SEN',\n",
       " 'SRB',\n",
       " 'SYC',\n",
       " 'SLE',\n",
       " 'SGP',\n",
       " 'SXM',\n",
       " 'SVK',\n",
       " 'SVN',\n",
       " 'SLB',\n",
       " 'SOM',\n",
       " 'ZAF',\n",
       " 'SSD',\n",
       " 'ESP',\n",
       " 'LKA',\n",
       " 'PSE',\n",
       " 'SDN',\n",
       " 'SUR',\n",
       " 'SWE',\n",
       " 'CHE',\n",
       " 'SYR',\n",
       " 'TJK',\n",
       " 'THA',\n",
       " 'TLS',\n",
       " 'TGO',\n",
       " 'TKL',\n",
       " 'TON',\n",
       " 'TTO',\n",
       " 'TUN',\n",
       " 'TKM',\n",
       " 'TCA',\n",
       " 'TUV',\n",
       " 'TUR',\n",
       " 'UGA',\n",
       " 'UKR',\n",
       " 'ARE',\n",
       " 'GBR',\n",
       " 'TZA',\n",
       " 'URY',\n",
       " 'UZB',\n",
       " 'VUT',\n",
       " 'VEN',\n",
       " 'VNM',\n",
       " 'WLF',\n",
       " 'YEM',\n",
       " 'ZMB',\n",
       " 'ZWE']"
      ]
     },
     "execution_count": 59,
     "metadata": {},
     "output_type": "execute_result"
    }
   ],
   "source": [
    "# list for country_iso3\n",
    "list(marged_product_breakdown['country_iso3'].unique())"
   ]
  },
  {
   "cell_type": "markdown",
   "metadata": {
    "id": "RJNwddVZVJzp"
   },
   "source": [
    "##  function to caluate labor force increase based on any product selected"
   ]
  },
  {
   "cell_type": "code",
   "execution_count": null,
   "metadata": {
    "executionInfo": {
     "elapsed": 352,
     "status": "ok",
     "timestamp": 1731063116105,
     "user": {
      "displayName": "Oluwatobiloba Odeyemi",
      "userId": "00587895885485655319"
     },
     "user_tz": -60
    },
    "id": "2MC45qzrVIjT"
   },
   "outputs": [],
   "source": [
    "# new_labor_force function\n",
    "\n",
    "def new_labor_force(df, product_code= None, country_iso3 = None):\n",
    "    new_df = df.copy()\n",
    "\n",
    "# Search by Product Code\n",
    "    if product_code is not None:\n",
    "        new_df = new_df[new_df['cmdCode'] == product_code]\n",
    "        if new_df.empty:\n",
    "          print(f'product code {product_code} does not exist')\n",
    "        else:\n",
    "          total_hours_worked_US = final_merged_data[final_merged_data['country_iso3'] == 'USA']['total_yearly_hours'].sum()\n",
    "          product_df = new_df[new_df['cmdCode']== product_code]['total_hours_needed_to_produce_in_USA'].sum()\n",
    "          cmd_desc = new_df[new_df['cmdCode'] == product_code]['cmdDesc'].iloc[0]\n",
    "          hours_increase_percentage = (product_df  / total_hours_worked_US) *100\n",
    "          new_labor_force = US_working_population * (1 + (hours_increase_percentage / 100))\n",
    "\n",
    "          dic = {\n",
    "              'cmdDesc': cmd_desc,\n",
    "              'product_code': product_code,\n",
    "              'total_hours_needed_to_produce_in_USA': product_df,\n",
    "              'total_hours_worked_US': total_hours_worked_US,\n",
    "              'hours_increase_percentage': hours_increase_percentage,\n",
    "              'US_working_population': US_working_population,\n",
    "              'new_labor_force': new_labor_force\n",
    "          }\n",
    "\n",
    "          return dic\n",
    "\n",
    "# search by country code\n",
    "    elif country_iso3 is not None:\n",
    "      new_df = new_df[new_df['country_iso3'] == country_iso3]\n",
    "      if new_df.empty:\n",
    "        print(f'country_iso3 {country_iso3} does not exist')\n",
    "      else:\n",
    "        total_hours_worked_US = final_merged_data[final_merged_data['country_iso3'] == 'USA']['total_yearly_hours'].sum()\n",
    "        product_df = new_df[new_df['country_iso3'] == country_iso3]['total_hours_needed_to_produce_in_USA'].sum()\n",
    "        partnerDesc = new_df[new_df['country_iso3'] == country_iso3]['partnerDesc'].iloc[0]\n",
    "        hours_increase_percentage = (product_df  / total_hours_worked_US) *100\n",
    "        new_labor_force = US_working_population * (1 + (hours_increase_percentage / 100))\n",
    "\n",
    "        dic = {\n",
    "            'partnerDesc': partnerDesc,\n",
    "            'total_hours_needed_to_produce_in_USA': product_df,\n",
    "            'total_hours_worked_US': total_hours_worked_US,\n",
    "            'hours_increase_percentage': hours_increase_percentage,\n",
    "            'US_working_population': US_working_population,\n",
    "            'new_labor_force': new_labor_force\n",
    "        }\n",
    "\n",
    "        return dic"
   ]
  },
  {
   "cell_type": "code",
   "execution_count": 61,
   "metadata": {
    "colab": {
     "base_uri": "https://localhost:8080/"
    },
    "executionInfo": {
     "elapsed": 313,
     "status": "ok",
     "timestamp": 1731063118310,
     "user": {
      "displayName": "Oluwatobiloba Odeyemi",
      "userId": "00587895885485655319"
     },
     "user_tz": -60
    },
    "id": "O5xsP08xYfsl",
    "outputId": "0af49f8f-5e48-4df2-eadf-56eafb80ae32"
   },
   "outputs": [
    {
     "data": {
      "text/plain": [
       "{'partnerDesc': 'Niue',\n",
       " 'total_hours_needed_to_produce_in_USA': np.float64(212302.96376673187),\n",
       " 'total_hours_worked_US': np.float64(523670559867.00006),\n",
       " 'hours_increase_percentage': np.float64(4.0541321211689236e-05),\n",
       " 'US_working_population': np.float64(263973465.00000003),\n",
       " 'new_labor_force': np.float64(263973572.0183304)}"
      ]
     },
     "execution_count": 61,
     "metadata": {},
     "output_type": "execute_result"
    }
   ],
   "source": [
    "product_labor_force_increase = new_labor_force(marged_product_breakdown,None,'NIU')\n",
    "product_labor_force_increase"
   ]
  }
 ],
 "metadata": {
  "colab": {
   "provenance": []
  },
  "kernelspec": {
   "display_name": "Python 3",
   "language": "python",
   "name": "python3"
  },
  "language_info": {
   "codemirror_mode": {
    "name": "ipython",
    "version": 3
   },
   "file_extension": ".py",
   "mimetype": "text/x-python",
   "name": "python",
   "nbconvert_exporter": "python",
   "pygments_lexer": "ipython3",
   "version": "3.11.9"
  }
 },
 "nbformat": 4,
 "nbformat_minor": 0
}
